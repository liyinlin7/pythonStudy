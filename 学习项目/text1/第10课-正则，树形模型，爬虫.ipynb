{
 "cells": [
  {
   "cell_type": "code",
   "execution_count": null,
   "metadata": {},
   "outputs": [],
   "source": [
    "from IPython.core.interactiveshell import InteractiveShell\n",
    "InteractiveShell.ast_node_interactivity='all'"
   ]
  },
  {
   "cell_type": "code",
   "execution_count": null,
   "metadata": {},
   "outputs": [],
   "source": [
    "import re\n",
    "import sys"
   ]
  },
  {
   "cell_type": "code",
   "execution_count": null,
   "metadata": {},
   "outputs": [],
   "source": [
    "re_desc='''\n",
    "asasdsfsdjfklsjfljlkjldkjfa;skdlfjlkasdabavabcasd\n",
    "'''"
   ]
  },
  {
   "cell_type": "markdown",
   "metadata": {},
   "source": [
    "### r\"匹配规则\""
   ]
  },
  {
   "cell_type": "code",
   "execution_count": null,
   "metadata": {},
   "outputs": [],
   "source": [
    "search_result=re.search(r\"abc\",re_desc)\n",
    "search_result.group(0)"
   ]
  },
  {
   "cell_type": "code",
   "execution_count": null,
   "metadata": {},
   "outputs": [],
   "source": [
    "##支持反复使用，compile会做优化，程序执行会更快\n",
    "pattern=re.compile(r\"asd\")\n",
    "search_result=pattern.search(re_desc)\n",
    "search_result.group(0)"
   ]
  },
  {
   "cell_type": "code",
   "execution_count": null,
   "metadata": {},
   "outputs": [],
   "source": [
    "search_result=re.findall(r\"a\\w*\",re_desc)\n",
    "search_result"
   ]
  },
  {
   "cell_type": "code",
   "execution_count": null,
   "metadata": {},
   "outputs": [],
   "source": [
    "search_result=re.findall(r\"a\\w*|s\\w*\",re_desc)\n",
    "search_result"
   ]
  },
  {
   "cell_type": "code",
   "execution_count": null,
   "metadata": {},
   "outputs": [],
   "source": [
    "search_result=re.findall(r\"(as){2}\",re_desc)\n",
    "search_result"
   ]
  },
  {
   "cell_type": "markdown",
   "metadata": {},
   "source": [
    "# 汉子的提取方式"
   ]
  },
  {
   "cell_type": "markdown",
   "metadata": {},
   "source": [
    "# beautifulSoup"
   ]
  },
  {
   "cell_type": "code",
   "execution_count": 1,
   "metadata": {},
   "outputs": [],
   "source": [
    "import sys\n",
    "import requests\n",
    "import json"
   ]
  },
  {
   "cell_type": "code",
   "execution_count": 2,
   "metadata": {},
   "outputs": [],
   "source": [
    "from bs4 import BeautifulSoup as bs\n",
    "from contextlib import closing\n",
    "import urllib\n",
    "import re"
   ]
  },
  {
   "cell_type": "code",
   "execution_count": 13,
   "metadata": {},
   "outputs": [],
   "source": [
    "html=\"\"\"\n",
    "<html><head><title>番剧 - 哔哩哔哩 (゜-゜)つロ 干杯~-bilibili</title></head>\n",
    "<body>\n",
    "<li class=\"on\"><a href=\"javascript:;\">全部</a></li>\n",
    "<li><a href=\"//www.bilibili.com/v/anime/serial/\">连载动画</a></li>\n",
    "<li><a href=\"//www.bilibili.com/v/anime/finish/\">完结动画</a></li>\n",
    "<li><a href=\"//www.bilibili.com/v/anime/information/\">资讯</a></li>\n",
    "<li><a href=\"//www.bilibili.com/v/anime/offical/\">官方延伸</a></li>\n",
    "<li><a href=\"//www.bilibili.com/anime/timeline/\">新番时间表</a></li>\n",
    "<li><a href=\"//www.bilibili.com/anime/index/\">番剧索引</a></li></ul></div> <!---->\n",
    "<span><a href=\"https://www.bilibili.com/blackboard/activity-WKQX4Vz6y.html\" target=\"_blank\"><!---->五姐妹の应援邀请</a></span>\n",
    "<span style=\"display:none;\">\n",
    "<a href=\"https://www.bilibili.com/blackboard/activity-WKQX4Vz6y.html\" target=\"_blank\"><!---->田叔的圣洲之旅</a>\n",
    "</span>\n",
    "<span style=\"display:none;\">\n",
    "<a href=\"https://www.bilibili.com/blackboard/activity-WKQX4Vz6y.html\" target=\"_blank\"><!---->她向天才所期望的东西即是[X]</a>\n",
    "</span>\n",
    "<span style=\"display:none;\">\n",
    "<a href=\"https://www.bilibili.com/blackboard/activity-WKQX4Vz6y.html\" target=\"_blank\"><!---->最终选拔</a>\n",
    "</span>\n",
    "</body>\n",
    "</html>\n",
    "\"\"\""
   ]
  },
  {
   "cell_type": "code",
   "execution_count": 14,
   "metadata": {},
   "outputs": [],
   "source": [
    "soup = bs(html,'html.parser')"
   ]
  },
  {
   "cell_type": "code",
   "execution_count": 15,
   "metadata": {
    "collapsed": true
   },
   "outputs": [
    {
     "name": "stdout",
     "output_type": "stream",
     "text": [
      "<html>\n",
      " <head>\n",
      "  <title>\n",
      "   番剧 - 哔哩哔哩 (゜-゜)つロ 干杯~-bilibili\n",
      "  </title>\n",
      " </head>\n",
      " <body>\n",
      "  <li class=\"on\">\n",
      "   <a href=\"javascript:;\">\n",
      "    全部\n",
      "   </a>\n",
      "  </li>\n",
      "  <li>\n",
      "   <a href=\"//www.bilibili.com/v/anime/serial/\">\n",
      "    连载动画\n",
      "   </a>\n",
      "  </li>\n",
      "  <li>\n",
      "   <a href=\"//www.bilibili.com/v/anime/finish/\">\n",
      "    完结动画\n",
      "   </a>\n",
      "  </li>\n",
      "  <li>\n",
      "   <a href=\"//www.bilibili.com/v/anime/information/\">\n",
      "    资讯\n",
      "   </a>\n",
      "  </li>\n",
      "  <li>\n",
      "   <a href=\"//www.bilibili.com/v/anime/offical/\">\n",
      "    官方延伸\n",
      "   </a>\n",
      "  </li>\n",
      "  <li>\n",
      "   <a href=\"//www.bilibili.com/anime/timeline/\">\n",
      "    新番时间表\n",
      "   </a>\n",
      "  </li>\n",
      "  <li>\n",
      "   <a href=\"//www.bilibili.com/anime/index/\">\n",
      "    番剧索引\n",
      "   </a>\n",
      "  </li>\n",
      " </body>\n",
      "</html>\n",
      "<!-- -->\n",
      "<span>\n",
      " <a href=\"https://www.bilibili.com/blackboard/activity-WKQX4Vz6y.html\" target=\"_blank\">\n",
      "  <!-- -->\n",
      "  五姐妹の应援邀请\n",
      " </a>\n",
      "</span>\n",
      "<span style=\"display:none;\">\n",
      " <a href=\"https://www.bilibili.com/blackboard/activity-WKQX4Vz6y.html\" target=\"_blank\">\n",
      "  <!-- -->\n",
      "  田叔的圣洲之旅\n",
      " </a>\n",
      "</span>\n",
      "<span style=\"display:none;\">\n",
      " <a href=\"https://www.bilibili.com/blackboard/activity-WKQX4Vz6y.html\" target=\"_blank\">\n",
      "  <!-- -->\n",
      "  她向天才所期望的东西即是[X]\n",
      " </a>\n",
      "</span>\n",
      "<span style=\"display:none;\">\n",
      " <a href=\"https://www.bilibili.com/blackboard/activity-WKQX4Vz6y.html\" target=\"_blank\">\n",
      "  <!-- -->\n",
      "  最终选拔\n",
      " </a>\n",
      "</span>\n",
      "\n"
     ]
    }
   ],
   "source": [
    "print(soup.prettify())"
   ]
  },
  {
   "cell_type": "code",
   "execution_count": 16,
   "metadata": {},
   "outputs": [
    {
     "data": {
      "text/plain": [
       "'\\n番剧 - 哔哩哔哩 (゜-゜)つロ 干杯~-bilibili\\n\\n全部\\n连载动画\\n完结动画\\n资讯\\n官方延伸\\n新番时间表\\n番剧索引 \\n五姐妹の应援邀请\\n\\n田叔的圣洲之旅\\n\\n\\n她向天才所期望的东西即是[X]\\n\\n\\n最终选拔\\n\\n\\n\\n'"
      ]
     },
     "execution_count": 16,
     "metadata": {},
     "output_type": "execute_result"
    }
   ],
   "source": [
    "soup.text"
   ]
  },
  {
   "cell_type": "code",
   "execution_count": 18,
   "metadata": {},
   "outputs": [
    {
     "name": "stdout",
     "output_type": "stream",
     "text": [
      "[<a href=\"javascript:;\">全部</a>, <a href=\"//www.bilibili.com/v/anime/serial/\">连载动画</a>, <a href=\"//www.bilibili.com/v/anime/finish/\">完结动画</a>, <a href=\"//www.bilibili.com/v/anime/information/\">资讯</a>, <a href=\"//www.bilibili.com/v/anime/offical/\">官方延伸</a>, <a href=\"//www.bilibili.com/anime/timeline/\">新番时间表</a>, <a href=\"//www.bilibili.com/anime/index/\">番剧索引</a>, <a href=\"https://www.bilibili.com/blackboard/activity-WKQX4Vz6y.html\" target=\"_blank\"><!-- -->五姐妹の应援邀请</a>, <a href=\"https://www.bilibili.com/blackboard/activity-WKQX4Vz6y.html\" target=\"_blank\"><!-- -->田叔的圣洲之旅</a>, <a href=\"https://www.bilibili.com/blackboard/activity-WKQX4Vz6y.html\" target=\"_blank\"><!-- -->她向天才所期望的东西即是[X]</a>, <a href=\"https://www.bilibili.com/blackboard/activity-WKQX4Vz6y.html\" target=\"_blank\"><!-- -->最终选拔</a>]\n"
     ]
    }
   ],
   "source": [
    "all_a=soup.find_all(\"a\")\n",
    "print(all_a)"
   ]
  },
  {
   "cell_type": "code",
   "execution_count": 20,
   "metadata": {},
   "outputs": [
    {
     "data": {
      "text/plain": [
       "'//www.bilibili.com/v/anime/serial/'"
      ]
     },
     "execution_count": 20,
     "metadata": {},
     "output_type": "execute_result"
    }
   ],
   "source": [
    "all_a[1][\"href\"]"
   ]
  },
  {
   "cell_type": "code",
   "execution_count": 21,
   "metadata": {},
   "outputs": [],
   "source": [
    "from bs4 import BeautifulSoup as bs\n",
    "import urllib.request\n",
    "import requests"
   ]
  },
  {
   "cell_type": "code",
   "execution_count": 23,
   "metadata": {},
   "outputs": [
    {
     "data": {
      "text/plain": [
       "'<!DOCTYPE html>\\n<html lang=\"zh-Hans\">\\n <head>\\n  <title data-vue-meta=\"true\">\\n   连载动画 - 哔哩哔哩 (゜-゜)つロ 干杯~-bilibili\\n  </title>\\n  <meta charset=\"utf-8\" content=\"text/html\" data-vue-meta=\"true\" http-equiv=\"Content-Type\"/>\\n  <meta content=\"webkit\" data-vue-meta=\"true\" name=\"renderer\"/>\\n  <meta content=\"IE=edge\" data-vue-meta=\"true\" http-equiv=\"X-UA-Compatible\"/>\\n  <meta content=\"333.109\" data-vue-meta=\"true\" name=\"spm_prefix\"/>\\n  <meta content=\"\" data-vue-meta=\"true\" itemprop=\"keywords\" name=\"keywords\"/>\\n  <meta content=\"bilibili是国内知名的视频弹幕网站，这里有最及时的动漫新番，最棒的ACG氛围，最有创意的Up主。大家可以在这里找到许多欢乐。\" data-vue-meta=\"true\" itemprop=\"description\" name=\"description\"/>\\n  <link href=\"//s1.hdslb.com\" rel=\"dns-prefetch\"/>\\n  <link href=\"//i0.hdslb.com\" rel=\"dns-prefetch\"/>\\n  <link href=\"//i1.hdslb.com\" rel=\"dns-prefetch\"/>\\n  <link href=\"//i2.hdslb.com\" rel=\"dns-prefetch\"/>\\n  <link href=\"//static.hdslb.com\" rel=\"dns-prefetch\"/>\\n  <link href=\"//static.hdslb.com/images/favicon.ico\" rel=\"shortcut icon\"/>\\n  <link href='"
      ]
     },
     "execution_count": 23,
     "metadata": {},
     "output_type": "execute_result"
    }
   ],
   "source": [
    "r=requests.get(\"http://www.bilibili.com/v/anime/serial/\")\n",
    "soup=bs(r.text,\"lxml\")\n",
    "soup.prettify()[0:1000]"
   ]
  },
  {
   "cell_type": "markdown",
   "metadata": {},
   "source": [
    "# 爬虫"
   ]
  },
  {
   "cell_type": "code",
   "execution_count": 24,
   "metadata": {},
   "outputs": [],
   "source": [
    "from bs4 import BeautifulSoup\n",
    "import urllib\n",
    "import re\n",
    "import pandas as pd\n",
    "import requests\n",
    "from urllib.request import urlopen\n",
    "from urllib.parse import urlparse\n",
    "import os"
   ]
  },
  {
   "cell_type": "code",
   "execution_count": 56,
   "metadata": {},
   "outputs": [],
   "source": [
    "def search_on_baidu(keywords):\n",
    "    baidu_search=\"http://www.baidu.com/s?wd=\"+keywords\n",
    "    baidu_response=requests.get(baidu_search)\n",
    "    return baidu_response.text"
   ]
  },
  {
   "cell_type": "code",
   "execution_count": 57,
   "metadata": {},
   "outputs": [],
   "source": [
    "seed_page=search_on_baidu(\"王者荣耀\")"
   ]
  },
  {
   "cell_type": "code",
   "execution_count": 58,
   "metadata": {},
   "outputs": [],
   "source": [
    "seed_page=search_on_baidu(\"王者荣耀\")\n",
    "soup=BeautifulSoup(seed_page,\"lxml\")"
   ]
  },
  {
   "cell_type": "code",
   "execution_count": 59,
   "metadata": {},
   "outputs": [],
   "source": [
    "##截取所有的div\n",
    "all_result=soup.find_all(\"div\",attrs={\"class\":[\"result\"]})"
   ]
  },
  {
   "cell_type": "code",
   "execution_count": 60,
   "metadata": {},
   "outputs": [],
   "source": [
    "##在div中的a标签截取href，包含有href和data-click\n",
    "all_seeds=[item[\"href\"]\n",
    "            for result in all_result\n",
    "            for item in result.find_all(\"a\")\n",
    "            if \"href\" in item.attrs and \"data-click\" in item.attrs]"
   ]
  },
  {
   "cell_type": "code",
   "execution_count": 61,
   "metadata": {},
   "outputs": [],
   "source": [
    "##将http://cache和https开头的不要\n",
    "all_seeds=[seed for seed in all_seeds\n",
    "           if not seed.startswith(\"http://cache\") and not seed.startswith(\"https\")]"
   ]
  },
  {
   "cell_type": "code",
   "execution_count": 62,
   "metadata": {},
   "outputs": [
    {
     "data": {
      "text/plain": [
       "['http://www.baidu.com/link?url=oDOD-xgfBKAGOFMBgEo9gTQVGp_DTulxy-agFO_doNi',\n",
       " 'http://www.baidu.com/tools?url=http%3A%2F%2Fwww.baidu.com%2Flink%3Furl%3DoDOD-xgfBKAGOFMBgEo9gTQVGp_DTulxy-agFO_doNi&jump=http%3A%2F%2Fkoubei.baidu.com%2Fp%2Fsentry%3Ftitle%3D%02%E7%8E%8B%E8%80%85%01%E8%8D%A3%E8%80%80%03%E5%AE%98%E6%96%B9%01%E7%BD%91%E7%AB%99%01-%01%E8%85%BE%E8%AE%AF%01%E6%B8%B8%E6%88%8F%01%26q%3D%E7%8E%8B%E8%80%85%E8%8D%A3%E8%80%80%26from%3Dps_pc4&key=surl',\n",
       " 'http://www.baidu.com/link?url=0dk1j-Uo3fJChfx-qAvgEjL7-N3yAqlmcavE47ZsCzgQyjugiGxSpURI4qSew3YHWu269i0AeVgVAYSvd-h-Qa',\n",
       " 'http://www.baidu.com/link?url=Rxd8GOzvCJsps4W4b-0n2IgVjo1bsNU89cY6MNGFgEi2nSmpFG75te_GbKzHnLpjUD1AMu6qDzRbkPnT8b8ara',\n",
       " 'http://www.baidu.com/link?url=oSrH_j4rfZzHdtG1fELQLb6Wk2YR3YjY_fyLhFvLdxS']"
      ]
     },
     "execution_count": 62,
     "metadata": {},
     "output_type": "execute_result"
    }
   ],
   "source": [
    "all_seeds"
   ]
  },
  {
   "cell_type": "code",
   "execution_count": 63,
   "metadata": {},
   "outputs": [
    {
     "name": "stdout",
     "output_type": "stream",
     "text": [
      "<Response [200]>\n"
     ]
    }
   ],
   "source": [
    "baidu_search=\"http://www.baidu.com/link?url=01h78judZdNGTERVbEYSy7XGR1yZAwx1Y89QKpW0gC7\"\n",
    "baidu_response=requests.get(baidu_search)\n",
    "print(baidu_response)"
   ]
  },
  {
   "cell_type": "code",
   "execution_count": 64,
   "metadata": {},
   "outputs": [
    {
     "data": {
      "text/plain": [
       "'ISO-8859-1'"
      ]
     },
     "execution_count": 64,
     "metadata": {},
     "output_type": "execute_result"
    }
   ],
   "source": [
    "baidu_response.encoding"
   ]
  },
  {
   "cell_type": "code",
   "execution_count": 65,
   "metadata": {},
   "outputs": [
    {
     "data": {
      "text/plain": [
       "'<!DOCTYPE html>\\n<html lang=\"zh-CN\">\\n<head>\\n<meta charset=\"gbk\">\\r\\n<meta http-equiv=\"X-UA-Compatible\" content=\"IE=edge,chrome=1\">\\r\\n<meta name=\"robots\" content=\"all\" />\\r\\n<meta name=\"author\" content=\"Tencent-TGideas\" />\\r\\n<meta name=\"Copyright\" content=\"Tencent\" />\\r\\n<meta name=\"description\" content=\"¡¶ÍõÕßÈÙÒ«¡·ÊÇÌÚÑ¶ÌìÃÀ¹¤×÷ÊÒÍÆ³öµÄÓ¢ÐÛ¾º¼¼ÊÖÓÎ£¬²»ÊÇÒ»¸öÈËµÄÍõÕß£¬¶øÊÇÍÅ¶ÓµÄÈÙÒ«£¡5v5ÍõÕßÏ¿¹ÈPVP¶ÔÕ½£¬ÁìÂÔÓ¢ÐÛ¾º¼¼µÄº¨³©ÁÜÀì£¡¸üÓÐ±ß¾³Í»Î§¡¢Îå¾ü¶Ô¾öµÈ·á¸»µÄÓÎÏ·Ä£Ê½£¬ÌåÑéÍ»ÆÆ´«Í³¡¢Ó¢ÐÛ¾º¼¼ÐÂÐÎÌ¬£¡\" />\\r\\n<meta name=\"keywords\" content=\"ÍõÕßÈÙÒ«,ÍõÕßÈÙÒ«ÏÂÔØ,ÍõÕßÈÙÒ«µçÄÔ°æ\" />\\n<title>ÍõÕßÈÙÒ«¹Ù·½ÍøÕ¾-ÌÚÑ¶ÓÎÏ·</title>\\n<!-- Ò³ÃæÉè¼Æ£ºalvinxin | Ò³ÃæÖÆ×÷£ºsonichuang | ´´½¨£º2017-06-06 | ÍÅ¶Ó²©¿Í£º//tgideas.qq.com/ test-->\\n\\t\\t<meta name=\"baidu-site-verification\" content=\"6zFCAGAmfZ\" />\\n\\t\\t<link rel=\"stylesheet\" href=\"//game.gtimg.cn/images/yxzj/web201706/css/tganime.min.css\">\\n<style>\\n/*------reset------*/\\nbody,dl,dd,ul,ol,h1,h2,h3,h4,h5,h6,p,form{margin:0;}\\nh1,h2,h3,h4,h5,h6{font-size:100%;}\\nem,i,b{font-style:normal;}\\nul,ol{list-style:none;}\\na{text-decoration:none;color:#363636;}\\na:hover{text-decoration:none;}\\nimg{display:block;border:0;border-radius:2px 2px 2px 2px;}\\nbutton,input,select,textarea{font-size:100%;outline:none;}\\ntextarea{resize:none;}\\ntable{border-collapse:collapse;border-spacing:0;}\\ntd,th,ul,ol{padding:0;}\\ncite{font-style:normal;}\\n/*------common------*/\\n.pr{position:relative}\\n.pa{position:absolute}\\n.fl{float:left}\\n.fr{float:right}\\n.clearfix{zoom:1}\\n.clearfix:after{content:\\'\\\\20\\';display:block;height:0;line-height:0;visibility:hidden;clear:both}\\n.none{display:none}\\n.ht{overflow:hidden;text-indent:-9999px;text-decoration:none}\\n.fb{font-weight:bold}\\n.fn{font-weight:normal}\\n.f12{font-size:12px}\\n.f16{font-size:16px}\\n.f22{font-size:22px}\\n.tc{text-align:center}\\n.tr{text-align:right}\\n/*----ËØ²Ä---*/\\n.spr {background:url(//game.gtimg.cn/images/yxzj/web201605/main/spr.png) no-repeat;}\\n.logo1 {width:285px;height:64px;}\\n.logo2 {width:70px;height:64px;background-position:-285px 0;}\\n.main-nav li:hover,.download_btn,.guard_btn,.tiyan_btn,.item_title,.more_btn,.mask-play-ico,.icon_arrow,.icon_watch,.ico-play{background:url(//game.gtimg.cn/images/yxzj/web201706/images/comm/index.png) no-repeat;display:inline-block;}\\n.download_btn{width:236px;height:128px;background-position:0 -219px;}\\n.guard_btn{width:236px;height:106px;background-position:0 -350px;}\\n.tiyan_btn{width:236px;height:108px;background-position:0 -461px;}\\n.strategy_center .item_title{width:140px;height:26px;background-position:0 -106px;}\\n.skin_center .item_title{width:140px;height:25px;background-position:0 -144px;}\\n.match_center .item_title{width:140px;height:24px;background-position:0 -184px;}\\n.buy_ticket{position:absolute;top:0;right:68px;padding-left:22px;background:url(//game.gtimg.cn/images/yxzj/web201706/images/comm/index.png)no-repeat -243px -85px;color:#323235;width: 70px; height: 22px; border: 1px solid #f3c258;border-radius: 3px;box-sizing: border-box;text-indent: 10px;line-height: 19px;}\\n.more_btn{position:absolute;top:0;right:0;padding-left:22px;background:url(//game.gtimg.cn/images/yxzj/web201706/images/comm/index.png)no-repeat -252px 4px;color:#999;}\\n.icon_arrow{position:absolute;top:20px;left:42px;width:11px;height:6px;background-position:-257px  -28px;}\\n.icon_watch{width:14px;height:14px;background-position:-256px  -43px;margin-right:10px;vertical-align:middle;}\\n.arrow-ico {display:inline-block;width:7px;height:6px;margin:10px 0 0 15px;background-position:-348px -86px;}\\n/*font-face*/\\n@font-face {\\n    font-family:\\'light\\';\\n    src:url(\\'//game.gtimg.cn/images/yxzj/web201706/images/comm/light.eot\\');/* IE9 Compat Modes */\\n    src:url(\\'//game.gtimg.cn/images/yxzj/web201706/images/comm/light.eot?#iefix\\') format(\\'embedded-opentype\\'),\\n         url(\\'//game.gtimg.cn/images/yxzj/web201706/images/comm/light.woff\\') format(\\'woff\\'),\\n         url(\\'//game.gtimg.cn/images/yxzj/web201706/images/comm/light.ttf\\')  format(\\'truetype\\');\\n}\\n/*------private------*/\\nbody{padding-top:42px;background:#fff;font:14px/1.5 \"Microsoft YaHei\",Tahoma,\"simsun\",sans-serif;color:#323235;}\\n.wrapper{/*background:url(//game.gtimg.cn/images/yxzj/web201605/top_banner/bg_wrapper2.jpg) no-repeat center top;*/overflow: hidden;position:relative;min-width:1280px;}\\n.kv-bg,#kv-canvas{overflow: hidden;position:absolute;left:0;top:0;width:100%;height:1100px;background-repeat:no-repeat;background-position:center top;}\\n#kv-canvas {height: 540px;}\\n.kv-bg video{width: 1920px;height:1100px;position: absolute;left:50%;top:0;margin-left:-960px;}\\n.logo{left:0;top:16px;z-index:100;background:url(//game.gtimg.cn/images/yxzj/web201706/images/comm/logo.png) no-repeat center center;width:200px;height:54px;text-indent:-999px;overflow:hidden;}\\n.kv_link{position:absolute;z-index:3;width:240px;height:60px;top:450px;left:50%;margin-left:-120px;outline:none;text-indent:-9999px;overflow:hidden;background:url(#);}\\n/*----header----*/\\n.header{position:absolute;left:0;top:42px;width:100%;min-width:1280px;height:84px;z-index:99;background:#000;background:rgba(0,0,0,0.8);}\\n.header-inner{width:1200px;height:84px;margin:0 auto;position:relative;}\\n.header-dialog{position:absolute;left:0;top:0;z-index:9999;}\\n.sub-nav {position:absolute;top:83px;left:0;width:100%;background:#000;background:rgba(0,0,0,0.7);z-index:3;transition: all .3s ease; overflow: hidden;height: 0;box-sizing: border-box;} \\n.sub-nav-inner {width:970px;height:240px;margin:0 auto;overflow:hidden;zoom:1;padding-top:15px;padding-bottom:30px;padding: 15px 0 30px 230px;}\\n.view-btn{position:absolute;z-index:999;width:500px;height:186px;top:-190px;left:10px;outline:none;}\\n.main{position:relative;min-height:600px;z-index:2;}\\n.main-nav{width:790px;padding-left:230px;}\\n.main-nav li{float:left;width:110px;height:84px;text-align:center;}\\n.main-nav li:hover{}\\n.main-nav li:hover a{color:#e4b653;}\\n.main-nav li:hover em{color:#91763f;}\\n.main-nav a{display:block;width:110px;height:64px;padding:20px 0 0;color:#c9c9dd;font-size:18px;line-height:30px;}\\n.main-nav a:hover{text-decoration: none;}\\n.main-nav em{display:block;padding-top:5px;-webkit-transform:scale(0.95);-o-transform:scale(0.95);font-size:12px;line-height:16px;color:#858792;}\\n.login_pannel{right:0px;top:21px;width:182px;}\\n.user_pic{float:left;margin-right:7px;}\\n.user_pic img{border:1px solid #d9ad50;border-radius:42px;}\\n.per-infor{float:left;width:130px;}\\n.view-btn {position:absolute;z-index:999;width:500px;height:186px;top:-190px;left:334px;outline:none;overflow:hidden;text-indent:-9999px;text-decoration:none;}\\n.down-nav{float:left;display:inline;width:100px;padding:2px 5px 0;text-align:center;white-space:nowrap;}\\n.down-nav a{height:30px;line-height:30px;display:block;padding:0;font-size:14px;color:#c9c9dd;}\\n.down-nav a:hover{color:#f3c258;text-decoration:underline;}\\n.down-nav .down-nav-fans{padding-right:16px;}\\n.down-nav .icon-guard,.down-nav .icon-health,.down-nav .icon-fans,.down-nav .icon-hot{overflow:hidden;display:inline-block;*display:inline;*zoom:1;width:24px;height:24px;vertical-align: middle;background: url(//game.gtimg.cn/images/yxzj/web201706/images/comm/index.png) no-repeat -136px -5px;}\\n.down-nav .icon-health{background-position:-137px -36px;}\\n.down-nav .icon-fans{background-position:-137px -68px;}\\n.down-nav .icon-hot{background-position:-163px -68px;padding-right:2px;}\\n.info-box{position:relative;margin:401px auto 0;width:1200px;height:115px;background:url(//game.gtimg.cn/images/yxzj/web201605/top_banner/bg_header.png) no-repeat;}\\n.login-box{width:408px;padding:12px 10px;}\\n.unlogin_info{color:#858792;}\\n.unlogin_info a{color:#ffffff;font-size:16px;}\\n.user-name{color:#858792;white-space:nowrap;}\\n.user-name em{font-size:16px;color:#ffffff;}\\n.user-name a{color:#8ea0b0;margin-left:10px;}\\n.personal_link a{color:#8ea0b0;}\\n.userinfo-list{display:none;}\\n.userinfo-list li{float:left;display:inline;width:68px;height:46px;margin-right:2px;background:#0b3b61;border:1px solid #0c3253;border-radius:5px;overflow:hidden;}\\n.userinfo-list em{display:block;color:#b3bbc5;margin-top:3px;height:20px;overflow:hidden;}\\n.userinfo-list i{color:#406380;font-size:12px;}\\n.main{padding-top:540px;width:1200px;margin:0 auto;}\\n.main_top{width:1200px;height:342px;background:url(//game.gtimg.cn/images/yxzj/web201706/images/comm/rotate_bg.png) no-repeat left top;}\\n.rotate{width:605px;height:342px;}\\n.news_center{width:325px;height:342px;overflow:hidden;padding:0 17px;}\\n.download_pannel{width:236px;height:342px;position: relative;}\\n.download_pannel a{display:block;}\\n.tab-hd{border-bottom:1px solid #000;}\\n.tab-hd li{float:left;width:52px;font-size:14px;text-align:center;line-height:45px;height:45px;padding-bottom:3px;}\\n.tab-hd li a{display:inline-block;color:#b8b9c5;}\\n.tab-hd li.on{padding:0;border-bottom:3px solid #f3c258;}\\n.tab-hd li:hover a,.tab-hd li.on a{color:#f3c258;}\\n.newsTab{position:relative;width:325px;}\\n.tab_more{position:absolute;top:10px;right:10px;width:52px;display:block;color:#b8b9c5;text-align:center;font-size:14px;}\\n/*--ÂÖ²¥Í¼---*/\\n.promo-list {position:relative;width:3020px;height:298px;}\\n.promo-item {float:left;width:604px;height:298px;background:#000;overflow:hidden;}\\n.promo-item a, .promo-item img {display:block;width:604px;height:298px;}\\n.rotate{width:604px;height:342px;overflow:hidden;}\\n.rotate li {width:604px;height:298px;float:left;}\\n.rotate li img {display:block;width:604px;height:298px;border-radius:0;}\\n.rotate .rbox {position:absolute;bottom:0;left:0;z-index:50;width:100%;}\\n.rotate .rt {float:left;display:inline-block;width:120.8px;height:44px;line-height:44px;text-overflow:ellipsis;white-space:nowrap;overflow:hidden;cursor:pointer;text-align:center;color:#b1b2be;}\\n.rotate .rn {background:rgba(255,255,255,0.15);color:#f3c258;}\\n.btn-box{width:208px;}\\n.news-list0{display:none;}\\n.dis{display:block;}\\n.news-list li{margin-bottom:9px;overflow:hidden;}\\n.news_center  .news-list li{margin-bottom:11px;}\\n.news_center  .news-list .news-time{color:#999;}\\n.news-type{display:none;width:48px;height:19px;line-height:19px;margin-right:12px;background:#e3e3e3;border-radius:10px;border:2px solid #e3e3e3;text-align:center;color:#999999;text-indent:2px;}\\n.news-txt{width:270px;color:#b8b9c5;font-size:14px;text-overflow:ellipsis;white-space:nowrap;overflow:hidden;}\\n.news-txt:hover{text-decoration:underline;}\\n.news-time{font-size:12px;color:#b8b9c5;}\\n.news-list .line-sp{width:294px;height:36px;line-height:36px;padding:0 15px;margin-top:18px;text-align:center;font-size:28px;color:#333333;background:#414046;}\\n.news-list .line-sp a{color:#f3c258;font-size:18px;}\\n.news-list .line-sp .news-type,.news-list .line-sp .news-time{display:none;}\\n.quick_entrance{overflow: hidden;height:134px;margin:28px auto 34px;letter-spacing:-0.35em;margin-right:-15px;}\\n.quick_entrance a{display:inline-block;*display:inline;*zoom:1;width:291px;height:134px;margin-right:12px;overflow: hidden;}\\n.quick_entrance img{display:block;width:100%;}\\n.quick_entrance a:nth-last-child(1){margin-right:0;}\\n/*----¹¥ÂÔ¡¢Æ¤·ôÈüÊÂÖÐÐÄ---*/\\n.main_item{margin-bottom:28px;}\\n.strategy_center{width:872px;height:528px;margin-right:33px;}\\n.strategy_center .strategy_center{margin-bottom:0;}\\n.strategy_center .item_subnav{margin-bottom:5px;}\\n.item_thirdnav{position:relative;zoom:1;height:26px;line-height:26px;padding:8px 0 9px;display: none;}\\n.item_thirdnav .title{height:26px;overflow:hidden;text-indent:8px;cursor:pointer;}\\n.item_thirdnav .title .item_hero{display: inline-block;*display: inline;*zoom:1;padding-right:20px;background:url(\\'data:image/png;base64,iVBORw0KGgoAAAANSUhEUgAAAAsAAAAGAQMAAAAv/Pa7AAAABGdBTUEAALGPC/xhBQAAAAZQTFRFAAAA88JYjpkYTAAAAAF0Uk5TAEDm2GYAAAAaSURBVAjXY/j/gKH+AIN9A4M8AwMfAwMLAwA4rgQP6QNOyQAAAABJRU5ErkJggg==\\') no-repeat right center;}                  \\n.item_thirdnav .title a{height:24px;line-height:24px;padding:0 13px 0 8px;border:1px solid #e5e5e5;border-radius:10px;background:#f5f5f5;font-size:14px;color:#333;margin-right:8px;display:block;float:left;}\\n.item_thirdnav .title .on,.item_thirdnav .title a:hover{border-color:#f3c258;background:#f3c258;color:#fff;}\\n.item_thirdnav .dropdown{display:none;position:absolute;top:42px;left:0;z-index:100;background:#fff;border:1px solid #e5e5e5;height:337px;}\\n#item_thirdnav2 {animation-fill-mode: initial;}\\n.dropdown .hero_type{float:left;width:78px;text-align:center;background:#f5f5f5;height:337px;}\\n.dropdown .hero_type li{height:42px;line-height:42px;cursor:pointer;}\\n.dropdown .hero_type li:hover,.dropdown .hero_type li.on{background:#f3c258;color:#fff;}\\n.dropdown .hero_list{float:left;width:715px;height:310px;overflow-y:auto;padding:12px 22px;}\\n.item_header{position:relative;zoom:1;margin-bottom:16px;}\\n.item_title{font-size:22px;line-height:25px;text-indent:33px;font-weight:600;letter-spacing:1px;}\\n.item_subnav{width:872px;height:32px;line-height:29px;background:#f5f5f5;margin-bottom:12px;border-bottom:none;}\\n.item_subnav a{width:289px;display:block;float:left;font-size:14px;color:#999;text-align:center;border-bottom:3px solid #f5f5f5;}\\n.item_subnav a:hover,.item_subnav .on{border-bottom:3px solid #f3c258;color:#333333;}\\n.item_subnav .split{width:1px;height:20px;overflow:hidden;float:left;background:#e1e1e1;display:inline-block;margin:5px 0 0px;}\\n.match_center .item_subnav .split:nth-last-child(1){display:none;}\\n.skin_center{width:295px;height:528px;}\\n.skin_center .item_subnav{width:293px;margin-bottom:19px;}\\n.skin_center .item_subnav a{width:97px;}\\n.video_list li{float:left;width:209px;margin:0 12px 30px 0;position:relative;}\\n.video_list li:nth-child(4n){margin-right:0;}\\n.video_list a{position:relative;display:block;width:212px;}\\n.video_list img{width:209px;height:125px;}\\n.video-tit{display:block;height:40px;overflow:hidden;color:#333333;margin-top:10px;}\\n.video_list .play-bar{position:absolute;top:104px;left:0;width:189px;height:22px;line-height:22px;padding:0 10px;color:#fff;background:rgba(0,0,0,0.6);font-size:12px;border-radius:0 0 2px 2px;}\\n.video_list .ico-play{padding-left:15px;background-position:-256px -59px;}\\n.video_list .mask{width:209px;height:127px;top:0px;left:0px;filter:Alpha(opacity=60);opacity:rgba(0,0,0,0.6);background:rgba(0,0,0,0.6);display:none;cursor:pointer;border-radius:5px;}\\n.video_list .mask-play-ico{width:40px;height:40px;display:block;margin:40px auto 0;background-position:-192px -64px;}\\n.video_list li:hover .mask{display:block;}\\n.match-list-l .news-txt{width: 470px;}\\n/*---×îÐÂÓ¢ÐÛÆ¤·ô----*/\\n.skin_center .new_hero{display:block;width:294px;height:224px;border-radius:2px;margin-bottom:10px;}\\n.skin_center .new_hero_bottom{padding:10px 15px;height:47px;border:1px solid #e5e5e5;border-top:none;border-radius:0 0 2px 2px;}\\n.skin_center p{color:#999999;font-size:12px;text-align:right;}\\n.skin_center .new_hero_name{font-size:18px;color:#333333;font-weight:bold;}\\n.skin_center .new_hero_bottom p{text-align:left;}\\n.skin_center .hero_pic_list p{color:#999;}\\n.skin_center .hero_pic_list li{position:relative;width:68px;height:173px;float:left;margin:0 7px 12px 0 ;cursor:pointer;vertical-align:middle;display:table-cell;}\\n.skin_center .hero_pic_list li:nth-last-child(1){margin-right:0;}\\n.skin_center .hero_pic_list li:nth-child(4n){margin-right:0;}\\n.skin_center .hero_pic_list img{display:block;}\\n.skin_center .hero_pic_list .hero_mask{display:none;position:absolute;top:0;left:0;background:rgba(0,0,0,0.88);width:68px;height:173px;}\\n.skin_center .hero_pic_list .hero_name{overflow:hidden;display:none;position:absolute;top:0px;left:26px;text-align:center;color:#f3c258;font-size:14px;width:34px;height:100%;line-height:16px;padding-left:2px;\\n\\t-ms-writing-mode:tb-lr;-webkit-writing-mode:vertical-r;writing-mode:vertical-lr;letter-spacing:0.3em;word-break:break-all;\\n}\\n.hero_pic_list li:hover .hero_mask,.hero_pic_list li:hover .hero_name{display:block;}\\n.skin_center .hero_pic_list .free-hero-notice{text-align:left;font-size:1.1em;padding-bottom:10px;margin-top:-8px;}\\n/*---ÈüÊÂÖÐÐÄ---*/\\n.match_center {margin-right:33px;width:872px;}\\n.match_center .item_subnav a{width:123px;}\\n/* .match_center .item_subnav a{width:144px;} */\\n.match_center .item_subnav a:nth-last-child(1){width:177px;}\\n.match_center .item_subnav{overflow:hidden;margin-bottom:19px;}\\n.match_center .news-txt{color:#333;}\\n.herolist li{width:60px;float:left;text-align:center;margin:0 26px 26px 0;font-size:14px;cursor:pointer;}\\n.herolist li img{display:block;width:60px;height:60px;}\\n.match_center .news-type{font-size:12px;display:block;}\\n.match_center .news-list .line-sp{background:none;width:577px;margin:0;padding:0;height:66px;line-height:32px;}\\n.match_center .line-sp a{width:577px;font-size:24px;color:#333;text-align:left;}\\n.match_center .line-sp .news_sub_title{line-height:23px;font-size:14px;color:#666666;width:450px;font-weight:normal;}\\n.match_center .line-sp .news_sub_title:hover{text-decoration:none;}\\n.match_news_pic{width:211px;height:260px;display:block;float:left;margin-right:19px;}\\n.match_news_pic img{width:211px;height:260px;}\\n.match_news_list  .news-list{float:left;width:630px;}\\n.match_news{margin-bottom:15px;}\\n.match_schedule{width:295px;float:left;}\\n.match_schedule .item_subnav{width:293px;margin-bottom:0;}\\n.match_schedule .item_subnav span{display:block;float:left;font-size:14px;color:#999;text-align:center;}\\n.match_schedule .item_subnav .col1{width:83px;margin-right:0;}\\n.match_schedule .item_subnav .col2{width:43px;height:29px;margin-right:0;background:#f5f5f5;}\\n.match_schedule .item_subnav a:hover{border-bottom:none;}\\n.match_schedule .item_subnav a{border:none;}\\n.match_schedule .item_subnav a:hover{color:#999;border:none;}\\n.match_schedule .item_content span{display:inline-block;}\\n.match_schedule ul{margin-bottom:21px;}\\n.match_schedule li{height:67px;line-height:67px;border-bottom:1px solid #e5e5e5;}\\n.match_schedule .match_time{width:80px;color:#333333;font-size:12px;text-align:center;vertical-align:top;}\\n.match_schedule .team_name{width:79px;height:67px;color:#333333;font-size:14px;text-align:center;}\\n.match_schedule .team_name em{display:inline-block;*display:inline;*zoom:1;font-size:12px;line-height:24px;vertical-align:top;}\\n.match_schedule .team_name_icon{overflow:hidden;display:block;width:25px;height:25px;margin:10px auto 0 auto;border-radius:50%;}\\n.match_schedule .vs{font-size:14px;width:43px;color:#f3c258;text-align:center;vertical-align:top;}\\n.match_schedule .item_title{width:140px;height:24px;background-position:-157px -106px; white-space: nowrap;}\\n.match_adver{width:293px;height:159px;margin-bottom:15px;}\\n/*----footer1----*/\\n.foot-media,.foot-t .media-pic{display: none;}\\n.footer-wrap{position:relative;z-index:2;height:362px;background:url(//game.gtimg.cn/images/yxzj/web201605/top_banner/bg_footer.jpg) no-repeat center 0;}\\n.footer-wrap img{display:inline-block;}\\n.footer{width:1200px;padding-top:80px;margin:0 auto;}\\n.foot-t{padding-bottom:10px;margin-bottom:20px;border-bottom:2px solid #d4d4d4;}\\n.foot-logo{width:377px;}\\n.logo1{width:285px;height:64px;}\\n.logo2{width:70px;height:64px;background-position:-285px 0;}\\n.foot-tips{width:508px;}\\n.foot-tips em{margin-right:12px;color:#6d6d6d;}\\n.foot-tips .intro{font-size: 12px;color: #666;margin-top:6px;}\\n.foot-media{width:285px;margin-top:20px;background:#f7f7f7;color:#666666;cursor:pointer;}\\n.media-tit{width:270px;height:30px;line-height:30px;padding-left:10px;border:3px solid #b8b8b8;}\\n.arrow-ico-btn{top:6px;right:3px;width:38px;height:24px;border-left:1px solid #b8b8b8;}\\n.media-list{width:280px;height:200px;margin-top:-3px;border:3px solid #b8b8b8;overflow-y:auto;background-color:#F7F7F7}\\n.media-list a{display:block;padding-left:15px;height:28px;line-height:28px;background:#f7f7f7;}\\n.media-list a:hover{background:#3589dd;color:#ffffff;text-decoration:none;}\\n.foot-b,.foot-b a{color:#646467;}\\n.foot-b{float:right;width:632px;text-align:left;padding-top:18px;}\\n.foot-txt{overflow:hidden;margin:5px 0;}\\n.foot-t .media-pic{margin-top:17px;margin-left:36px;letter-spacing:-0.35em;width: 480px;text-align:right}\\n.foot-t .media-pic a{letter-spacing:normal;display:inline-block;*display:inline;*zoom:1;height:36px;background:url(//game.gtimg.cn/images/yxzj/web201706/images/comm/cooperative-bg.png) no-repeat;}\\n.foot-t .media-pic .m1{width:108px;background-position:0 0px;}\\n.foot-t .media-pic .m2{width:90px;background-position:0 -36px;}\\n.foot-t .media-pic .m3{width:64px;background-position:-10px -72px;}\\n.foot-t .media-pic .m4{width:72px;background-position:0 -108px;}\\n.foot-t .media-pic .m5{width:63px;background-position:0 -144px;}\\n.foot-t .media-pic .m6{width:75px;background-position:0 -180px;}\\n.foot-b .cb{text-align:left;}\\n/*----footer2----*/\\n.footer-wrap2{height:502px;background:#3d4253 url(//game.gtimg.cn/images/yxzj/web201605/page/footer_bg.jpg) no-repeat center 0;color:#82879b;}\\n.footer-wrap2 .foot-t{border-bottom:2px solid #82879b;}\\n.footer-wrap2 .logo1{background:url(//game.gtimg.cn/images/yxzj/web201605/page/footer_logo.png) no-repeat;}\\n.footer-wrap2 .logo2{background:url(//game.gtimg.cn/images/yxzj/web201605/page/footer_logo.png) no-repeat -285px 0;}\\n/*----pop----*/                 \\n.pop{width:530px;height:254px;background:url(//game.gtimg.cn/images/yxzj/web201605/main/login.jpg) no-repeat;}\\n.close{right:0;top:0;width:40px;height:40px;background:url(about:blank);}\\n.wx-login{top:143px;left:60px;width:197px;height:46px;background:url(about:blank);}\\n.qq-login{top:143px;left:272px;width:197px;height:46px;background:url(about:blank);}\\n.pop2{width:530px;height:354px;background:url(//game.gtimg.cn/images/yxzj/web201605/main/sec.jpg) no-repeat;} \\n.se-input{padding:117px 0 0 50px;}\\n.se-input select{display:block;width:430px;height:37px;line-height:37px;margin-bottom:10px;}\\n.se-btn{padding:16px 0 0 146px;}\\n.se-btn a{width:116px;height:34px;margin-right:13px;background:url(about:blank);}\\n/*----Î»----*/\\n.icon{ background:url(//game.gtimg.cn/images/yxzj/web201605/page/sprite.png) no-repeat;text-indent:-9999px;display:block;}\\n.con1-pos{width:100%;margin-bottom:40px;height:20px;line-height:20px;color:#464547;font-size:16px;}\\n.con1-pos .tb1{ background-position:0 -4px;width:18px;height:18px;margin-right:9px;}\\n.con1-pos a,.con1-pos span{ margin-right:8px;}\\n.con1-pos a{ text-decoration:underline;}\\n/*-----------*/\\n.dia-zhushou{width:306px;height:297px;background:url(//game.gtimg.cn/images/yxzj/web201605/page/zhushou.png);}\\n.dia-weixin{width:306px;height:297px;background:url(//game.gtimg.cn/images/yxzj/web201605/page/weixin.png);}\\n.dia-story{width:306px;height:297px;background:url(//game.gtimg.cn/images/yxzj/web201605/page/story.png);}\\n.dia-skin{width:306px;height:297px;background:url(//game.gtimg.cn/images/yxzj/web201605/page/skin.png);}\\n.dia-version{width:306px;height:297px;background:url(//game.gtimg.cn/images/yxzj/web201605/page/version.png);}\\n.dia-kefu{width:368px;height:358px;background:url(//game.gtimg.cn/images/yxzj/web201605/page/kf.png);overflow:hidden;}\\n.dia-kefu p{margin:266px 0 0 76px;color:#b7bde1;font-size:18px;}\\n.dia-kefu a{color:#7b96e4;}\\n.dia-close{position:absolute;top:0;right:0;width:45px;height:45px;background:url(//game.gtimg.cn/images/yxzj/web201605/page/close.png);}\\n.dia-qq{width:306px;height:297px;background:url(//game.gtimg.cn/images/yxzj/web201605/page/shouq.png);}\\n.dia-vote1001{width:306px;height:297px;background:url(//game.gtimg.cn/images/yxzj/web201706/images/comm/vote1001.jpg);}\\n.dia-qgc{width:306px;height:297px;background:url(//game.gtimg.cn/images/yxzj/web201605/page/qgc.jpg);}\\n.dia-applets{width:306px;height:297px;background:url(//game.gtimg.cn/images/yxzj/web201605/page/applets.png);}\\n.dia-applets2{width:306px;height:297px;background:url(//game.gtimg.cn/images/yxzj/web201605/page/applets2.png);}\\n.download-popup .dia-con{width:auto;background:none;}\\n.dia-download{padding:30px  76px 23px 48px;background:url(//game.gtimg.cn/images/yxzj/web201605/page/down_bg.png);}\\n.dia-download .code{float:left;margin-right:36px;}\\n.dia-download .btnlist{float:left;}\\n.dia-download .btnlist a,.download-popup .dia-close{width:212px;height:46px;display:block;margin-bottom:9px;background:url(//game.gtimg.cn/images/yxzj/web201605/page/down.png);}\\n.dia-download .btnlist .pc{background-position:0 -112px;}\\n.dia-download .btnlist .ios{background-position:0 -56px;}\\n.dia-download .btnlist .android{background-position:0 0;}\\n.dia-download .btnlist .android1{background-position:0 -169px;}\\n.download-popup .dia-close{top:10px;right:10px;width:36px;height:36px;background-position:-264px -17px;}\\n.dia-weiquan{width:306px;height:297px;background:url(//game.gtimg.cn/images/yxzj/web201605/page/weiquan.png);}\\n.dia-hero-pop{width:306px;height:297px;background:url(//game.gtimg.cn/images/yxzj/web201605/page/hero_pop.png);}\\n.dia-wgc {width:306px;height:297px;background:url(//game.gtimg.cn/images/yxzj/web201605/page/wgc.png);}\\n/* Ö±²¥µ¯´° */\\n.pop-video{ width:929px;height:657px;position:relative;display:none;}\\n.pop-video .pop-video-db{ padding-top:142px;}\\n.pop-video .pop-video-close{width:40px;height:40px;position:absolute;top:8px;right:1px;display:block;text-indent:-999em;}\\n.pop-video .pop-video-small{width:40px;height:40px;position:absolute;top:8px;right:69px;display:block;text-indent:-999em;}\\n.pop-video .main {width:890px;margin:0 auto;padding-top:0;}\\n.pop-video .tab-i {background:url(//game.gtimg.cn/images/yxzj/web201605/main/pop-base.png) no-repeat 0 0;width:460px;height:114px;float:left;cursor:pointer;}\\n.pop-video .on {color:#f00;background:url(//game.gtimg.cn/images/yxzj/web201605/main/pop-base.png) no-repeat 0 -115px !important;}\\n.pop-video .hy{ background:url(//game.gtimg.cn/images/yxzj/web201605/main/pop-base.png) no-repeat -34px -257px;width:186px;height:103px;margin:9px auto 0;display:block;}\\n.pop-video .wy{ background:url(//game.gtimg.cn/images/yxzj/web201605/main/pop-base.png) no-repeat -292px -257px;width:153px;height:111px;margin:1px auto 0;display:block;}\\n.pop-video .video{width:890px;height:490px;}\\n.pop-video .more{ background:url(//game.gtimg.cn/images/yxzj/web201605/main/pop-base.png) -1px -378px;width:171px;height:43px;text-align:center;line-height:43px;font-size:18px;color:#3f2227;position:absolute;top:104px;right:60px;}\\n.videopop {width:420px;height:236px;display:none;position:fixed;right:10px;bottom:10px;z-index:9999;}\\n.clspop {position:absolute;width:50px;height:50px;display:block;right:0;top:0;font-size:35px;line-height:40px;text-align:center;color:#fff;z-index:9999;}\\n.mod_player_float {position:fixed;right:100px;bottom:20px;width:512px!important;height:288px!important;z-index:9990;background:0 0;transition:none;cursor:move;}\\n.pop-video-link{width:137px;height:36px;position:absolute;top:72px;right:22px;display:block;text-indent:-999em;}\\n/*m-popup*/\\n.m-popup{position: fixed;z-index:9;right:10px;bottom:0;width:300px;height:300px;}\\n\\t.m-popup-close{position: absolute;z-index:10;right:10px;top:10px;font-size:36px;line-height: 36px;color: #ffd28d;font-weight: normal;font-family:simsum;}\\n\\t.m-popup-content{position: absolute;left:0;top:0;width:300px;height:300px;}\\n\\t.m-popup-link{display: block;width:100%;height:100%;}\\n\\ncanvas {position: absolute;z-index: 1;top: 0;left: 0;width: 100%;}\\n.canvas-container {position: relative;}\\n#bottom-canvas {position: initial; width: 100%; height: 150px;}\\n\\n.quick_entrance .tganime-image-hover:hover img {transform: scale(1.1);}\\n.more_btn:hover {color: #f3c258;}\\n\\n@keyframes dajiShake {\\n\\t0% {\\n\\t\\ttransform: rotate(30deg);\\n\\t}\\n\\t25% {\\n\\t\\ttransform: rotate(0deg);\\n\\t}\\n\\t50% {\\n\\t\\ttransform: rotate(-30deg);\\n\\t}\\n\\t75% {\\n\\t\\ttransform: rotate(10deg);\\n\\t}\\n\\t100% {\\n\\t\\ttransform: rotate(0deg);\\n\\t}\\n}\\n\\n.tganime-header-fix {transition: none;}\\n.tganime-image-hover img {transition: transform .4s ease;}\\n.tganime-fadein-trigger:hover .tganime-fadein-child {transition: opacity .4s ease;}\\n.tganime-fadein-trigger .tganime-fadein-child {transition: opacity .3s ease;}\\n.kv_link_animate{top:408px;width: 348px;height: 116px;background: url(//game.gtimg.cn/images/yxzj/act/a20190322test/btn_sprite.png) no-repeat;background-size:10440px 116px; margin-left: -174px;overflow: visible;animation: tree 2s infinite steps(30, end) both;}\\n@keyframes tree{\\n\\t0%{\\n\\t\\tbackground-position: 0 0;\\n\\t}\\n\\t100%{\\n\\t\\tbackground-position: -10440px 0;\\n\\t}\\n}\\n</style>\\n<script>\\n\\tvar isdSpeedRecorderInit = new Date();\\n\\t(function(){var a=navigator.userAgent;if(-1!=a.indexOf(\"iPhone\")||-1!=a.indexOf(\"iPad\")||-1!=a.indexOf(\"iPod\")||-1!=a.indexOf(\"Android\")){a=document.referrer;if(-1<a.indexOf(\"baidu.com\")||-1<a.indexOf(\"sogou.com\")||-1<a.indexOf(\"haosou.com\")||-1<a.indexOf(\"hao76.com\"))if(a=void 0,window.sessionStorage)sessionStorage.setItem(\"channel\",\"seo\");else{var a=a||0,b=\"\";0!=a&&(b=new Date,b.setTime(b.getTime()+1E3*a),b=\"; expires=\"+b.toGMTString());document.cookie=\"channel=\"+escape(\"seo\")+b+\"; path=/\"}self.location=\"https://pvp.qq.com/m/\"}})();\\n</script>\\n</head>\\n<body>\\n<div id=\"header\" class=\"header tganime-header-fix\">\\n    <div class=\"header-inner\">\\n        <h1><a href=\"//pvp.qq.com/\" class=\"logo pa\" title=\"ÍõÕßÈÙÒ«\" onclick=\"PTTSendClick(\\'headNav\\',\\'logo\\',\\'logo\\');\">ÍõÕßÈÙÒ«</a></h1>\\n        <!--=========Ö÷µ¼º½==========-->           \\n\\t\\t<ul class=\"main-nav clearfix\">\\n\\t\\t\\t<li class=\"first-nav\"> <a href=\"//pvp.qq.com/\" target=\"_blank\" title=\"¹ÙÍøÊ×Ò³\" onclick=\"PTTSendClick(\\'headNav\\',\\'home\\',\\'¹ÙÍøÊ×Ò³\\');\">¹ÙÍøÊ×Ò³<em>HOME</em></a> </li>\\n\\t\\t\\t<li> <a href=\"/web201605/herolist.shtml\" target=\"_blank\" title=\"ÓÎÏ·×ÊÁÏ\" onclick=\"PTTSendClick(\\'headNav\\',\\'data\\',\\'ÓÎÏ·×ÊÁÏ\\');\">ÓÎÏ·×ÊÁÏ<em>DATA</em></a> </li>\\n\\t\\t\\t<li> <a href=\"/raiders/\" target=\"_blank\" title=\"ÄÚÈÝÖÐÐÄ\" onclick=\"PTTSendClick(\\'headNav\\',\\'strategy\\',\\'ÄÚÈÝÖÐÐÄ\\');\">ÄÚÈÝÖÐÐÄ<em>CONTENTS</em></a> </li>\\n\\t\\t\\t<li> <a href=\"/match/kpl/index.shtml\" target=\"_blank\" title=\"ÈüÊÂÖÐÐÄ\" onclick=\"PTTSendClick(\\'headNav\\',\\'match\\',\\'ÈüÊÂÖÐÐÄ\\');\">ÈüÊÂÖÐÐÄ<em>MATCH</em></a> </li>\\n\\t\\t\\t<li> <a href=\"/cp/a20171023pvppc/\" target=\"_blank\" title=\"ÉÌ³Ç/ºÏ×÷\" onclick=\"PTTSendClick(\\'headNav\\',\\'CULTURE\\',\\'°ÙÌ¬ÍõÕß\\');\">°ÙÌ¬ÍõÕß<em>CULTURE</em></a> </li>\\n\\t\\t\\t<li> <a href=\"javascript:void(0)\" title=\"ÉçÇø»¥¶¯\" onclick=\"PTTSendClick(\\'headNav\\',\\'Community\\',\\'ÉçÇø»¥¶¯\\');\">ÉçÇø»¥¶¯<em>COMMUNITY</em></a> </li>\\n\\t\\t\\t<li> <a href=\"javascript:void(0)\" target=\"_blank\" title=\"Íæ¼ÒÖ§³Ö\" onclick=\"PTTSendClick(\\'headNav\\',\\'player\\',\\'Íæ¼ÒÖ§³Ö\\');\">Íæ¼ÒÖ§³Ö<em>PLAYER</em></a> </li>\\n\\t\\t</ul>\\n    </div>\\n    <!--=====¶þ¼¶µ¼º½=====-->\\n    <div id=\"J_subNav\" class=\"sub-nav\" style=\"visibility: hidden;\">\\n        <ul class=\"sub-nav-inner\">\\n        \\t<li class=\"down-nav\"> &nbsp; </li>\\n        \\t<li class=\"down-nav\"> <a href=\"/cp/a20170829bbgxsm/index.html\" target=\"_blank\" title=\"°æ±¾½éÉÜ\" onclick=\"PTTSendClick(\\'headNav\\',\\'data_ver\\',\\'°æ±¾½éÉÜ\\');\">°æ±¾½éÉÜ</a> <a href=\"/web201605/introduce.shtml\" target=\"_blank\" title=\"ÓÎÏ·½éÉÜ\" onclick=\"PTTSendClick(\\'headNav\\',\\'data_moba\\',\\'ÓÎÏ·½éÉÜ\\');\">ÓÎÏ·½éÉÜ</a> <a href=\"/web201605/herolist.shtml\" target=\"_blank\" title=\"Ó¢ÐÛ×ÊÁÏ\" onclick=\"PTTSendClick(\\'headNav\\',\\'data_hero\\',\\'Ó¢ÐÛ×ÊÁÏ\\');\">Ó¢ÐÛ×ÊÁÏ</a> <a href=\"/coming/v2/\" target=\"_blank\" title=\"±¬ÁÏÕ¾\" onclick=\"PTTSendClick(\\'headNav\\',\\'data_coming\\',\\'±¬ÁÏÕ¾\\');\">±¬ÁÏÕ¾</a> <a href=\"javascript:void(0)\" title=\"¹ÊÊÂÕ¾\" onclick=\"TGDialogS(\\'story\\');PTTSendClick(\\'headNav\\',\\'data_story\\',\\'¹ÊÊÂÕ¾\\');\">¹ÊÊÂÕ¾</a> <a href=\"/web201605/wallpaper.shtml\" target=\"_blank\" title=\"ÓÎÏ·±ÚÖ½\" onclick=\"PTTSendClick(\\'headNav\\',\\'data_wallpaper\\',\\'ÓÎÏ·±ÚÖ½\\');\">ÓÎÏ·±ÚÖ½</a> </li>\\n        \\t<li class=\"down-nav\"> <a href=\"/raiders/\" target=\"_blank\" title=\"¹¥ÂÔÖÐÐÄ\" onclick=\"PTTSendClick(\\'headNav\\',\\'strategy_center\\',\\'¹¥ÂÔÖÐÐÄ\\');\">¹¥ÂÔÖÐÐÄ</a> <a href=\"/strategy/\" target=\"_blank\" title=\"Ó¢ÐÛ¹¥ÂÔ\" onclick=\"PTTSendClick(\\'headNav\\',\\'strategy_hero\\',\\'Ó¢ÐÛ¹¥ÂÔ\\');\">Ó¢ÐÛ¹¥ÂÔ</a> <a href=\"/v/\" target=\"_blank\" title=\"ÊÓÆµÖÐÐÄ\" onclick=\"PTTSendClick(\\'headNav\\',\\'strategy_video\\',\\'ÊÓÆµÖÐÐÄ\\');\">ÊÓÆµÖÐÐÄ</a> <a href=\"/author/\" target=\"_blank\" title=\"×÷ÕßÈë×¤\" onclick=\"PTTSendClick(\\'headNav\\',\\'author\\',\\'×÷ÕßÈë×¤\\');\"><i class=\"icon-fans\"></i>×÷ÕßÈë×¤</a> <a href=\"/mcn/\" target=\"_blank\" title=\"Ã½ÌåÈë×¤\" onclick=\"PTTSendClick(\\'headNav\\',\\'mcn\\',\\'Ã½ÌåÈë×¤\\');\"><i class=\"icon-fans\"></i>Ã½ÌåÈë×¤</a> </li>\\n        \\t<li class=\"down-nav\"> <a href=\"/match/kcc.shtml\" target=\"_blank\" title=\"¹Ú¾ü±\\xad\" onclick=\"PTTSendClick(\\'headNav\\',\\'match_kcc\\',\\'kcc\\');\">¹Ú¾ü±\\xad</a> <a href=\"/match/kpl/index.shtml\" target=\"_blank\" title=\"KPLÖ°ÒµÁªÈü\" onclick=\"PTTSendClick(\\'headNav\\',\\'match_KPL\\',\\'KPL\\');\">KPL</a> <a href=\"//pvp.qq.com/cp/a20170818school/index.shtml\" target=\"_blank\" title=\"ÍõÕß¸ßÐ£ÁªÈü\" onclick=\"PTTSendClick(\\'headNav\\',\\'match_gaoxiao\\',\\'ÍõÕß¸ßÐ£ÁªÈü\\');\">¸ßÐ£Èü</a> <a href=\"/cp/a20170808city/index.shtml\" target=\"_blank\" title=\"KOCÍõÕß³ÇÊÐÈü\" onclick=\"PTTSendClick(\\'headNav\\',\\'match_KOC\\',\\'KOC\\');\">³ÇÊÐÈü</a> <a href=\"/match/quanmin/index.html#/\" target=\"_blank\" title=\"È«ÃñÈü\" onclick=\"PTTSendClick(\\'headNav\\',\\'match_KCC\\',\\'quanmin\\');\">È«ÃñÈü</a> </li>\\n        \\t<li class=\"down-nav\"> <a href=\"/history/\" target=\"_blank\" title=\"ÍõÕßÎÄ»¯Õ¾\" onclick=\"PTTSendClick(\\'headNav\\',\\'history\\',\\'ÍõÕßÎÄ»¯Õ¾\\');\">ÍõÕßÎÄ»¯Õ¾</a> <a href=\"/cp/a20180327music/index.html\" target=\"_blank\" title=\"ÍõÕßÒôÀÖÌý\" onclick=\"PTTSendClick(\\'headNav\\',\\'a20180327music\\',\\'ÍõÕßÒôÀÖÌý\\');\"><i class=\"icon-fans\"></i>ÍõÕßÒôÀÖÌý</a> <a href=\"/wonder/\" target=\"_blank\" title=\"ÍòÇ§ÊÀ½ç\" onclick=\"PTTSendClick(\\'headNav\\',\\'wonder\\',\\'ÍòÇ§ÊÀ½ç\\');\">ÍòÇ§ÊÀ½ç</a> <a href=\"/cp/a20171023pvppc/\" target=\"_blank\" title=\"°ÙÌ¬ÍõÕß\" onclick=\"PTTSendClick(\\'headNav\\',\\'a20171023pvppc\\',\\'°ÙÌ¬ÍõÕß\\');\">°ÙÌ¬ÍõÕß</a> <a href=\"/cp/a20170707zhhz\" target=\"_blank\" title=\"ÍõÕßÐÅÓÃ¿¨\" onclick=\"PTTSendClick(\\'headNav\\',\\'life_Credit\\',\\'ÍõÕßÐÅÓÃ¿¨\\');\">ÍõÕßÐÅÓÃ¿¨</a> </li>\\n        \\t<li class=\"down-nav\"> <a href=\"javascript:void(0)\" title=\"¹Ù·½ÖúÊÖ\" onclick=\"TGDialogS(\\'zhushou\\');PTTSendClick(\\'headNav\\',\\'Community_tools\\',\\'¹Ù·½ÖúÊÖ\\');\"><i class=\"icon-hot\"></i>¹Ù·½ÖúÊÖ</a> <a href=\"//buluo.qq.com/p/barindex.html?bid=227061\" target=\"_blank\" title=\"ÊÖQ²¿Âä\" onclick=\"PTTSendClick(\\'headNav\\',\\'Community_qq\\',\\'ÊÖQ²¿Âä\\');\">ÊÖQ²¿Âä</a> <a href=\"javascript:void(0)\" target=\"_blank\" title=\"Î¢ÐÅÈ¦×Ó\" onclick=\"TGDialogS(\\'weiquan\\');PTTSendClick(\\'headNav\\',\\'Community_wx\\',\\'Î¢ÐÅÈ¦×Ó\\');\">Î¢ÐÅÈ¦×Ó</a> <a href=\"//weibo.com/heromoba\" target=\"_blank\" title=\"¹Ù·½Î¢²©\" onclick=\"PTTSendClick(\\'headNav\\',\\'Community_wb\\',\\'¹Ù·½Î¢²©\\');\">¹Ù·½Î¢²©</a> <a href=\"javascript:void(0)\" title=\"Î¢ÐÅ¹«ÖÚºÅ\" onclick=\"TGDialogS(\\'weixin\\');PTTSendClick(\\'headNav\\',\\'Community_wxgzh\\',\\'Î¢ÐÅ¹«ÖÚºÅ\\');\">Î¢ÐÅ¹«ÖÚºÅ</a> <a href=\"javascript:void(0)\" title=\"ÊÖQ¶©ÔÄºÅ\" onclick=\"TGDialogS(\\'qq\\');PTTSendClick(\\'headNav\\',\\'Community_qqdyh\\',\\'ÊÖQ¶©ÔÄºÅ\\');\">ÊÖQ¶©ÔÄºÅ</a> <a href=\"/fans/index.shtml\" target=\"_blank\" title=\"Í¬ÈËÉçÇø\" onclick=\"PTTSendClick(\\'headNav\\',\\'Community_fans\\',\\'Í¬ÈËÉçÇø\\');\" class=\"down-nav-fans\"><i class=\"icon-fans\"></i>Í¬ÈËÉçÇø</a> </li>\\n        \\t<li class=\"down-nav\"> <a href=\"//jiazhang.qq.com/jz/home.html \" target=\"_blank\" title=\"³É³¤ÊØ»¤Æ½Ì¨\" onclick=\"PTTSendClick(\\'headNav\\',\\'player_watch\\',\\'³É³¤ÊØ»¤Æ½Ì¨\\');\"><i class=\"icon-guard\"></i>³É³¤ÊØ»¤Æ½Ì¨</a> <a href=\"/cp/a20170726hsbbspc/index.html\" target=\"_blank\" title=\"½¡¿µÏµÍ³\" onclick=\"PTTSendClick(\\'headNav\\',\\'player_healthy\\',\\'½¡¿µÏµÍ³\\');\"><i class=\"icon-health\"></i>½¡¿µÏµÍ³</a> <a href=\"javascript:void(0)\" target=\"_blank\" title=\"¿Í·þ×¨Çø\" onclick=\"TGDialogS(\\'kefu\\');PTTSendClick(\\'headNav\\',\\'player_kf\\',\\'¿Í·þ×¨Çø\\');\">¿Í·þ×¨Çø</a> <a href=\"/webplat/info/news_version3/15592/24091/24092/24095/m15241/201508/370256.shtml\" title=\"Àñ°ü¶Ò»»\" onclick=\"PTTSendClick(\\'headNav\\',\\'player_feedback\\',\\'Àñ°ü¶Ò»»\\');\" target=\"_blank\">Àñ°ü¶Ò»»</a> <a href=\"//tool.helper.qq.com/v3/wzry/official_website/index.html\" title=\"×ÔÖú·þÎñ\" onclick=\"PTTSendClick(\\'headNav\\',\\'player_service\\',\\'×ÔÖú·þÎñ\\');\" target=\"_blank\">×ÔÖú·þÎñ</a> </li>\\n        </ul>\\n    </div>\\n</div>\\n<div class=\"wrapper\">\\n\\t<div class=\"kv-bg-container\">\\r\\n  <div class=\"kv-bg\" style=\"background-image:url(//ossweb-img.qq.com/upload/webplat/info/yxzj/20190425/892131058870929.jpg);\"></div>\\r\\n    <a href=\"/webplat/info/news_version3/15592/29030/29082/29231/m17761/201706/592684.shtml\" onclick=\"PTTSendClick(\\'btn\\',\\'topkv\\',\\'½øÈë×¨Ìâ\\');\" class=\"kv_link kv_link_animate\" title=\"²é¿´ÏêÇé\" target=\"_blank\" style=\"background-image:url(//ossweb-img.qq.com/upload/webplat/info/yxzj/20190425/62475460207816.png);\"></a>\\r\\n    </div>\\r\\n\\n\\t<!-- <canvas id=\"kv-canvas\"></canvas> -->\\n\\t<!--==================mainer=======================-->\\n\\t<div class=\"main\"> \\n\\t\\t<div class=\"main_top\" exposure-tag=\"main_news,Ê×ÆÁÐÂÎÅ×ÊÑ¶\">\\n\\t\\t\\t<div id=\"rotate\" class=\"rotate fl pr\">\\n\\t\\t\\t\\t<ul id=\"promoInner\" class=\"promo-list\">ÕýÔÚÅ¬Á¦¼ÓÔØÖÐ...</ul>\\n\\t\\t\\t\\t<div id=\"promoTrigger\" class=\"rbox\"></div>\\n\\t\\t\\t</div> \\n\\t\\t\\t<div class=\"news_center fl\">\\n\\t\\t\\t\\t<div id=\"newsTab\" class=\"newsTab tganime-slide-slidein\">\\n\\t\\t\\t\\t\\t<ul class=\"tab-hd clearfix tganime-tab-underline news-tab-underline\">\\n\\t\\t\\t\\t\\t\\t<li><a href=\"javascript:void(0)\" title=\"ÈÈÃÅ\" onmouseover=\"PTTSendClick(\\'news\\',\\'whole\\',\\'È«²¿\\');\">È«²¿</a></li>\\n\\t\\t\\t\\t\\t\\t<li><a href=\"javascript:void(0)\" title=\"ÐÂÎÅ\" onmouseover=\"PTTSendClick(\\'news\\',\\'news\\',\\'ÐÂÎÅ\\');\">ÐÂÎÅ</a></li>\\n\\t\\t\\t\\t\\t\\t<li><a href=\"javascript:void(0)\" title=\"¹«¸æ\" onmouseover=\"PTTSendClick(\\'news\\',\\'notice\\',\\'¹«¸æ\\');\">¹«¸æ</a></li>\\n\\t\\t\\t\\t\\t\\t<li><a href=\"javascript:void(0)\" title=\"»î¶¯\" onmouseover=\"PTTSendClick(\\'news\\',\\'event\\',\\'»î¶¯\\');\">»î¶¯</a></li>\\n\\t\\t\\t\\t\\t\\t<li><a href=\"javascript:void(0)\" title=\"ÈüÊÂ\" onmouseover=\"PTTSendClick(\\'news\\',\\'match\\',\\'ÈüÊÂ\\');\">ÈüÊÂ</a></li>              \\n\\t\\t\\t\\t\\t</ul>  \\n\\t\\t\\t\\t\\t<a href=\"//pvp.qq.com/webplat/info/news_version3/15592/24091/24092/m20041/list_1.shtml\" target=\"_blank\" title=\"¸ü¶à\" class=\"tab_more\" onclick=\"PTTSendClick(\\'news\\',\\'more\\',\\'¸ü¶à\\');\">...</a>\\n\\t\\t\\t\\t\\t<div class=\"news-con\">\\n\\t\\t\\t\\t\\t\\t<div class=\"tganime-slide-list news-slide-list\">\\n\\t\\t\\t\\t\\t\\t\\t<ul class=\"news-list news-list0\" id=\"newsList1\">                          \\n\\t\\t\\t\\t\\t\\t\\t\\t <li>\\n  <a href=\"/webplat/info/news_version3/15592/24091/24092/24096/m15240/list_1.shtml\" target=\"_blank\" class=\"fl news-type\">»î¶¯</a>\\n  <a href=\"/webplat/info/news_version3/15592/24091/24092/24096/m15241/201904/805640.shtml\" target=\"_blank\" class=\"fl news-txt\" style=\"color:\" onclick=\"PTTSendClick(\\'news\\',\\'list-1\\',\\'½øÈëµÚ1ÌõÐÂÎÅÏêÇé\\');\">ÎåÎå¿ªºÚ½Ú¸£ÀûµÚÒ»²¨ ºÃÀñ²»ÈÝ´í¹ý</a>\\n  <em class=\"fr news-time\">04/24</em>\\n</li>\\n<li>\\n  <a href=\"/webplat/info/news_version3/15592/24091/24092/24095/m15240/list_1.shtml\" target=\"_blank\" class=\"fl news-type\">¹«¸æ</a>\\n  <a href=\"/webplat/info/news_version3/15592/24091/24092/24095/m15241/201904/805630.shtml\" target=\"_blank\" class=\"fl news-txt\" style=\"color:\" onclick=\"PTTSendClick(\\'news\\',\\'list-2\\',\\'½øÈëµÚ2ÌõÐÂÎÅÏêÇé\\');\">4ÔÂ25ÈÕÈ«·þ²»Í£»ú¸üÐÂ¹«¸æ</a>\\n  <em class=\"fr news-time\">04/24</em>\\n</li>\\n<li>\\n  <a href=\"/webplat/info/news_version3/15592/24091/24092/24094/m15240/list_1.shtml\" target=\"_blank\" class=\"fl news-type\">ÐÂÎÅ</a>\\n  <a href=\"/webplat/info/news_version3/15592/24091/24092/24094/m15241/201904/805377.shtml\" target=\"_blank\" class=\"fl news-txt\" style=\"color:\" onclick=\"PTTSendClick(\\'news\\',\\'list-3\\',\\'½øÈëµÚ3ÌõÐÂÎÅÏêÇé\\');\">°¢ÑþÊØÀÞÈüÉñÃØ¼Î±ö½ÒÃØ£¬°ÙÐÇÈ«ÄÜÍõ¾öÈüÖ±²¥£¡</a>\\n  <em class=\"fr news-time\">04/28</em>\\n</li>\\n<li>\\n  <a href=\"/webplat/info/news_version3/15592/24091/24092/24095/m15240/list_1.shtml\" target=\"_blank\" class=\"fl news-type\">¹«¸æ</a>\\n  <a href=\"/webplat/info/news_version3/15592/24091/24092/24095/m15241/201810/770288.shtml\" target=\"_blank\" class=\"fl news-txt\" style=\"color:\" onclick=\"PTTSendClick(\\'news\\',\\'list-4\\',\\'½øÈëµÚ4ÌõÐÂÎÅÏêÇé\\');\">iOSÏµÍ³ÒªÇó¼°Éý¼¶Ö¸Òý¹«¸æ</a>\\n  <em class=\"fr news-time\">03/29</em>\\n</li>\\n<li>\\n  <a href=\"/webplat/info/news_version3/15592/24091/24092/24097/m15240/list_1.shtml\" target=\"_blank\" class=\"fl news-type\">ÈüÊÂ</a>\\n  <a href=\"/webplat/info/news_version3/15592/24091/24092/24097/m15241/201904/806408.shtml\" target=\"_blank\" class=\"fl news-txt\" style=\"color:\" onclick=\"PTTSendClick(\\'news\\',\\'list-5\\',\\'½øÈëµÚ5ÌõÐÂÎÅÏêÇé\\');\">ÅÅÃæ£¡ÍõÕßÓªµØÎåÎå¿ªºÚ½ÚÏÞ¶¨Ñ«ÕÂÀ´Ï®£¬ÄãÈ·¶¨²»À´Áì£¿</a>\\n  <em class=\"fr news-time\">04/29</em>\\n</li>\\n<li>\\n  <a href=\"/webplat/info/news_version3/15592/24091/24092/24097/m15240/list_1.shtml\" target=\"_blank\" class=\"fl news-type\">ÈüÊÂ</a>\\n  <a href=\"/webplat/info/news_version3/15592/24091/24092/24097/m15241/201904/806480.shtml\" target=\"_blank\" class=\"fl news-txt\" style=\"color:\" onclick=\"PTTSendClick(\\'news\\',\\'list-6\\',\\'½øÈëµÚ6ÌõÐÂÎÅÏêÇé\\');\">¡¾´º¼¾Èü¿Î´ú±í¡¿RNG.M vs VG£¬VG³å»÷¼¾ºóÈüµÄ¹Ø¼üÖ®Õ½</a>\\n  <em class=\"fr news-time\">04/29</em>\\n</li>\\n<li>\\n  <a href=\"/webplat/info/news_version3/15592/24091/24092/24097/m15240/list_1.shtml\" target=\"_blank\" class=\"fl news-type\">ÈüÊÂ</a>\\n  <a href=\"/webplat/info/news_version3/15592/24091/24092/24097/m15241/201904/806409.shtml\" target=\"_blank\" class=\"fl news-txt\" style=\"color:\" onclick=\"PTTSendClick(\\'news\\',\\'list-7\\',\\'½øÈëµÚ7ÌõÐÂÎÅÏêÇé\\');\">ÎåÎå¿ªºÚ½ÚÍ¶Æ±´ó×÷Õ½ÐÎÊ½·ÖÎö£¬ÄãÏ²»¶µÄTAÎÈÁËÃ»£¿</a>\\n  <em class=\"fr news-time\">04/29</em>\\n</li>\\n<li>\\n  <a href=\"/webplat/info/news_version3/15592/24091/24092/24094/m15240/list_1.shtml\" target=\"_blank\" class=\"fl news-type\">ÐÂÎÅ</a>\\n  <a href=\"/webplat/info/news_version3/15592/24091/24092/24094/m15241/201904/806402.shtml\" target=\"_blank\" class=\"fl news-txt\" style=\"color:\" onclick=\"PTTSendClick(\\'news\\',\\'list-8\\',\\'½øÈëµÚ8ÌõÐÂÎÅÏêÇé\\');\">KFCÃÀÎ¶Öú¹¥£¬À´ÃÅµêÏíÓ²ºË¸£Àû</a>\\n  <em class=\"fr news-time\">04/29</em>\\n</li>\\n<li>\\n  <a href=\"/webplat/info/news_version3/15592/24091/24092/24094/m15240/list_1.shtml\" target=\"_blank\" class=\"fl news-type\">ÐÂÎÅ</a>\\n  <a href=\"/webplat/info/news_version3/15592/24091/24092/24094/m15241/201904/806382.shtml\" target=\"_blank\" class=\"fl news-txt\" style=\"color:\" onclick=\"PTTSendClick(\\'news\\',\\'list-9\\',\\'½øÈëµÚ9ÌõÐÂÎÅÏêÇé\\');\">À´µç¹²Ïí³äµç±¦Ð¯Âþ¿§·È´òÔìÎåÎå¿ªºÚ½ÚÖ÷Ìâµê</a>\\n  <em class=\"fr news-time\">04/29</em>\\n</li>\\n<li>\\n  <a href=\"/webplat/info/news_version3/15592/24091/24092/24097/m15240/list_1.shtml\" target=\"_blank\" class=\"fl news-type\">ÈüÊÂ</a>\\n  <a href=\"/webplat/info/news_version3/15592/24091/24092/24097/m15241/201904/806225.shtml\" target=\"_blank\" class=\"fl news-txt\" style=\"color:\" onclick=\"PTTSendClick(\\'news\\',\\'list-10\\',\\'½øÈëµÚ10ÌõÐÂÎÅÏêÇé\\');\">KRKPL2019³£¹æÈüµÚÆßÖÜÇ°Õ° £ºMVPÁ¦Õù×ß³öÀ§¾³ NovaÆÚ´ý¸´³ðEMC</a>\\n  <em class=\"fr news-time\">04/29</em>\\n</li>\\n<li>\\n  <a href=\"/webplat/info/news_version3/15592/24091/24092/24097/m15240/list_1.shtml\" target=\"_blank\" class=\"fl news-type\">ÈüÊÂ</a>\\n  <a href=\"/webplat/info/news_version3/15592/24091/24092/24097/m15241/201904/806333.shtml\" target=\"_blank\" class=\"fl news-txt\" style=\"color:\" onclick=\"PTTSendClick(\\'news\\',\\'list-11\\',\\'½øÈëµÚ11ÌõÐÂÎÅÏêÇé\\');\">5ÔÂ4ÈÕKPL½âËµÓÐµãÃ¦£¡ÎåÎå¿ªºÚ½Ú½âËµÕóÈÝÇÀÏÈ¿´</a>\\n  <em class=\"fr news-time\">04/28</em>\\n</li>\\n<li>\\n  <a href=\"/webplat/info/news_version3/15592/24091/24092/24095/m15240/list_1.shtml\" target=\"_blank\" class=\"fl news-type\">¹«¸æ</a>\\n  <a href=\"/webplat/info/news_version3/15592/24091/24092/24095/m15241/201904/806324.shtml\" target=\"_blank\" class=\"fl news-txt\" style=\"color:\" onclick=\"PTTSendClick(\\'news\\',\\'list-12\\',\\'½øÈëµÚ12ÌõÐÂÎÅÏêÇé\\');\">4ÔÂ29ÈÕÈ«·þ²»Í£»ú¸üÐÂ¹«¸æ</a>\\n  <em class=\"fr news-time\">04/28</em>\\n</li>\\n<li>\\n  <a href=\"/webplat/info/news_version3/15592/24091/24092/24097/m15240/list_1.shtml\" target=\"_blank\" class=\"fl news-type\">ÈüÊÂ</a>\\n  <a href=\"/webplat/info/news_version3/15592/24091/24092/24097/m15241/201904/806244.shtml\" target=\"_blank\" class=\"fl news-txt\" style=\"color:\" onclick=\"PTTSendClick(\\'news\\',\\'list-13\\',\\'½øÈëµÚ13ÌõÐÂÎÅÏêÇé\\');\">¡¾´º¼¾Èü¿Î´ú±í¡¿BAºÚ·ïÀæ vs VG ¼¾ºóÈüÉúËÀ¾Ö</a>\\n  <em class=\"fr news-time\">04/28</em>\\n</li>\\n<li>\\n  <a href=\"/webplat/info/news_version3/15592/24091/24092/24097/m15240/list_1.shtml\" target=\"_blank\" class=\"fl news-type\">ÈüÊÂ</a>\\n  <a href=\"/webplat/info/news_version3/15592/24091/24092/24097/m15241/201904/806229.shtml\" target=\"_blank\" class=\"fl news-txt\" style=\"color:\" onclick=\"PTTSendClick(\\'news\\',\\'list-14\\',\\'½øÈëµÚ14ÌõÐÂÎÅÏêÇé\\');\">KRKPL£º¿ñÈÈµ¯Ä»ÎÞ½âÕæÉË£¬CassoÂí¿É²¨ÂÞÔÙ¾ÈÊÀ</a>\\n  <em class=\"fr news-time\">04/28</em>\\n</li>\\n<li>\\n  <a href=\"/webplat/info/news_version3/15592/24091/24092/24097/m15240/list_1.shtml\" target=\"_blank\" class=\"fl news-type\">ÈüÊÂ</a>\\n  <a href=\"/webplat/info/news_version3/15592/24091/24092/24097/m15241/201904/806226.shtml\" target=\"_blank\" class=\"fl news-txt\" style=\"color:\" onclick=\"PTTSendClick(\\'news\\',\\'list-15\\',\\'½øÈëµÚ15ÌõÐÂÎÅÏêÇé\\');\">KRKPLµÚÁùÖÜ±ÈÈü»Ø¹Ë£ºKZºáÉ¨CWºÀÈ¡Ê®Á¬Ê¤ÁìÅÜ»ý·Ö°ñ</a>\\n  <em class=\"fr news-time\">04/28</em>\\n</li>\\n<li>\\n  <a href=\"/webplat/info/news_version3/15592/24091/24092/24094/m15240/list_1.shtml\" target=\"_blank\" class=\"fl news-type\">ÐÂÎÅ</a>\\n  <a href=\"/webplat/info/news_version3/15592/24091/24092/24094/m15241/201904/806187.shtml\" target=\"_blank\" class=\"fl news-txt\" style=\"color:\" onclick=\"PTTSendClick(\\'news\\',\\'list-16\\',\\'½øÈëµÚ16ÌõÐÂÎÅÏêÇé\\');\">ºÀ¿ÍÀ´¡ÁÍõÕßÈÙÒ«|ÐÂÆ·¼Ýµ½£¬ÉÏÃÀÍÅÍâÂô¿ª³Ô</a>\\n  <em class=\"fr news-time\">04/28</em>\\n</li>\\n<li>\\n  <a href=\"/webplat/info/news_version3/15592/24091/24092/24097/m15240/list_1.shtml\" target=\"_blank\" class=\"fl news-type\">ÈüÊÂ</a>\\n  <a href=\"/webplat/info/news_version3/15592/24091/24092/24097/m15241/201904/806174.shtml\" target=\"_blank\" class=\"fl news-txt\" style=\"color:\" onclick=\"PTTSendClick(\\'news\\',\\'list-17\\',\\'½øÈëµÚ17ÌõÐÂÎÅÏêÇé\\');\">KRKPL¿ìÑ¶£ºESC3£º0Nova£¬CassoÂí¿É²¨ÂÞ¿ñÈÈµ¯Ä»ºáÉ¨È«³¡ÔÙ¾ÈÊÀ</a>\\n  <em class=\"fr news-time\">04/28</em>\\n</li>\\n<li>\\n  <a href=\"/webplat/info/news_version3/15592/24091/24092/24097/m15240/list_1.shtml\" target=\"_blank\" class=\"fl news-type\">ÈüÊÂ</a>\\n  <a href=\"/webplat/info/news_version3/15592/24091/24092/24097/m15241/201904/806153.shtml\" target=\"_blank\" class=\"fl news-txt\" style=\"color:\" onclick=\"PTTSendClick(\\'news\\',\\'list-18\\',\\'½øÈëµÚ18ÌõÐÂÎÅÏêÇé\\');\">KRKPL¿ìÑ¶£ºKZ 3£º0 CW£¬ÐÇ³½ÏÄºî\\x90ªÊ×ÐãÄÜ¿¹ÄÜ´ò</a>\\n  <em class=\"fr news-time\">04/27</em>\\n</li>\\n<li>\\n  <a href=\"/webplat/info/news_version3/15592/24091/24092/24097/m15240/list_1.shtml\" target=\"_blank\" class=\"fl news-type\">ÈüÊÂ</a>\\n  <a href=\"/webplat/info/news_version3/15592/24091/24092/24097/m15241/201904/806110.shtml\" target=\"_blank\" class=\"fl news-txt\" style=\"color:\" onclick=\"PTTSendClick(\\'news\\',\\'list-19\\',\\'½øÈëµÚ19ÌõÐÂÎÅÏêÇé\\');\">¡¾´º¼¾Èü¿Î´ú±í¡¿QGhappy vs XQ£¬BPµÄ²©ÞÄ£¬¼¾ºóÈüµÄ³å»÷</a>\\n  <em class=\"fr news-time\">04/27</em>\\n</li>\\n<li>\\n  <a href=\"/webplat/info/news_version3/15592/24091/24092/24094/m15240/list_1.shtml\" target=\"_blank\" class=\"fl news-type\">ÐÂÎÅ</a>\\n  <a href=\"/webplat/info/news_version3/15592/24091/24092/24094/m15241/201904/806095.shtml\" target=\"_blank\" class=\"fl news-txt\" style=\"color:\" onclick=\"PTTSendClick(\\'news\\',\\'list-20\\',\\'½øÈëµÚ20ÌõÐÂÎÅÏêÇé\\');\">ÍõÕßÈÙÒ«ÎåÎå¿ªºÚ½Ú£¬ ×ÔÈçÔ¢Ï¿¹ÈÖ®Õù¿ªÕ½ÔÚ¼´</a>\\n  <em class=\"fr news-time\">04/26</em>\\n</li>\\n\\n\\t\\t\\t\\t\\t\\t\\t</ul>\\n\\t\\t\\t\\t\\t\\t\\t<ul class=\"news-list news-list0\" id=\"newsList2\">                          \\n\\t\\t\\t\\t\\t\\t\\t\\t <li>\\n  <a href=\"/webplat/info/news_version3/15592/24091/24092/24094/m15240/list_1.shtml\" target=\"_blank\" class=\"fl news-type\">ÐÂÎÅ</a>\\n  <a href=\"/webplat/info/news_version3/15592/24091/24092/24094/m15241/201904/805377.shtml\" target=\"_blank\" class=\"fl news-txt\" style=\"color:\" onclick=\"PTTSendClick(\\'news\\',\\'list-1\\',\\'½øÈëµÚ1ÌõÐÂÎÅÏêÇé\\');\">°¢ÑþÊØÀÞÈüÉñÃØ¼Î±ö½ÒÃØ£¬°ÙÐÇÈ«ÄÜÍõ¾öÈüÖ±²¥£¡</a>\\n  <em class=\"fr news-time\">04/28</em>\\n</li>\\n<li>\\n  <a href=\"/webplat/info/news_version3/15592/24091/24092/24094/m15240/list_1.shtml\" target=\"_blank\" class=\"fl news-type\">ÐÂÎÅ</a>\\n  <a href=\"/webplat/info/news_version3/15592/24091/24092/24094/m15241/201904/806402.shtml\" target=\"_blank\" class=\"fl news-txt\" style=\"color:\" onclick=\"PTTSendClick(\\'news\\',\\'list-2\\',\\'½øÈëµÚ2ÌõÐÂÎÅÏêÇé\\');\">KFCÃÀÎ¶Öú¹¥£¬À´ÃÅµêÏíÓ²ºË¸£Àû</a>\\n  <em class=\"fr news-time\">04/29</em>\\n</li>\\n<li>\\n  <a href=\"/webplat/info/news_version3/15592/24091/24092/24094/m15240/list_1.shtml\" target=\"_blank\" class=\"fl news-type\">ÐÂÎÅ</a>\\n  <a href=\"/webplat/info/news_version3/15592/24091/24092/24094/m15241/201904/806382.shtml\" target=\"_blank\" class=\"fl news-txt\" style=\"color:\" onclick=\"PTTSendClick(\\'news\\',\\'list-3\\',\\'½øÈëµÚ3ÌõÐÂÎÅÏêÇé\\');\">À´µç¹²Ïí³äµç±¦Ð¯Âþ¿§·È´òÔìÎåÎå¿ªºÚ½ÚÖ÷Ìâµê</a>\\n  <em class=\"fr news-time\">04/29</em>\\n</li>\\n<li>\\n  <a href=\"/webplat/info/news_version3/15592/24091/24092/24094/m15240/list_1.shtml\" target=\"_blank\" class=\"fl news-type\">ÐÂÎÅ</a>\\n  <a href=\"/webplat/info/news_version3/15592/24091/24092/24094/m15241/201904/806187.shtml\" target=\"_blank\" class=\"fl news-txt\" style=\"color:\" onclick=\"PTTSendClick(\\'news\\',\\'list-4\\',\\'½øÈëµÚ4ÌõÐÂÎÅÏêÇé\\');\">ºÀ¿ÍÀ´¡ÁÍõÕßÈÙÒ«|ÐÂÆ·¼Ýµ½£¬ÉÏÃÀÍÅÍâÂô¿ª³Ô</a>\\n  <em class=\"fr news-time\">04/28</em>\\n</li>\\n<li>\\n  <a href=\"/webplat/info/news_version3/15592/24091/24092/24094/m15240/list_1.shtml\" target=\"_blank\" class=\"fl news-type\">ÐÂÎÅ</a>\\n  <a href=\"/webplat/info/news_version3/15592/24091/24092/24094/m15241/201904/806095.shtml\" target=\"_blank\" class=\"fl news-txt\" style=\"color:\" onclick=\"PTTSendClick(\\'news\\',\\'list-5\\',\\'½øÈëµÚ5ÌõÐÂÎÅÏêÇé\\');\">ÍõÕßÈÙÒ«ÎåÎå¿ªºÚ½Ú£¬ ×ÔÈçÔ¢Ï¿¹ÈÖ®Õù¿ªÕ½ÔÚ¼´</a>\\n  <em class=\"fr news-time\">04/26</em>\\n</li>\\n<li>\\n  <a href=\"/webplat/info/news_version3/15592/24091/24092/24094/m15240/list_1.shtml\" target=\"_blank\" class=\"fl news-type\">ÐÂÎÅ</a>\\n  <a href=\"/webplat/info/news_version3/15592/24091/24092/24094/m15241/201904/805828.shtml\" target=\"_blank\" class=\"fl news-txt\" style=\"color:\" onclick=\"PTTSendClick(\\'news\\',\\'list-6\\',\\'½øÈëµÚ6ÌõÐÂÎÅÏêÇé\\');\">¹Ø°®ÊÓÕÏÈËÈº ÌìÃÀ¹«ÒæÓÎÏ·½ñÈÕÉÏÏß</a>\\n  <em class=\"fr news-time\">04/25</em>\\n</li>\\n<li>\\n  <a href=\"/webplat/info/news_version3/15592/24091/24092/24094/m15240/list_1.shtml\" target=\"_blank\" class=\"fl news-type\">ÐÂÎÅ</a>\\n  <a href=\"/webplat/info/news_version3/15592/24091/24092/24094/m15241/201904/805776.shtml\" target=\"_blank\" class=\"fl news-txt\" style=\"color:\" onclick=\"PTTSendClick(\\'news\\',\\'list-7\\',\\'½øÈëµÚ7ÌõÐÂÎÅÏêÇé\\');\">¼ûµ½BÉñ±¾×ð£¬ÑþµÄ¡°°Ö°Ö¡±ºÜË§ßÏ</a>\\n  <em class=\"fr news-time\">04/25</em>\\n</li>\\n<li>\\n  <a href=\"/webplat/info/news_version3/15592/24091/24092/24094/m15240/list_1.shtml\" target=\"_blank\" class=\"fl news-type\">ÐÂÎÅ</a>\\n  <a href=\"/webplat/info/news_version3/15592/24091/24092/24094/m15241/201904/805471.shtml\" target=\"_blank\" class=\"fl news-txt\" style=\"color:\" onclick=\"PTTSendClick(\\'news\\',\\'list-8\\',\\'½øÈëµÚ8ÌõÐÂÎÅÏêÇé\\');\">ÎåÎå¿ªºÚµÚ¢Úµ¯Ø\\xadÊ®ÈËÈüµÀ¼´½«¿ªÆô£¬µÈÄãÒ»Â·Runµ½µ×£¡</a>\\n  <em class=\"fr news-time\">04/24</em>\\n</li>\\n<li>\\n  <a href=\"/webplat/info/news_version3/15592/24091/24092/24094/m15240/list_1.shtml\" target=\"_blank\" class=\"fl news-type\">ÐÂÎÅ</a>\\n  <a href=\"/webplat/info/news_version3/15592/24091/24092/24094/m15241/201904/805253.shtml\" target=\"_blank\" class=\"fl news-txt\" style=\"color:\" onclick=\"PTTSendClick(\\'news\\',\\'list-9\\',\\'½øÈëµÚ9ÌõÐÂÎÅÏêÇé\\');\">ÎåÎå¿ªºÚµÚ¢Ùµ¯Ø\\xadÊ®»·¾¯¸æ£¬¼ýÊõÅ®ÉñÐÂÆ¤·ôÊ×·¢±¬ÁÏ£¡</a>\\n  <em class=\"fr news-time\">04/22</em>\\n</li>\\n<li>\\n  <a href=\"/webplat/info/news_version3/15592/24091/24092/24094/m15240/list_1.shtml\" target=\"_blank\" class=\"fl news-type\">ÐÂÎÅ</a>\\n  <a href=\"/webplat/info/news_version3/15592/24091/24092/24094/m15241/201904/805076.shtml\" target=\"_blank\" class=\"fl news-txt\" style=\"color:\" onclick=\"PTTSendClick(\\'news\\',\\'list-10\\',\\'½øÈëµÚ10ÌõÐÂÎÅÏêÇé\\');\">ÍõÕßÈÙÒ«¡¤ÓÎÏ·¼ÒÖÐ¹úÐÐÐ¯ÊÖTGCÍõÕßÈÙÒ«Ï¿¹È¿ª·ÅÈÕ£¬±±¾©Õ¾Ô²ÂúÂäÄ»</a>\\n  <em class=\"fr news-time\">04/22</em>\\n</li>\\n<li>\\n  <a href=\"/webplat/info/news_version3/15592/24091/24092/24094/m15240/list_1.shtml\" target=\"_blank\" class=\"fl news-type\">ÐÂÎÅ</a>\\n  <a href=\"/webplat/info/news_version3/15592/24091/24092/24094/m15241/201904/804075.shtml\" target=\"_blank\" class=\"fl news-txt\" style=\"color:\" onclick=\"PTTSendClick(\\'news\\',\\'list-11\\',\\'½øÈëµÚ11ÌõÐÂÎÅÏêÇé\\');\">ÍòÎïÓÐÁéX¸÷´óÖ±²¥Æ½Ì¨ ÐÂ°æ±¾³õÌåÑé¿ªÆô</a>\\n  <em class=\"fr news-time\">04/16</em>\\n</li>\\n<li>\\n  <a href=\"/webplat/info/news_version3/15592/24091/24092/24094/m15240/list_1.shtml\" target=\"_blank\" class=\"fl news-type\">ÐÂÎÅ</a>\\n  <a href=\"/webplat/info/news_version3/15592/24091/24092/24094/m15241/201904/803910.shtml\" target=\"_blank\" class=\"fl news-txt\" style=\"color:\" onclick=\"PTTSendClick(\\'news\\',\\'list-12\\',\\'½øÈëµÚ12ÌõÐÂÎÅÏêÇé\\');\">¼±Ó´£¡¹ú·þµÚÒ»Àî°×¡°½£ÏÉ¡±°ÚÀÞÒ»È±ËÄ£¬³ÏÑûÄã¼ÓÈëÕ½¶Ó£¡</a>\\n  <em class=\"fr news-time\">04/15</em>\\n</li>\\n<li>\\n  <a href=\"/webplat/info/news_version3/15592/24091/24092/24094/m15240/list_1.shtml\" target=\"_blank\" class=\"fl news-type\">ÐÂÎÅ</a>\\n  <a href=\"/webplat/info/news_version3/15592/24091/24092/24094/m15241/201904/803821.shtml\" target=\"_blank\" class=\"fl news-txt\" style=\"color:\" onclick=\"PTTSendClick(\\'news\\',\\'list-13\\',\\'½øÈëµÚ13ÌõÐÂÎÅÏêÇé\\');\">ÐÂ°æ±¾Ò»·ÖÖÓ´óÅÌµã£¬Çé±¨¸£ÀûÁ½²»Îó£¡</a>\\n  <em class=\"fr news-time\">04/14</em>\\n</li>\\n<li>\\n  <a href=\"/webplat/info/news_version3/15592/24091/24092/24094/m15240/list_1.shtml\" target=\"_blank\" class=\"fl news-type\">ÐÂÎÅ</a>\\n  <a href=\"/webplat/info/news_version3/15592/24091/24092/24094/m15241/201904/803820.shtml\" target=\"_blank\" class=\"fl news-txt\" style=\"color:\" onclick=\"PTTSendClick(\\'news\\',\\'list-14\\',\\'½øÈëµÚ14ÌõÐÂÎÅÏêÇé\\');\">Ï¿¹È±¬ÁÏÊ¦ | ÇÀÏÈÌåÑé°æ±¾¡¢³ÉÎªÈËÆø´óV£¬ÄãÐÄ¶¯ÁËÂð£¿</a>\\n  <em class=\"fr news-time\">04/14</em>\\n</li>\\n<li>\\n  <a href=\"/webplat/info/news_version3/15592/24091/24092/24094/m15240/list_1.shtml\" target=\"_blank\" class=\"fl news-type\">ÐÂÎÅ</a>\\n  <a href=\"/webplat/info/news_version3/15592/24091/24092/24094/m15241/201904/803704.shtml\" target=\"_blank\" class=\"fl news-txt\" style=\"color:\" onclick=\"PTTSendClick(\\'news\\',\\'list-15\\',\\'½øÈëµÚ15ÌõÐÂÎÅÏêÇé\\');\">»¹Ô\\xad×îÕæÊµµÄÀ¼ÁêÍõ£¬ 300¶à¸öÈÕÒ¹³ÏÒâÖ®×÷</a>\\n  <em class=\"fr news-time\">04/13</em>\\n</li>\\n        \\n\\t\\t\\t\\t\\t\\t\\t</ul>\\n\\t\\t\\t\\t\\t\\t\\t<ul class=\"news-list news-list0\" id=\"newsList3\">                          \\n\\t\\t\\t\\t\\t\\t\\t\\t <li>\\n  <a href=\"/webplat/info/news_version3/15592/24091/24092/24095/m15240/list_1.shtml\" target=\"_blank\" class=\"fl news-type\">¹«¸æ</a>\\n  <a href=\"/webplat/info/news_version3/15592/24091/24092/24095/m15241/201904/805630.shtml\" target=\"_blank\" class=\"fl news-txt\" style=\"color:\" onclick=\"PTTSendClick(\\'news\\',\\'list-1\\',\\'½øÈëµÚ1ÌõÐÂÎÅÏêÇé\\');\">4ÔÂ25ÈÕÈ«·þ²»Í£»ú¸üÐÂ¹«¸æ</a>\\n  <em class=\"fr news-time\">04/24</em>\\n</li>\\n<li>\\n  <a href=\"/webplat/info/news_version3/15592/24091/24092/24095/m15240/list_1.shtml\" target=\"_blank\" class=\"fl news-type\">¹«¸æ</a>\\n  <a href=\"/webplat/info/news_version3/15592/24091/24092/24095/m15241/201810/770288.shtml\" target=\"_blank\" class=\"fl news-txt\" style=\"color:\" onclick=\"PTTSendClick(\\'news\\',\\'list-2\\',\\'½øÈëµÚ2ÌõÐÂÎÅÏêÇé\\');\">iOSÏµÍ³ÒªÇó¼°Éý¼¶Ö¸Òý¹«¸æ</a>\\n  <em class=\"fr news-time\">03/29</em>\\n</li>\\n<li>\\n  <a href=\"/webplat/info/news_version3/15592/24091/24092/24095/m15240/list_1.shtml\" target=\"_blank\" class=\"fl news-type\">¹«¸æ</a>\\n  <a href=\"/webplat/info/news_version3/15592/24091/24092/24095/m15241/201904/806324.shtml\" target=\"_blank\" class=\"fl news-txt\" style=\"color:\" onclick=\"PTTSendClick(\\'news\\',\\'list-3\\',\\'½øÈëµÚ3ÌõÐÂÎÅÏêÇé\\');\">4ÔÂ29ÈÕÈ«·þ²»Í£»ú¸üÐÂ¹«¸æ</a>\\n  <em class=\"fr news-time\">04/28</em>\\n</li>\\n<li>\\n  <a href=\"/webplat/info/news_version3/15592/24091/24092/24095/m15240/list_1.shtml\" target=\"_blank\" class=\"fl news-type\">¹«¸æ</a>\\n  <a href=\"/webplat/info/news_version3/15592/24091/24092/24095/m15241/201904/805912.shtml\" target=\"_blank\" class=\"fl news-txt\" style=\"color:\" onclick=\"PTTSendClick(\\'news\\',\\'list-4\\',\\'½øÈëµÚ4ÌõÐÂÎÅÏêÇé\\');\">4ÔÂ26ÈÕÌåÑé·þÍ£»ú¸üÐÂ¹«¸æ</a>\\n  <em class=\"fr news-time\">04/26</em>\\n</li>\\n<li>\\n  <a href=\"/webplat/info/news_version3/15592/24091/24092/24095/m15240/list_1.shtml\" target=\"_blank\" class=\"fl news-type\">¹«¸æ</a>\\n  <a href=\"/webplat/info/news_version3/15592/24091/24092/24095/m15241/201904/805892.shtml\" target=\"_blank\" class=\"fl news-txt\" style=\"color:\" onclick=\"PTTSendClick(\\'news\\',\\'list-5\\',\\'½øÈëµÚ5ÌõÐÂÎÅÏêÇé\\');\">4ÔÂ26ÈÕiOS½¨Òé¸üÐÂ¹«¸æ</a>\\n  <em class=\"fr news-time\">04/26</em>\\n</li>\\n<li>\\n  <a href=\"/webplat/info/news_version3/15592/24091/24092/24095/m15240/list_1.shtml\" target=\"_blank\" class=\"fl news-type\">¹«¸æ</a>\\n  <a href=\"/webplat/info/news_version3/15592/24091/24092/24095/m15241/201904/805752.shtml\" target=\"_blank\" class=\"fl news-txt\" style=\"color:\" onclick=\"PTTSendClick(\\'news\\',\\'list-6\\',\\'½øÈëµÚ6ÌõÐÂÎÅÏêÇé\\');\">4ÔÂ25ÈÕ°²×¿½¨Òé¸üÐÂ¹«¸æ</a>\\n  <em class=\"fr news-time\">04/26</em>\\n</li>\\n<li>\\n  <a href=\"/webplat/info/news_version3/15592/24091/24092/24095/m15240/list_1.shtml\" target=\"_blank\" class=\"fl news-type\">¹«¸æ</a>\\n  <a href=\"/webplat/info/news_version3/15592/24091/24092/24095/m15241/201904/805820.shtml\" target=\"_blank\" class=\"fl news-txt\" style=\"color:\" onclick=\"PTTSendClick(\\'news\\',\\'list-7\\',\\'½øÈëµÚ7ÌõÐÂÎÅÏêÇé\\');\">4ÔÂ26ÈÕÈ«·þ²»Í£»ú¸üÐÂ¹«¸æ</a>\\n  <em class=\"fr news-time\">04/25</em>\\n</li>\\n<li>\\n  <a href=\"/webplat/info/news_version3/15592/24091/24092/24095/m15240/list_1.shtml\" target=\"_blank\" class=\"fl news-type\">¹«¸æ</a>\\n  <a href=\"/webplat/info/news_version3/15592/24091/24092/24095/m15241/201904/805709.shtml\" target=\"_blank\" class=\"fl news-txt\" style=\"color:\" onclick=\"PTTSendClick(\\'news\\',\\'list-8\\',\\'½øÈëµÚ8ÌõÐÂÎÅÏêÇé\\');\">¡¾ÒÑ·¢²¼¡¿4ÔÂ25ÈÕÈ«·þ²»Í£»úÐÞ¸´¹«¸æ</a>\\n  <em class=\"fr news-time\">04/25</em>\\n</li>\\n<li>\\n  <a href=\"/webplat/info/news_version3/15592/24091/24092/24095/m15240/list_1.shtml\" target=\"_blank\" class=\"fl news-type\">¹«¸æ</a>\\n  <a href=\"/webplat/info/news_version3/15592/24091/24092/24095/m15241/201904/805478.shtml\" target=\"_blank\" class=\"fl news-txt\" style=\"color:\" onclick=\"PTTSendClick(\\'news\\',\\'list-9\\',\\'½øÈëµÚ9ÌõÐÂÎÅÏêÇé\\');\">4ÔÂ24ÈÕÌåÑé·þÍ£»ú¸üÐÂ¹«¸æ</a>\\n  <em class=\"fr news-time\">04/24</em>\\n</li>\\n<li>\\n  <a href=\"/webplat/info/news_version3/15592/24091/24092/24095/m15240/list_1.shtml\" target=\"_blank\" class=\"fl news-type\">¹«¸æ</a>\\n  <a href=\"/webplat/info/news_version3/15592/24091/24092/24095/m15241/201904/805352.shtml\" target=\"_blank\" class=\"fl news-txt\" style=\"color:\" onclick=\"PTTSendClick(\\'news\\',\\'list-10\\',\\'½øÈëµÚ10ÌõÐÂÎÅÏêÇé\\');\">4ÔÂ23ÈÕÌåÑé·þÍ£»ú¸üÐÂ¹«¸æ</a>\\n  <em class=\"fr news-time\">04/23</em>\\n</li>\\n<li>\\n  <a href=\"/webplat/info/news_version3/15592/24091/24092/24095/m15240/list_1.shtml\" target=\"_blank\" class=\"fl news-type\">¹«¸æ</a>\\n  <a href=\"/webplat/info/news_version3/15592/24091/24092/24095/m15241/201904/805195.shtml\" target=\"_blank\" class=\"fl news-txt\" style=\"color:\" onclick=\"PTTSendClick(\\'news\\',\\'list-11\\',\\'½øÈëµÚ11ÌõÐÂÎÅÏêÇé\\');\">4ÔÂ24ÈÕÈ«·þ²»Í£»ú¸üÐÂ¹«¸æ</a>\\n  <em class=\"fr news-time\">04/23</em>\\n</li>\\n<li>\\n  <a href=\"/webplat/info/news_version3/15592/24091/24092/24095/m15240/list_1.shtml\" target=\"_blank\" class=\"fl news-type\">¹«¸æ</a>\\n  <a href=\"/webplat/info/news_version3/15592/24091/24092/24095/m15241/201904/805111.shtml\" target=\"_blank\" class=\"fl news-txt\" style=\"color:\" onclick=\"PTTSendClick(\\'news\\',\\'list-12\\',\\'½øÈëµÚ12ÌõÐÂÎÅÏêÇé\\');\">¾»»¯ÓÎÏ·»·¾³ÉùÃ÷¼°´¦·£¹«¸æ£¨4ÔÂ12ÈÕ-4ÔÂ21ÈÕ£©</a>\\n  <em class=\"fr news-time\">04/22</em>\\n</li>\\n<li>\\n  <a href=\"/webplat/info/news_version3/15592/24091/24092/24095/m15240/list_1.shtml\" target=\"_blank\" class=\"fl news-type\">¹«¸æ</a>\\n  <a href=\"/webplat/info/news_version3/15592/24091/24092/24095/m15241/201904/805110.shtml\" target=\"_blank\" class=\"fl news-txt\" style=\"color:\" onclick=\"PTTSendClick(\\'news\\',\\'list-13\\',\\'½øÈëµÚ13ÌõÐÂÎÅÏêÇé\\');\">4ÔÂ22ÈÕ¡°ÑÝÔ±¡±³Í·£Ãûµ¥</a>\\n  <em class=\"fr news-time\">04/22</em>\\n</li>\\n<li>\\n  <a href=\"/webplat/info/news_version3/15592/24091/24092/24095/m15240/list_1.shtml\" target=\"_blank\" class=\"fl news-type\">¹«¸æ</a>\\n  <a href=\"/webplat/info/news_version3/15592/24091/24092/24095/m15241/201904/804815.shtml\" target=\"_blank\" class=\"fl news-txt\" style=\"color:\" onclick=\"PTTSendClick(\\'news\\',\\'list-14\\',\\'½øÈëµÚ14ÌõÐÂÎÅÏêÇé\\');\">4ÔÂ19ÈÕÌåÑé·þÍ£»ú¸üÐÂ¹«¸æ</a>\\n  <em class=\"fr news-time\">04/19</em>\\n</li>\\n<li>\\n  <a href=\"/webplat/info/news_version3/15592/24091/24092/24095/m15240/list_1.shtml\" target=\"_blank\" class=\"fl news-type\">¹«¸æ</a>\\n  <a href=\"/webplat/info/news_version3/15592/24091/24092/24095/m15241/201904/804721.shtml\" target=\"_blank\" class=\"fl news-txt\" style=\"color:\" onclick=\"PTTSendClick(\\'news\\',\\'list-15\\',\\'½øÈëµÚ15ÌõÐÂÎÅÏêÇé\\');\">Ñþ¼¼ÄÜÃèÊö´íÎóËµÃ÷¹«¸æ</a>\\n  <em class=\"fr news-time\">04/19</em>\\n</li>\\n        \\n\\t\\t\\t\\t\\t\\t\\t</ul> \\n\\t\\t\\t\\t\\t\\t\\t<ul class=\"news-list news-list0\" id=\"newsList4\">                          \\n\\t\\t\\t\\t\\t\\t\\t\\t <li>\\n  <a href=\"/webplat/info/news_version3/15592/24091/24092/24096/m15240/list_1.shtml\" target=\"_blank\" class=\"fl news-type\">»î¶¯</a>\\n  <a href=\"/webplat/info/news_version3/15592/24091/24092/24096/m15241/201904/805640.shtml\" target=\"_blank\" class=\"fl news-txt\" style=\"color:\" onclick=\"PTTSendClick(\\'news\\',\\'list-1\\',\\'½øÈëµÚ1ÌõÐÂÎÅÏêÇé\\');\">ÎåÎå¿ªºÚ½Ú¸£ÀûµÚÒ»²¨ ºÃÀñ²»ÈÝ´í¹ý</a>\\n  <em class=\"fr news-time\">04/24</em>\\n</li>\\n<li>\\n  <a href=\"/webplat/info/news_version3/15592/24091/24092/24096/m15240/list_1.shtml\" target=\"_blank\" class=\"fl news-type\">»î¶¯</a>\\n  <a href=\"/webplat/info/news_version3/15592/24091/24092/24096/m15241/201904/804828.shtml\" target=\"_blank\" class=\"fl news-txt\" style=\"color:\" onclick=\"PTTSendClick(\\'news\\',\\'list-2\\',\\'½øÈëµÚ2ÌõÐÂÎÅÏêÇé\\');\">Ë\\xad½«CÎ»³öµÀ ÎÞÏÞÍõÕßÍÅCÎ»×Ü¾öÑ¡</a>\\n  <em class=\"fr news-time\">04/19</em>\\n</li>\\n<li>\\n  <a href=\"/webplat/info/news_version3/15592/24091/24092/24096/m15240/list_1.shtml\" target=\"_blank\" class=\"fl news-type\">»î¶¯</a>\\n  <a href=\"/webplat/info/news_version3/15592/24091/24092/24096/m15241/201904/803910.shtml\" target=\"_blank\" class=\"fl news-txt\" style=\"color:\" onclick=\"PTTSendClick(\\'news\\',\\'list-3\\',\\'½øÈëµÚ3ÌõÐÂÎÅÏêÇé\\');\">¼±Ó´£¡¹ú·þµÚÒ»Àî°×¡°½£ÏÉ¡±°ÚÀÞÒ»È±ËÄ£¬³ÏÑûÄã¼ÓÈëÕ½¶Ó£¡</a>\\n  <em class=\"fr news-time\">04/15</em>\\n</li>\\n<li>\\n  <a href=\"/webplat/info/news_version3/15592/24091/24092/24096/m15240/list_1.shtml\" target=\"_blank\" class=\"fl news-type\">»î¶¯</a>\\n  <a href=\"/webplat/info/news_version3/15592/24091/24092/24096/m15241/201904/802773.shtml\" target=\"_blank\" class=\"fl news-txt\" style=\"color:\" onclick=\"PTTSendClick(\\'news\\',\\'list-4\\',\\'½øÈëµÚ4ÌõÐÂÎÅÏêÇé\\');\">ÈüÄ©³å´Ì£¡ÈÙÒ«Ö®Â·»î¶¯¸£ÀûÀ´Ï®£¡</a>\\n  <em class=\"fr news-time\">04/08</em>\\n</li>\\n<li>\\n  <a href=\"/webplat/info/news_version3/15592/24091/24092/24096/m15240/list_1.shtml\" target=\"_blank\" class=\"fl news-type\">»î¶¯</a>\\n  <a href=\"/webplat/info/news_version3/15592/24091/24092/24096/m15241/201904/802323.shtml\" target=\"_blank\" class=\"fl news-txt\" style=\"color:\" onclick=\"PTTSendClick(\\'news\\',\\'list-5\\',\\'½øÈëµÚ5ÌõÐÂÎÅÏêÇé\\');\">¡¾Â¹ÁéÉÙÅ®µÄÑûÔ¼¡¿»î¶¯¹«¸æ</a>\\n  <em class=\"fr news-time\">04/04</em>\\n</li>\\n<li>\\n  <a href=\"/webplat/info/news_version3/15592/24091/24092/24096/m15240/list_1.shtml\" target=\"_blank\" class=\"fl news-type\">»î¶¯</a>\\n  <a href=\"/webplat/info/news_version3/15592/24091/24092/24096/m15241/201904/801601.shtml\" target=\"_blank\" class=\"fl news-txt\" style=\"color:\" onclick=\"PTTSendClick(\\'news\\',\\'list-6\\',\\'½øÈëµÚ6ÌõÐÂÎÅÏêÇé\\');\">Ì¤ÇàÖ®ÂÃ»î¶¯ÖÜ¿ªÆô</a>\\n  <em class=\"fr news-time\">04/01</em>\\n</li>\\n<li>\\n  <a href=\"/webplat/info/news_version3/15592/24091/24092/24096/m15240/list_1.shtml\" target=\"_blank\" class=\"fl news-type\">»î¶¯</a>\\n  <a href=\"/webplat/info/news_version3/15592/24091/24092/24096/m15241/201903/800635.shtml\" target=\"_blank\" class=\"fl news-txt\" style=\"color:\" onclick=\"PTTSendClick(\\'news\\',\\'list-7\\',\\'½øÈëµÚ7ÌõÐÂÎÅÏêÇé\\');\">´Ì¿Í¹ú·þµÚÒ»Â¹ËÀË\\xadÊÖ</a>\\n  <em class=\"fr news-time\">03/27</em>\\n</li>\\n<li>\\n  <a href=\"/webplat/info/news_version3/15592/24091/24092/24096/m15240/list_1.shtml\" target=\"_blank\" class=\"fl news-type\">»î¶¯</a>\\n  <a href=\"/webplat/info/news_version3/15592/24091/24092/24096/m15241/201903/800514.shtml\" target=\"_blank\" class=\"fl news-txt\" style=\"color:\" onclick=\"PTTSendClick(\\'news\\',\\'list-8\\',\\'½øÈëµÚ8ÌõÐÂÎÅÏêÇé\\');\">¡¾ÃÈÏµÑø³É Ï¿¹ÈÓ¨Ö®É\\xad¡¿»î¶¯FAQ</a>\\n  <em class=\"fr news-time\">03/26</em>\\n</li>\\n<li>\\n  <a href=\"/webplat/info/news_version3/15592/24091/24092/24096/m15240/list_1.shtml\" target=\"_blank\" class=\"fl news-type\">»î¶¯</a>\\n  <a href=\"/webplat/info/news_version3/15592/24091/24092/24096/m15241/201903/800512.shtml\" target=\"_blank\" class=\"fl news-txt\" style=\"color:\" onclick=\"PTTSendClick(\\'news\\',\\'list-9\\',\\'½øÈëµÚ9ÌõÐÂÎÅÏêÇé\\');\">ÃÈÏµÑø³É»î¶¯¿ªÆô¹«¸æ</a>\\n  <em class=\"fr news-time\">03/26</em>\\n</li>\\n<li>\\n  <a href=\"/webplat/info/news_version3/15592/24091/24092/24096/m15240/list_1.shtml\" target=\"_blank\" class=\"fl news-type\">»î¶¯</a>\\n  <a href=\"/webplat/info/news_version3/15592/24091/24092/24096/m15241/201903/800334.shtml\" target=\"_blank\" class=\"fl news-txt\" style=\"color:\" onclick=\"PTTSendClick(\\'news\\',\\'list-10\\',\\'½øÈëµÚ10ÌõÐÂÎÅÏêÇé\\');\">´ïÄ¦-»Æ½ðÊ¨×Ó×ùµÇ³¡ È«ÐÂ»î¶¯¿ª·Å</a>\\n  <em class=\"fr news-time\">03/25</em>\\n</li>\\n<li>\\n  <a href=\"/webplat/info/news_version3/15592/24091/24092/24096/m15240/list_1.shtml\" target=\"_blank\" class=\"fl news-type\">»î¶¯</a>\\n  <a href=\"/webplat/info/news_version3/15592/24091/24092/24096/m15241/201903/798787.shtml\" target=\"_blank\" class=\"fl news-txt\" style=\"color:\" onclick=\"PTTSendClick(\\'news\\',\\'list-11\\',\\'½øÈëµÚ11ÌõÐÂÎÅÏêÇé\\');\">´º·ç·÷Ãæ ÈÙÒ«³£ÔÚ Ï¿¹È´º·ÖÏ×ºÃÀñ</a>\\n  <em class=\"fr news-time\">03/18</em>\\n</li>\\n<li>\\n  <a href=\"/webplat/info/news_version3/15592/24091/24092/24096/m15240/list_1.shtml\" target=\"_blank\" class=\"fl news-type\">»î¶¯</a>\\n  <a href=\"/webplat/info/news_version3/15592/24091/24092/24096/m15241/201903/797695.shtml\" target=\"_blank\" class=\"fl news-txt\" style=\"color:\" onclick=\"PTTSendClick(\\'news\\',\\'list-12\\',\\'½øÈëµÚ12ÌõÐÂÎÅÏêÇé\\');\">°×É«ÇéÈË½Ú Ï¿¹ÈÓÎÀÖÔ°</a>\\n  <em class=\"fr news-time\">03/13</em>\\n</li>\\n<li>\\n  <a href=\"/webplat/info/news_version3/15592/24091/24092/24096/m15240/list_1.shtml\" target=\"_blank\" class=\"fl news-type\">»î¶¯</a>\\n  <a href=\"/webplat/info/news_version3/15592/24091/24092/24096/m15241/201903/797300.shtml\" target=\"_blank\" class=\"fl news-txt\" style=\"color:\" onclick=\"PTTSendClick(\\'news\\',\\'list-13\\',\\'½øÈëµÚ13ÌõÐÂÎÅÏêÇé\\');\">°×É«ÇéÈË½ÚÀ´Ï® Ï¿¹ÈÀËÂþÀñµÈÄãÀ´²ð</a>\\n  <em class=\"fr news-time\">03/11</em>\\n</li>\\n<li>\\n  <a href=\"/webplat/info/news_version3/15592/24091/24092/24096/m15240/list_1.shtml\" target=\"_blank\" class=\"fl news-type\">»î¶¯</a>\\n  <a href=\"/webplat/info/news_version3/15592/24091/24092/24096/m15241/201903/797116.shtml\" target=\"_blank\" class=\"fl news-txt\" style=\"color:\" onclick=\"PTTSendClick(\\'news\\',\\'list-14\\',\\'½øÈëµÚ14ÌõÐÂÎÅÏêÇé\\');\">»¢ÑÀÍõÕßÈÙÒ«&ÐÇÐãÅ®Éñ¼¾£¬»ðÈÈÀ´Ï®£¡</a>\\n  <em class=\"fr news-time\">03/10</em>\\n</li>\\n<li>\\n  <a href=\"/webplat/info/news_version3/15592/24091/24092/24096/m15240/list_1.shtml\" target=\"_blank\" class=\"fl news-type\">»î¶¯</a>\\n  <a href=\"/webplat/info/news_version3/15592/24091/24092/24096/m15241/201903/796788.shtml\" target=\"_blank\" class=\"fl news-txt\" style=\"color:\" onclick=\"PTTSendClick(\\'news\\',\\'list-15\\',\\'½øÈëµÚ15ÌõÐÂÎÅÏêÇé\\');\">Ï¿¹ÈÅ®Éñ¼ÎÄê»ª£ºÍõÕßÈÙÒ«¹ÙºÅÐ¯ÊÖ¿ìÊÖÖ÷²¥ËÍºÃÀñ£¡</a>\\n  <em class=\"fr news-time\">03/08</em>\\n</li>\\n        \\n\\t\\t\\t\\t\\t\\t\\t</ul> \\n\\t\\t\\t\\t\\t\\t\\t<ul class=\"news-list news-list0\" id=\"newsList5\">                          \\n\\t\\t\\t\\t\\t\\t\\t\\t <li>\\n  <a href=\"/webplat/info/news_version3/15592/29030/35315/35316/m15240/list_1.shtml\" target=\"_blank\" class=\"fl news-type\">Ê×Ò³ÈüÊÂ</a>\\n  <a href=\"/webplat/info/news_version3/15592/29030/35315/35316/m15241/201904/806369.shtml\" target=\"_blank\" class=\"fl news-txt\" style=\"color:\" onclick=\"PTTSendClick(\\'news\\',\\'list-1\\',\\'½øÈëµÚ1ÌõÐÂÎÅÏêÇé\\');\">ÎåÒ»Ð¡³¤¼Ù×öÊ²Ã´£¿ÍõÕßÈÙÒ«³ÇÊÐÈüµÈÄãÀ´Õ½£¡</a>\\n  <em class=\"fr news-time\">04/29</em>\\n</li>\\n<li>\\n  <a href=\"/webplat/info/news_version3/15592/29030/35315/35316/m15240/list_1.shtml\" target=\"_blank\" class=\"fl news-type\">Ê×Ò³ÈüÊÂ</a>\\n  <a href=\"/webplat/info/news_version3/15592/29030/35315/35316/m15241/201904/805873.shtml\" target=\"_blank\" class=\"fl news-txt\" style=\"color:\" onclick=\"PTTSendClick(\\'news\\',\\'list-2\\',\\'½øÈëµÚ2ÌõÐÂÎÅÏêÇé\\');\">¡¾Î¢ÈüÊÂ¸ßÐ£ÌôÕ½Èü¡¿ÖÜÄ©¿ªºÚÐÂÌôÕ½£¬¸ú×ÅÖ÷²¥Íæ×ªÏ¿¹È</a>\\n  <em class=\"fr news-time\">04/26</em>\\n</li>\\n<li>\\n  <a href=\"/webplat/info/news_version3/15592/29030/35315/35316/m15240/list_1.shtml\" target=\"_blank\" class=\"fl news-type\">Ê×Ò³ÈüÊÂ</a>\\n  <a href=\"/webplat/info/news_version3/15592/29030/35315/35316/m15241/201904/805474.shtml\" target=\"_blank\" class=\"fl news-txt\" style=\"color:\" onclick=\"PTTSendClick(\\'news\\',\\'list-3\\',\\'½øÈëµÚ3ÌõÐÂÎÅÏêÇé\\');\">µÚÎå½ì¸ßÐ£ÁªÈü¸´Èü×îºóÒ»ÂÖ£¡ËÄ´óÈüµãÎåÒ»¿ªÆô</a>\\n  <em class=\"fr news-time\">04/25</em>\\n</li>\\n<li>\\n  <a href=\"/webplat/info/news_version3/15592/29030/35315/35316/m15240/list_1.shtml\" target=\"_blank\" class=\"fl news-type\">Ê×Ò³ÈüÊÂ</a>\\n  <a href=\"/webplat/info/news_version3/15592/29030/35315/35316/m15241/201904/805689.shtml\" target=\"_blank\" class=\"fl news-txt\" style=\"color:\" onclick=\"PTTSendClick(\\'news\\',\\'list-4\\',\\'½øÈëµÚ4ÌõÐÂÎÅÏêÇé\\');\">Ë\\xadÊÇÏ¿¹ÈÐÂÉù¿§£¿ Ô\\xad´´ÄÚÈÝ´óÈüÅäÒô±ÈÈüµÈÄãÀ´·¢Éù</a>\\n  <em class=\"fr news-time\">04/25</em>\\n</li>\\n<li>\\n  <a href=\"/webplat/info/news_version3/15592/29030/35315/35316/m15240/list_1.shtml\" target=\"_blank\" class=\"fl news-type\">Ê×Ò³ÈüÊÂ</a>\\n  <a href=\"/webplat/info/news_version3/15592/29030/35315/35316/m15241/201904/804685.shtml\" target=\"_blank\" class=\"fl news-txt\" style=\"color:\" onclick=\"PTTSendClick(\\'news\\',\\'list-5\\',\\'½øÈëµÚ5ÌõÐÂÎÅÏêÇé\\');\">[Î¢ÈüÊÂ¸ßÐ£ÌôÕ½Èü¡¿Ã÷ÐÇÖ÷²¥·µ³¡Î¢ÈüÊÂ£¬ÖÜÄ©×éÍÅÒ»Æð¿ªºÚ°É£¡</a>\\n  <em class=\"fr news-time\">04/19</em>\\n</li>\\n<li>\\n  <a href=\"/webplat/info/news_version3/15592/29030/35315/35316/m15240/list_1.shtml\" target=\"_blank\" class=\"fl news-type\">Ê×Ò³ÈüÊÂ</a>\\n  <a href=\"/webplat/info/news_version3/15592/29030/35315/35316/m15241/201904/804244.shtml\" target=\"_blank\" class=\"fl news-txt\" style=\"color:\" onclick=\"PTTSendClick(\\'news\\',\\'list-6\\',\\'½øÈëµÚ6ÌõÐÂÎÅÏêÇé\\');\">´òÆÆ´ÎÔª±Ú ÍõÕßÈÙÒ«µÚ¶þ½ìÔ\\xad´´ÄÚÈÝ´óÈüÅäÒô±ÈÈüÕýÊ½¿ªÆô</a>\\n  <em class=\"fr news-time\">04/18</em>\\n</li>\\n<li>\\n  <a href=\"/webplat/info/news_version3/15592/29030/35315/35316/m15240/list_1.shtml\" target=\"_blank\" class=\"fl news-type\">Ê×Ò³ÈüÊÂ</a>\\n  <a href=\"/webplat/info/news_version3/15592/29030/35315/35316/m15241/201904/804180.shtml\" target=\"_blank\" class=\"fl news-txt\" style=\"color:\" onclick=\"PTTSendClick(\\'news\\',\\'list-7\\',\\'½øÈëµÚ7ÌõÐÂÎÅÏêÇé\\');\">ÍõÕßÈÙÒ«¸ßÐ£ÁªÈü¾öÈü½×¶Î´òÏìµÚÒ»Ç¹£¬¹ãÖÝºÍ³¤É³·ÖÕ¾ÈüµãÒÑ¿ªÆô£¡</a>\\n  <em class=\"fr news-time\">04/17</em>\\n</li>\\n<li>\\n  <a href=\"/webplat/info/news_version3/15592/29030/35315/35316/m15240/list_1.shtml\" target=\"_blank\" class=\"fl news-type\">Ê×Ò³ÈüÊÂ</a>\\n  <a href=\"/webplat/info/news_version3/15592/29030/35315/35316/m15241/201904/803447.shtml\" target=\"_blank\" class=\"fl news-txt\" style=\"color:\" onclick=\"PTTSendClick(\\'news\\',\\'list-8\\',\\'½øÈëµÚ8ÌõÐÂÎÅÏêÇé\\');\">¡¶ÍõÕßÈÙÒ«¡·³ÇÊÐÈüµÚ¶þÖÜº£Ñ¡Èü±¨ÃûÍ¨µÀ¿ªÆôÖÐ£¬±¨ÃûÓ®ºÃÀñ£¡</a>\\n  <em class=\"fr news-time\">04/12</em>\\n</li>\\n<li>\\n  <a href=\"/webplat/info/news_version3/15592/29030/35315/35316/m15240/list_1.shtml\" target=\"_blank\" class=\"fl news-type\">Ê×Ò³ÈüÊÂ</a>\\n  <a href=\"/webplat/info/news_version3/15592/29030/35315/35316/m15241/201904/802299.shtml\" target=\"_blank\" class=\"fl news-txt\" style=\"color:\" onclick=\"PTTSendClick(\\'news\\',\\'list-9\\',\\'½øÈëµÚ9ÌõÐÂÎÅÏêÇé\\');\">¶·ÓãÍõÕßÈÙÒ«Õ½¶Ó³¬¼¶ÁªÈü±¨Ãû¿ªÆô£¡10Íò½±½ðµÈÄãÀ´Õ½</a>\\n  <em class=\"fr news-time\">04/04</em>\\n</li>\\n<li>\\n  <a href=\"/webplat/info/news_version3/15592/29030/35315/35316/m15240/list_1.shtml\" target=\"_blank\" class=\"fl news-type\">Ê×Ò³ÈüÊÂ</a>\\n  <a href=\"/webplat/info/news_version3/15592/29030/35315/35316/m15241/201903/800890.shtml\" target=\"_blank\" class=\"fl news-txt\" style=\"color:\" onclick=\"PTTSendClick(\\'news\\',\\'list-10\\',\\'½øÈëµÚ10ÌõÐÂÎÅÏêÇé\\');\">¡¾Ô\\xad´´ÄÚÈÝ´óÈüÆ¤·ôÉè¼Æ±ÈÈü¡¿»ñ½±×÷Æ·³öÂ¯À²</a>\\n  <em class=\"fr news-time\">03/29</em>\\n</li>\\n<li>\\n  <a href=\"/webplat/info/news_version3/15592/29030/35315/35316/m15240/list_1.shtml\" target=\"_blank\" class=\"fl news-type\">Ê×Ò³ÈüÊÂ</a>\\n  <a href=\"/webplat/info/news_version3/15592/29030/35315/35316/m15241/201903/796542.shtml\" target=\"_blank\" class=\"fl news-txt\" style=\"color:\" onclick=\"PTTSendClick(\\'news\\',\\'list-11\\',\\'½øÈëµÚ11ÌõÐÂÎÅÏêÇé\\');\">Ô\\xad´´ÄÚÈÝ´óÈüÓÅÐãÆ¤·ô×÷Æ·Õ¹Ê¾£¨¶þ£©</a>\\n  <em class=\"fr news-time\">03/26</em>\\n</li>\\n<li>\\n  <a href=\"/webplat/info/news_version3/15592/29030/35315/35316/m15240/list_1.shtml\" target=\"_blank\" class=\"fl news-type\">Ê×Ò³ÈüÊÂ</a>\\n  <a href=\"/webplat/info/news_version3/15592/29030/35315/35316/m15241/201903/798672.shtml\" target=\"_blank\" class=\"fl news-txt\" style=\"color:\" onclick=\"PTTSendClick(\\'news\\',\\'list-12\\',\\'½øÈëµÚ12ÌõÐÂÎÅÏêÇé\\');\">Ô\\xad´´ÄÚÈÝ´óÈüÆ¤·ôÉè¼Æ×÷Æ·ÈëÎ§Ãûµ¥¹«Ê¾</a>\\n  <em class=\"fr news-time\">03/19</em>\\n</li>\\n<li>\\n  <a href=\"/webplat/info/news_version3/15592/29030/35315/35316/m15240/list_1.shtml\" target=\"_blank\" class=\"fl news-type\">Ê×Ò³ÈüÊÂ</a>\\n  <a href=\"/webplat/info/news_version3/15592/29030/35315/35316/m15241/201902/793042.shtml\" target=\"_blank\" class=\"fl news-txt\" style=\"color:\" onclick=\"PTTSendClick(\\'news\\',\\'list-13\\',\\'½øÈëµÚ13ÌõÐÂÎÅÏêÇé\\');\">´º½Ú¿ñ»¶»î¶¯½áÊø£¬ºì°ü´ó¸£ÀûÄã¶¼ÄÃµ½ÁËÂð£¿</a>\\n  <em class=\"fr news-time\">02/14</em>\\n</li>\\n<li>\\n  <a href=\"/webplat/info/news_version3/15592/29030/35315/35316/m15240/list_1.shtml\" target=\"_blank\" class=\"fl news-type\">Ê×Ò³ÈüÊÂ</a>\\n  <a href=\"/webplat/info/news_version3/15592/29030/35315/35316/m15241/201902/792663.shtml\" target=\"_blank\" class=\"fl news-txt\" style=\"color:\" onclick=\"PTTSendClick(\\'news\\',\\'list-14\\',\\'½øÈëµÚ14ÌõÐÂÎÅÏêÇé\\');\">´º½Ú¿ñ»¶»î¶¯µ¹¼ÆÊ±£¬Ð¯ºÃÓÑ¿ªºÚÓ®ÖÕ¼«¸£Àû</a>\\n  <em class=\"fr news-time\">02/10</em>\\n</li>\\n<li>\\n  <a href=\"/webplat/info/news_version3/15592/29030/35315/35316/m15240/list_1.shtml\" target=\"_blank\" class=\"fl news-type\">Ê×Ò³ÈüÊÂ</a>\\n  <a href=\"/webplat/info/news_version3/15592/29030/35315/35316/m15241/201902/792559.shtml\" target=\"_blank\" class=\"fl news-txt\" style=\"color:\" onclick=\"PTTSendClick(\\'news\\',\\'list-15\\',\\'½øÈëµÚ15ÌõÐÂÎÅÏêÇé\\');\">Î¢ÈüÊÂÐÂ´ºÌôÕ½Èü»ðÈÈ½øÐÐÖÐ ¹ÛÈüÖúÍþ¾ÍÄÜÁìÉñÃØºì°ü</a>\\n  <em class=\"fr news-time\">02/07</em>\\n</li>\\n \\n\\t\\t\\t\\t\\t\\t\\t</ul>\\n\\t\\t\\t\\t\\t\\t</div>\\n\\t\\t\\t\\t\\t</div>\\n\\t\\t\\t\\t</div>\\n\\t\\t\\t</div>\\n\\t\\t\\t<div class=\"download_pannel fl\">\\n\\t\\t\\t\\t<a href=\"javascript:;\" onclick=\"TGDialogS(\\'download\\');PTTSendClick(\\'btn\\',\\'download\\',\\'ÏÂÔØÓÎÏ·\\');\" class=\"download_btn\"></a>\\n\\t\\t\\t\\t<a href=\"//pvp.qq.com/cp/a20181105talk/\" onclick=\"PTTSendClick(\\'btn\\',\\'guard\\',\\'µÒÈÊ½Ü»¤ÎÀÕ¾\\');\" class=\"guard_btn\" target=\"_blank\"></a>\\n\\t\\t\\t\\t<a href=\"//pvp.qq.com/cp/a20161115tyf/index.shtml\" onclick=\"PTTSendClick(\\'btn\\',\\'experience\\',\\'ÌåÑé×¨Çø\\');\" class=\"tiyan_btn\" target=\"_blank\"></a>\\n\\t\\t\\t</div>\\n\\t\\t</div>\\n\\t\\t<div class=\"quick_entrance\" exposure-tag=\"quick_entrance,¿ìËÙÈë¿Ú\">\\n\\t\\t\\t <a href=\"/webplat/info/news_version3/15592/29030/29082/29156/m11740/201705/588200.shtml\" title=\"±¬ÁÏÕ¾Èë¿Ú\" class=\"tganime-image-hover\" target=\"_blank\" onclick=\"PTTSendClick(\\'quickLink\\',\\'item1\\',\\'item1\\');\"><img src=\"//ossweb-img.qq.com/upload/webplat/info/yxzj/20190305/969081063248726.jpg\" alt=\"±¬ÁÏÕ¾Èë¿Ú\"/></a>\\r\\n<a href=\"/webplat/info/news_version3/15592/29030/29082/29156/m11740/201705/588204.shtml\" title=\"ÍõÕßÓªµØ\" class=\"tganime-image-hover\" target=\"_blank\" onclick=\"PTTSendClick(\\'quickLink\\',\\'item2\\',\\'item2\\');\"><img src=\"//ossweb-img.qq.com/upload/webplat/info/yxzj/20181210/86638782789061.jpg\" alt=\"ÍõÕßÓªµØ\"/></a>\\r\\n<a href=\"/webplat/info/news_version3/15592/29030/29082/29156/m11740/201705/588203.shtml\" title=\"ÍõÕßÎÄ»¯Õ¾\" class=\"tganime-image-hover\" target=\"_blank\" onclick=\"PTTSendClick(\\'quickLink\\',\\'item3\\',\\'item3\\');\"><img src=\"//ossweb-img.qq.com/upload/webplat/info/yxzj/20181210/49934964177020.jpg\" alt=\"ÍõÕßÎÄ»¯Õ¾\"/></a>\\r\\n<a href=\"/webplat/info/news_version3/15592/29030/29082/29156/m11740/201705/588035.shtml\" title=\"ÈüÊÂ×¨Çø\" class=\"tganime-image-hover\" target=\"_blank\" onclick=\"PTTSendClick(\\'quickLink\\',\\'item4\\',\\'item4\\');\"><img src=\"//ossweb-img.qq.com/upload/webplat/info/yxzj/20190305/58993377293822.jpg\" alt=\"ÈüÊÂ×¨Çø\"/></a>\\r\\n\\n\\t \\t</div>\\n\\t\\t<div class=\"clearfix main_item\">\\n\\t\\t\\t<div class=\"strategy_center fl\" exposure-tag=\"content_center,ÄÚÈÝÖÐÐÄ\">\\n\\t\\t\\t\\t<div class=\"item_header\">\\n\\t\\t\\t\\t\\t<h3 class=\"item_title\">ÄÚÈÝÖÐÐÄ</h3>\\n\\t\\t\\t\\t\\t<a href=\"/raiders/\" target=\"_blank\" class=\"more_btn\" onclick=\"PTTSendClick(\\'more\\',\\'more-strategy\\',\\'¹¥ÂÔÖÐÐÄ-¸ü¶à\\');\">¸ü¶à</a>\\n\\t\\t\\t\\t</div>\\n\\t\\t\\t\\t<div class=\"item_subnav clearfix\">\\n\\t\\t\\t\\t\\t<a href=\"javascript:;\" class=\"on\" onmouseover=\"PTTSendClick(\\'tab\\',\\'raidersCenter-3\\',\\'¾«Æ·À¸Ä¿\\');\">¾«Æ·À¸Ä¿</a>\\n\\t\\t\\t\\t\\t<span class=\"split\"></span>\\n\\t\\t\\t\\t\\t<a href=\"javascript:;\" onmouseover=\"PTTSendClick(\\'tab\\',\\'raidersCenter-2\\',\\'ÈüÊÂ¾«Æ·\\');\">ÈüÊÂ¾«Æ·</a>\\n\\t\\t\\t\\t\\t<span class=\"split\"></span>\\n\\t\\t\\t\\t\\t<a href=\"javascript:;\" onmouseover=\"PTTSendClick(\\'tab\\',\\'raidersCenter-1\\',\\'Ó¢ÐÛ¹¥ÂÔ\\');\">Ó¢ÐÛ¹¥ÂÔ</a>\\n\\t\\t\\t\\t</div>\\n\\t\\t\\t\\t<div id=\"item_thirdnav0\" class=\"item_thirdnav tganime-fadein clearfix\">\\n\\t\\t\\t\\t\\t<div class=\"title\">\\n\\t\\t\\t\\t\\t\\t<a href=\"javascript:;\" class=\"on\" data-key=\"item2\" onmouseover=\"PTTSendClick(\\'tab\\',\\'raidersCenter-3-1\\',\\'×îÐÂ\\');\">×îÐÂ</a>\\n<a href=\"javascript:;\" data-key=\"1809\" onmouseover=\"PTTSendClick(\\'tab\\',\\'raidersCenter-3-2\\',\\'°ÙÐÇÍõÕß´øÄã·É\\');\">°ÙÐÇÍõÕß´øÄã·É</a>\\n<a href=\"javascript:;\" data-key=\"2484\" onmouseover=\"PTTSendClick(\\'tab\\',\\'raidersCenter-3-3\\',\\'Ï¿¹ÈÇé±¨¾Ö\\');\">Ï¿¹ÈÇé±¨¾Ö</a>\\n<a href=\"javascript:;\" data-key=\"2609\" onmouseover=\"PTTSendClick(\\'tab\\',\\'raidersCenter-3-4\\',\\'Áã¶ÈÍõÕßÊÓ½Ç\\');\">Áã¶ÈÍõÕßÊÓ½Ç</a>\\n<a href=\"javascript:;\" data-key=\"1371\" onmouseover=\"PTTSendClick(\\'tab\\',\\'raidersCenter-3-5\\',\\'Ï¿¹ÈÖØ°¸×éµÚÈý¼¾\\');\">Ï¿¹ÈÖØ°¸×éµÚÈý¼¾</a>\\n<a href=\"javascript:;\" data-key=\"1855\" onmouseover=\"PTTSendClick(\\'tab\\',\\'raidersCenter-3-6\\',\\'ÍõÕß¿ËÖÆÂÛ\\');\">ÍõÕß¿ËÖÆÂÛ</a>\\n<a href=\"javascript:;\" data-key=\"1757\" onmouseover=\"PTTSendClick(\\'tab\\',\\'raidersCenter-3-7\\',\\'ÉÏ·ÖÅÄµµ\\');\">ÉÏ·ÖÅÄµµ</a>\\n<a href=\"javascript:;\" data-key=\"1379\" onmouseover=\"PTTSendClick(\\'tab\\',\\'raidersCenter-3-8\\',\\'ÌìÏÂÍõÕß\\');\">ÌìÏÂÍõÕß</a>\\n<a href=\"javascript:;\" data-key=\"943\" onmouseover=\"PTTSendClick(\\'tab\\',\\'raidersCenter-3-9\\',\\'ÈÙÒ«±øÆ÷Æ×\\');\">ÈÙÒ«±øÆ÷Æ×</a>\\n<a href=\"javascript:;\" data-key=\"953\" onmouseover=\"PTTSendClick(\\'tab\\',\\'raidersCenter-3-10\\',\\'ÆÆ±ùÓ¢ÐÛ\\');\">ÆÆ±ùÓ¢ÐÛ</a>\\n<a href=\"javascript:;\" data-key=\"933\" onmouseover=\"PTTSendClick(\\'tab\\',\\'raidersCenter-3-11\\',\\'Áã¶È´øÄã·É\\');\">Áã¶È´øÄã·É</a>\\n\\t\\t\\t\\t\\t</div>\\n\\t\\t\\t\\t</div>\\n\\t\\t\\t\\t<div id=\"item_thirdnav1\" class=\"item_thirdnav tganime-fadein clearfix\">\\n\\t\\t\\t\\t\\t<div class=\"title\">\\n\\t\\t\\t\\t\\t\\t<!-- <a href=\"javascript:;\" data-key=\"item1\" onmouseover=\"PTTSendClick(\\'tab\\',\\'raidersCenter-2-1\\',\\'×îÐÂ\\');\">×îÐÂ</a> -->\\n<a href=\"javascript:;\" class=\"on\" data-key=\"1639\" onmouseover=\"PTTSendClick(\\'tab\\',\\'raidersCenter-2-2\\',\\'ÍõÕßÕ¨ÂóÁË\\');\">ÍõÕßÕ¨ÂóÁË</a> \\n<a href=\"javascript:;\" data-key=\"1380\" onmouseover=\"PTTSendClick(\\'tab\\',\\'raidersCenter-2-3\\',\\'KPL¹ÛÈüÖ¸ÄÏ\\');\">KPL¹ÛÈüÖ¸ÄÏ</a>\\n<a href=\"javascript:;\" data-key=\"934\" onmouseover=\"PTTSendClick(\\'tab\\',\\'raidersCenter-2-4\\',\\'ÈÙÒ«½øÐÐÊ±\\');\">ÈÙÒ«½øÐÐÊ±</a>\\n<a href=\"javascript:;\" data-key=\"1758\" onmouseover=\"PTTSendClick(\\'tab\\',\\'raidersCenter-2-5\\',\\'´ó´Ð¸çÁÄKPL\\');\">´ó´Ð¸çÁÄKPL</a>\\n<a href=\"javascript:;\" data-key=\"935\" onmouseover=\"PTTSendClick(\\'tab\\',\\'raidersCenter-2-6\\',\\'ÍõÕßÖ°Òµ½ÌÑ§\\');\">ÍõÕßÖ°Òµ½ÌÑ§</a>\\n<a href=\"javascript:;\" data-key=\"1378\" onmouseover=\"PTTSendClick(\\'tab\\',\\'raidersCenter-2-7\\',\\'QGÈÙÒ«Ñ§Ôº\\');\">QGÈÙÒ«Ñ§Ôº</a>\\n<a href=\"javascript:;\" data-key=\"938\" onmouseover=\"PTTSendClick(\\'tab\\',\\'raidersCenter-2-8\\',\\'ÎÒÀ´carry\\');\">ÎÒÀ´carry</a>\\n\\n\\t\\t\\t\\t\\t</div>\\n\\t\\t\\t\\t</div>\\n\\t\\t\\t\\t<div id=\"item_thirdnav2\" class=\"item_thirdnav tganime-fadein\">\\n\\t\\t\\t\\t\\t<div class=\"title\">\\n\\t\\t\\t\\t\\t\\t<span id=\"item_hero\" class=\"item_hero\">Ñ¡ÔñÓ¢ÐÛ</span>\\n\\t\\t\\t\\t\\t</div>\\n\\t\\t\\t\\t\\t<div class=\"dropdown clearfix\">\\n\\t\\t\\t\\t\\t\\t<div class=\"hero_type\">\\n\\t\\t\\t\\t\\t\\t\\t<ul class=\"clearfix types-ms\" id=\"herolist\">\\n\\t\\t\\t\\t\\t\\t\\t\\t<li data-type=\"0\" data-id=\"0\"><label>ÈÈÃÅ</label></li>\\n\\t\\t\\t\\t\\t\\t\\t\\t<li data-type=\"3\" data-id=\"675\"><label>Ì¹¿Ë</label></li>\\n\\t\\t\\t\\t\\t\\t\\t\\t<li data-type=\"1\" data-id=\"623\"><label>Õ½Ê¿</label></li>\\n\\t\\t\\t\\t\\t\\t\\t\\t<li data-type=\"4\" data-id=\"627\"><label>´Ì¿Í</label></li>\\n\\t\\t\\t\\t\\t\\t\\t\\t<li data-type=\"2\" data-id=\"619\"><label>·¨Ê¦</label></li>\\n\\t\\t\\t\\t\\t\\t\\t\\t<li data-type=\"5\" data-id=\"641\"><label>ÉäÊÖ</label></li>\\n\\t\\t\\t\\t\\t\\t\\t\\t<li data-type=\"6\" data-id=\"676\"><label>¸¨Öú</label></li>\\n\\t\\t\\t\\t\\t\\t\\t</ul>\\n\\t\\t\\t\\t\\t\\t</div>\\n\\t\\t\\t\\t\\t\\t<div class=\"hero_list\">\\n\\t\\t\\t\\t\\t\\t\\t<ul class=\"herolist clearfix\" id=\"hero_list\">\\n\\t\\t\\t\\t\\t\\t\\t</ul>\\n\\t\\t\\t\\t\\t\\t</div>\\n\\t\\t\\t\\t\\t</div>\\n\\t\\t\\t\\t</div>\\n\\t\\t\\t\\t<div class=\"item_content\">\\n\\t\\t\\t\\t\\t<ul class=\"video_list clearfix tganime-fadein on\" id=\"videoList\"></ul>\\n\\t\\t\\t\\t</div>\\n\\t\\t\\t</div>\\n\\t\\t\\t<div class=\"skin_center fl\" exposure-tag=\"hero_skin,Ó¢ÐÛÆ¤·ô\">\\n\\t\\t\\t\\t<div class=\"item_header\">\\n\\t\\t\\t\\t\\t<h3 class=\"item_title\">Ó¢ÐÛ/Æ¤·ô</h3>\\n\\t\\t\\t\\t\\t<a href=\"//pvp.qq.com/web201605/herolist.shtml\" target=\"_blank\" class=\"more_btn\" onclick=\"PTTSendClick(\\'more\\',\\'more-hero-skin\\',\\'Ó¢ÐÛ-Æ¤·ô-¸ü¶à\\');\">¸ü¶à</a>\\n\\t\\t\\t\\t</div>\\n\\t\\t\\t\\t<div class=\"tganime-slide-slidein\">\\n\\t\\t\\t\\t\\t<div class=\"item_subnav clearfix  tganime-tab-underline skin-center-tab\">\\n\\t\\t\\t\\t\\t\\t<a href=\"javascript:;\" class=\"on\" onmouseover=\"PTTSendClick(\\'side_strategy\\',\\'hero\\',\\'×îÐÂÓ¢ÐÛ\\');\">×îÐÂÓ¢ÐÛ</a>\\n\\t\\t\\t\\t\\t\\t<span class=\"split\"></span>\\n\\t\\t\\t\\t\\t\\t<a href=\"javascript:;\" onmouseover=\"PTTSendClick(\\'side_strategy\\',\\'skin\\',\\'×îÐÂÆ¤·ô\\');\">×îÐÂÆ¤·ô</a>            \\n\\t\\t\\t\\t\\t\\t<span class=\"split\"></span>\\n\\t\\t\\t\\t\\t\\t<a href=\"javascript:;\" onmouseover=\"PTTSendClick(\\'side_strategy\\',\\'gratis\\',\\'ÖÜÃâÓ¢ÐÛ\\');\">ÖÜÃâÓ¢ÐÛ</a>\\n\\t\\t\\t\\t\\t</div>\\n\\t\\t\\t\\t\\t<div class=\"slide-content\">\\n\\t\\t\\t\\t\\t\\t<div class=\"tganime-slide-list skin-center-list\">\\n\\t\\t\\t\\t\\t\\t\\t<div class=\"item_content\">\\n\\t\\t\\t\\t\\t\\t\\t\\t<div class=\"new_hero\">\\r\\n  <a href=\"/webplat/info/news_version3/15592/29030/29082/29083/m11740/201904/804017.shtml\" target=\"_blank\" onclick=\"PTTSendClick(\\'link\\',\\'new-hero-main\\',\\'×îÐÂÓ¢ÐÛ-´óÍ¼\\');\">\\r\\n    <img width=\"295\" height=\"156\" data-original=\"//game.gtimg.cn/images/yxzj/img201606/freehero/horizontal/505.jpg\" class=\"lazy\"/>\\r\\n  </a>\\r\\n  <div class=\"new_hero_bottom\">\\r\\n    <p class=\"new_hero_name\">ÐÂÓ¢ÐÛ£ºÑþ</p>\\r\\n    <p>ÉÏÏßÊ±¼ä£º2019-04-16</p>\\r\\n  </div>\\r\\n</div>\\r\\n\\n\\t\\t\\t\\t\\t\\t\\t\\t<div class=\"hero_pic_list clearfix\">\\n\\t\\t\\t\\t\\t\\t\\t\\t\\t<ul>\\n\\t\\t\\t\\t\\t\\t\\t\\t\\t\\t<li>\\r\\n  <a href=\"/webplat/info/news_version3/15592/29030/29082/29084/m11740/201904/804019.shtml\" class=\"tganime-fadein-trigger\" target=\"_blank\" onclick=\"PTTSendClick(\\'link\\',\\'new-hero-item1\\',\\'ÐÂÓ¢ÐÛ-ÁÐ±í-Ð¡Í¼1\\');\">\\r\\n    <img width=\"68\" height=\"173\" data-original=\"//game.gtimg.cn/images/yxzj/img201606/freehero/vertical/529.jpg\" class=\"lazy\"/>\\r\\n    <span class=\"hero_mask tganime-fadein-child\"></span>\\r\\n    <span class=\"hero_name tganime-fadein-child\">ÅÌ¹Å</span>\\r\\n  </a>\\r\\n</li>\\r\\n<li>\\r\\n  <a href=\"/webplat/info/news_version3/15592/29030/29082/29084/m11740/201902/793699.shtml\" class=\"tganime-fadein-trigger\" target=\"_blank\" onclick=\"PTTSendClick(\\'link\\',\\'new-hero-item2\\',\\'ÐÂÓ¢ÐÛ-ÁÐ±í-Ð¡Í¼2\\');\">\\r\\n    <img width=\"68\" height=\"173\" data-original=\"//game.gtimg.cn/images/yxzj/img201606/freehero/vertical/511.jpg\" class=\"lazy\"/>\\r\\n    <span class=\"hero_mask tganime-fadein-child\"></span>\\r\\n    <span class=\"hero_name tganime-fadein-child\">Öí°Ë½ä</span>\\r\\n  </a>\\r\\n</li>\\r\\n<li>\\r\\n  <a href=\"/webplat/info/news_version3/15592/29030/29082/29084/m11740/201901/791283.shtml\" class=\"tganime-fadein-trigger\" target=\"_blank\" onclick=\"PTTSendClick(\\'link\\',\\'new-hero-item3\\',\\'ÐÂÓ¢ÐÛ-ÁÐ±í-Ð¡Í¼3\\');\">\\r\\n    <img width=\"68\" height=\"173\" data-original=\"//game.gtimg.cn/images/yxzj/img201606/freehero/vertical/515.jpg\" class=\"lazy\"/>\\r\\n    <span class=\"hero_mask tganime-fadein-child\"></span>\\r\\n    <span class=\"hero_name tganime-fadein-child\">æÏ¶ð</span>\\r\\n  </a>\\r\\n</li>\\r\\n<li>\\r\\n  <a href=\"/webplat/info/news_version3/15592/29030/29082/29084/m11740/201901/788484.shtml\" class=\"tganime-fadein-trigger\" target=\"_blank\" onclick=\"PTTSendClick(\\'link\\',\\'new-hero-item4\\',\\'ÐÂÓ¢ÐÛ-ÁÐ±í-Ð¡Í¼4\\');\">\\r\\n    <img width=\"68\" height=\"173\" data-original=\"//game.gtimg.cn/images/yxzj/img201606/freehero/vertical/513.jpg\" class=\"lazy\"/>\\r\\n    <span class=\"hero_mask tganime-fadein-child\"></span>\\r\\n    <span class=\"hero_name tganime-fadein-child\">ÉÏ¹ÙÍñ¶ù</span>\\r\\n  </a>\\r\\n</li>\\r\\n\\n\\t\\t\\t\\t\\t\\t\\t\\t\\t</ul>\\n\\t\\t\\t\\t\\t\\t\\t\\t</div>\\n\\t\\t\\t\\t\\t\\t\\t</div>\\n\\t\\t\\t\\t\\t\\t\\t<div class=\"item_content\">\\n\\t\\t\\t\\t\\t\\t\\t\\t<div class=\"new_hero\">\\r\\n  <a href=\"//pvp.qq.com/web201605/herodetail/168.shtml\" target=\"_blank\" onclick=\"PTTSendClick(\\'link\\',\\'hero-skin-main\\',\\'Ó¢ÐÛ-Æ¤·ô-´óÍ¼\\');\">\\r\\n    <img width=\"295\" height=\"156\" data-original=\"//game.gtimg.cn/images/yxzj/img201606/freehero/horizontal/168_skin.jpg\" class=\"lazy\"/>\\r\\n  </a>\\r\\n  <div class=\"new_hero_bottom\">\\r\\n    <p class=\"new_hero_name\">ÐÂÆ¤·ô£ºÅ£Ä§-Óùìº</p>\\r\\n    <p>ÉÏÏßÊ±¼ä£ºS15Èü¼¾</p>\\r\\n  </div>\\r\\n</div>\\r\\n\\n\\t\\t\\t\\t\\t\\t\\t\\t<div class=\"hero_pic_list clearfix\">\\n\\t\\t\\t\\t\\t\\t\\t\\t\\t<ul>\\n\\t\\t\\t\\t\\t\\t\\t\\t\\t\\t<li>\\r\\n  <a href=\"//pvp.qq.com/web201605/herodetail/179.shtml\" target=\"_blank\" class=\"tganime-fadein-trigger\" onclick=\"PTTSendClick(\\'link\\',\\'hero-skin-item1\\',\\'Ó¢ÐÛ-Æ¤·ô-Ð¡Í¼1\\');\">\\r\\n    <img width=\"68\" height=\"173\" data-original=\"//game.gtimg.cn/images/yxzj/img201606/freehero/vertical/179_skin.jpg\" class=\"lazy\"/>\\r\\n    <span class=\"hero_mask tganime-fadein-child\"></span>\\r\\n    <span class=\"hero_name tganime-fadein-child\">Å®æ´-Ë·ÍûÖ®êÍ</span>\\r\\n  </a>\\r\\n</li>\\r\\n<li>\\r\\n  <a href=\"//pvp.qq.com/web201605/herodetail/129.shtml\" target=\"_blank\" class=\"tganime-fadein-trigger\" onclick=\"PTTSendClick(\\'link\\',\\'hero-skin-item2\\',\\'Ó¢ÐÛ-Æ¤·ô-Ð¡Í¼2\\');\">\\r\\n    <img width=\"68\" height=\"173\" data-original=\"//game.gtimg.cn/images/yxzj/img201606/freehero/vertical/129_skin.jpg\" class=\"lazy\"/>\\r\\n    <span class=\"hero_mask tganime-fadein-child\"></span>\\r\\n    <span class=\"hero_name tganime-fadein-child\">µäÎ¤-À¶ÆÁ¾¯¸æ</span>\\r\\n  </a>\\r\\n</li>\\r\\n<li>\\r\\n  <a href=\"//pvp.qq.com/web201605/herodetail/113.shtml\" target=\"_blank\" class=\"tganime-fadein-trigger\" onclick=\"PTTSendClick(\\'link\\',\\'hero-skin-item3\\',\\'Ó¢ÐÛ-Æ¤·ô-Ð¡Í¼3\\');\">\\r\\n    <img width=\"68\" height=\"173\" data-original=\"//game.gtimg.cn/images/yxzj/img201606/freehero/vertical/113_skin.jpg\" class=\"lazy\"/>\\r\\n    <span class=\"hero_mask tganime-fadein-child\"></span>\\r\\n    <span class=\"hero_name tganime-fadein-child\">×¯ÖÜ¡¤ÆæÃî²©ÎïÑ§</span>\\r\\n  </a>\\r\\n</li>\\r\\n<li>\\r\\n  <a href=\"//pvp.qq.com/web201605/herodetail/529.shtml\" target=\"_blank\" class=\"tganime-fadein-trigger\" onclick=\"PTTSendClick(\\'link\\',\\'hero-skin-item4\\',\\'Ó¢ÐÛ-Æ¤·ô-Ð¡Í¼4\\');\">\\r\\n    <img width=\"68\" height=\"173\" data-original=\"//game.gtimg.cn/images/yxzj/img201606/freehero/vertical/529_skin.jpg\" class=\"lazy\"/>\\r\\n    <span class=\"hero_mask tganime-fadein-child\"></span>\\r\\n    <span class=\"hero_name tganime-fadein-child\">ÅÌ¹Å¡¤´´ÊÀÉñ×£</span>\\r\\n  </a>\\r\\n</li>\\r\\n\\n\\t\\t\\t\\t\\t\\t\\t\\t\\t</ul>\\n\\t\\t\\t\\t\\t\\t\\t\\t</div>\\n\\t\\t\\t\\t\\t\\t\\t</div>\\n\\t\\t\\t\\t\\t\\t\\t<div class=\"item_content\">\\n\\t\\t\\t\\t\\t\\t\\t\\t<div class=\"hero_pic_list clearfix\">\\n\\t\\t\\t\\t\\t\\t\\t\\t\\t<ul>\\n\\t\\t\\t\\t\\t\\t\\t\\t\\t\\t<li>\\r\\n  <a href=\"/webplat/info/news_version3/15592/29030/29082/29088/m11740/201705/587409.shtml\" class=\"tganime-fadein-trigger\" target=\"_blank\" onclick=\"PTTSendClick(\\'link\\',\\'side-freehero-item1\\',\\'ÖÜÃâÓ¢ÐÛ-Å®æ´\\');\">\\r\\n    <img width=\"68\" height=\"173\" data-original=\"//game.gtimg.cn/images/yxzj/img201606/freehero/vertical/179.jpg\"/ class=\"lazy\">\\r\\n    <span class=\"hero_mask tganime-fadein-child\"></span>\\r\\n    <span class=\"hero_name tganime-fadein-child\">Å®æ´</span>\\r\\n  </a>\\r\\n</li>\\r\\n<li>\\r\\n  <a href=\"/webplat/info/news_version3/15592/29030/29082/29088/m11740/201705/587408.shtml\" class=\"tganime-fadein-trigger\" target=\"_blank\" onclick=\"PTTSendClick(\\'link\\',\\'side-freehero-item2\\',\\'ÖÜÃâÓ¢ÐÛ-±âÈµ\\');\">\\r\\n    <img width=\"68\" height=\"173\" data-original=\"//game.gtimg.cn/images/yxzj/img201606/freehero/vertical/119.jpg\"/ class=\"lazy\">\\r\\n    <span class=\"hero_mask tganime-fadein-child\"></span>\\r\\n    <span class=\"hero_name tganime-fadein-child\">±âÈµ</span>\\r\\n  </a>\\r\\n</li>\\r\\n<li>\\r\\n  <a href=\"/webplat/info/news_version3/15592/29030/29082/29088/m11740/201705/587407.shtml\" class=\"tganime-fadein-trigger\" target=\"_blank\" onclick=\"PTTSendClick(\\'link\\',\\'side-freehero-item3\\',\\'ÖÜÃâÓ¢ÐÛ-ÀÏ·ò×Ó\\');\">\\r\\n    <img width=\"68\" height=\"173\" data-original=\"//game.gtimg.cn/images/yxzj/img201606/freehero/vertical/139.jpg\"/ class=\"lazy\">\\r\\n    <span class=\"hero_mask tganime-fadein-child\"></span>\\r\\n    <span class=\"hero_name tganime-fadein-child\">ÀÏ·ò×Ó</span>\\r\\n  </a>\\r\\n</li>\\r\\n<li>\\r\\n  <a href=\"/webplat/info/news_version3/15592/29030/29082/29088/m11740/201705/587406.shtml\" class=\"tganime-fadein-trigger\" target=\"_blank\" onclick=\"PTTSendClick(\\'link\\',\\'side-freehero-item4\\',\\'ÖÜÃâÓ¢ÐÛ-»ÆÖÒ\\');\">\\r\\n    <img width=\"68\" height=\"173\" data-original=\"//game.gtimg.cn/images/yxzj/img201606/freehero/vertical/192.jpg\"/ class=\"lazy\">\\r\\n    <span class=\"hero_mask tganime-fadein-child\"></span>\\r\\n    <span class=\"hero_name tganime-fadein-child\">»ÆÖÒ</span>\\r\\n  </a>\\r\\n</li>\\r\\n<li>\\r\\n  <a href=\"/webplat/info/news_version3/15592/29030/29082/29088/m11740/201705/587404.shtml\" class=\"tganime-fadein-trigger\" target=\"_blank\" onclick=\"PTTSendClick(\\'link\\',\\'side-freehero-item5\\',\\'ÖÜÃâÓ¢ÐÛ-×¯ÖÜ\\');\">\\r\\n    <img width=\"68\" height=\"173\" data-original=\"//game.gtimg.cn/images/yxzj/img201606/freehero/vertical/113.jpg\"/ class=\"lazy\">\\r\\n    <span class=\"hero_mask tganime-fadein-child\"></span>\\r\\n    <span class=\"hero_name tganime-fadein-child\">×¯ÖÜ</span>\\r\\n  </a>\\r\\n</li>\\r\\n<li>\\r\\n  <a href=\"/webplat/info/news_version3/15592/29030/29082/29088/m11740/201705/587403.shtml\" class=\"tganime-fadein-trigger\" target=\"_blank\" onclick=\"PTTSendClick(\\'link\\',\\'side-freehero-item6\\',\\'ÖÜÃâÓ¢ÐÛ-°×Æð\\');\">\\r\\n    <img width=\"68\" height=\"173\" data-original=\"//game.gtimg.cn/images/yxzj/img201606/freehero/vertical/120.jpg\"/ class=\"lazy\">\\r\\n    <span class=\"hero_mask tganime-fadein-child\"></span>\\r\\n    <span class=\"hero_name tganime-fadein-child\">°×Æð</span>\\r\\n  </a>\\r\\n</li>\\r\\n<li>\\r\\n  <a href=\"/webplat/info/news_version3/15592/29030/29082/29088/m11740/201705/587157.shtml\" class=\"tganime-fadein-trigger\" target=\"_blank\" onclick=\"PTTSendClick(\\'link\\',\\'side-freehero-item7\\',\\'ÖÜÃâÓ¢ÐÛ-ÑÅµäÄÈ\\');\">\\r\\n    <img width=\"68\" height=\"173\" data-original=\"//game.gtimg.cn/images/yxzj/img201606/freehero/vertical/183.jpg\"/ class=\"lazy\">\\r\\n    <span class=\"hero_mask tganime-fadein-child\"></span>\\r\\n    <span class=\"hero_name tganime-fadein-child\">ÑÅµäÄÈ</span>\\r\\n  </a>\\r\\n</li>\\r\\n\\n\\t\\t\\t\\t\\t\\t\\t\\t\\t\\t<li>\\n\\t\\t\\t\\t\\t\\t\\t\\t\\t\\t\\t<a href=\"//pvp.qq.com/web201605/herolist.shtml\" onclick=\"PTTSendClick(\\'link\\',\\'side-freehero-more\\',\\'ÖÜÃâÓ¢ÐÛ-²é¿´¸ü¶à\\');\"><img src=\"//game.gtimg.cn/images/yxzj/web201605/new/more_hero.jpg\"/></a>\\n\\t\\t\\t\\t\\t\\t\\t\\t\\t\\t</li>\\n\\t\\t\\t\\t\\t\\t\\t\\t\\t</ul>\\n\\t\\t\\t\\t\\t\\t\\t\\t</div>\\n\\t\\t\\t\\t\\t\\t\\t\\t<p><span class=\"icon_watch\"></span>ÏÞÃâÊ±¼ä£º<em id=\"freeDayBegin\" class=\"date\">xxxx-xx-xx</em>ÖÁ<em id=\"freeDayEnd\" class=\"date\">xxxx-xx-xx</em></p>\\n\\t\\t\\t\\t\\t\\t\\t</div>          \\n\\t\\t\\t\\t\\t\\t</div>\\n\\t\\t\\t\\t\\t</div>\\n\\t\\t\\t\\t</div>\\n\\t\\t\\t</div>\\n\\t\\t</div>\\n\\t\\t<div class=\"clearfix main_item\">\\n\\t\\t\\t<div class=\"match_center fl\" exposure-tag=\"match_center,ÈüÊÂÖÐÐÄ\">\\n\\t\\t\\t\\t<div class=\"item_header\">\\n\\t\\t\\t\\t\\t<h3 class=\"item_title\">ÈüÊÂÖÐÐÄ</h3>\\n\\t\\t\\t\\t\\t<a href=\"/match/center.shtml?ADTAG=pvp.index.matchcenter.more\" class=\"more_btn\">¸ü¶à</a>\\n\\t\\t\\t\\t</div>\\n\\t\\t\\t\\t<div class=\"item_subnav clearfix\" id=\"VideoTypeId_751_index\"></div>\\n\\t\\t\\t\\t<div class=\"item_content tganime-fadein on\" id=\"match-center\">\\n\\t\\t\\t\\t\\t<div class=\"clearfix match_news\">\\n\\t\\t\\t\\t\\t\\t<div id=\"match_news_pic\">\\n\\t\\t\\t\\t\\t\\t\\t <a href=\"\" class=\"match_news_pic\"><img src=\"about:blank\" width=\"211\" height=\"260\" /></a>\\n\\t\\t\\t\\t\\t\\t</div>\\n\\t\\t\\t\\t\\t\\t<div class=\"match_news_list\">\\n\\t\\t\\t\\t\\t\\t\\t<ul class=\"news-list match-list-l\"></ul>\\n\\t\\t\\t\\t\\t\\t</div>\\n\\t\\t\\t\\t\\t</div>\\n\\t\\t\\t\\t\\t<ul class=\"video_list match-list-r clearfix\"  id=\"matchVideoList\"></ul>\\n\\t\\t\\t\\t</div>\\n\\t\\t\\t</div>\\n\\t\\t\\t<div class=\"match_schedule\" exposure-tag=\"match_schedule,¹Ú¾ü±\\xadÈü³Ì\">\\n\\t\\t\\t\\t<div class=\"item_header\">\\n\\t\\t\\t\\t\\t<!--<h3 class=\"item_title\">KPLÈü³Ì</h3>-->\\n\\t\\t\\t\\t\\t<h3 class=\"item_title\">KPLÈü³Ì</h3>\\n\\t\\t\\t\\t\\t<a href=\"/match/kpl/index.shtml?pos=ticket\" target=\"_blank\" class=\"buy_ticket\" onclick=\"PTTSendClick(\\'matchcenter\\',\\'ticket\\',\\'¹ºÆ±\\');\">¹ºÆ±</a>\\n\\t\\t\\t\\t\\t<a href=\"/match/kpl/index.shtml\" target=\"_blank\" class=\"more_btn\" onclick=\"PTTSendClick(\\'matchcenter\\',\\'more\\',\\'¸ü¶à\\');\">¸ü¶à</a>\\n\\t\\t\\t\\t</div>\\n\\t\\t\\t\\t<div class=\"item_subnav clearfix\">\\n\\t\\t\\t\\t\\t<span class=\"col1\">Ê±¼ä</span>\\n\\t\\t\\t\\t\\t<span class=\"col1\">Õ½¶Ó</span>\\n\\t\\t\\t\\t\\t<span class=\"col2\"></span>\\n\\t\\t\\t\\t\\t<span class=\"col1\">Õ½¶Ó</span>\\n\\t\\t\\t\\t</div>\\n\\t\\t\\t\\t<div class=\"item_content\" id=\"match_schedule_content\" data-matchid=\"8\">\\n\\t\\t\\t\\t\\t<ul></ul>\\n\\t\\t\\t\\t</div>\\n\\t\\t\\t\\t<div class=\"match_adver\">\\n\\t<a href=\"/webplat/info/news_version3/15592/29030/29082/29087/m11740/201705/588478.shtml\" onclick=\"PTTSendClick(\\'ad\\',\\'side-match-ad1\\',\\'Èü³Ì¹ã¸æÎ»1\\');\" target=\"_blank\"><img data-original=\"//ossweb-img.qq.com/upload/webplat/info/yxzj/20190228/371065130833.jpg\" class=\"lazy\"></a>\\n</div>\\n\\n\\t\\t\\t</div>\\n\\t\\t</div>\\n\\t</div>\\n</div>\\n\\n<!-- ÏÂÔØ -->\\n<div class=\"dialog download-popup\" id=\"download\" style=\"display:none\">\\n\\t<div class=\"dia-con\">\\n\\t\\t\\t<div class=\"dia-download clearfix\">\\n\\t\\t\\t\\t<div class=\"code\"><img src=\"//game.gtimg.cn/images/yxzj/web201605/page/code.png\"></div>\\n\\t\\t\\t\\t<div class=\"btnlist\">\\n\\t\\t\\t\\t\\t<a href=\"//dlied6.qq.com/invc/xfspeed/qqpcmgr/download/GameDownload_wzry_Build4096_12.exe\" target=\"_blank\" class=\"pc\" onclick=\"PTTSendClick(\\'downloadDialog\\',\\'pc\\',\\'PCÄ£ÄâÆ÷ÏÂÔØ\\');\"></a>\\n\\t\\t\\t\\t\\t<a href=\"https://itunes.apple.com/cn/app/wang-zhe-rong-yao-quan-qiu/id989673964?mt=8\" target=\"_blank\" class=\"ios\" onclick=\"PTTSendClick(\\'downloadDialog\\',\\'ios\\',\\'iosÏÂÔØ\\');\"></a>\\n\\t\\t\\t\\t\\t<a href=\"http://dlied5.myapp.com/myapp/1104466820/sgame/2017_com.tencent.tmgp.sgame_h8691_1.44.1.10_95fcaf.apk\" target=\"_blank\" class=\"android\" onclick=\"PTTSendClick(\\'downloadDialog\\',\\'android\\',\\'°²×¿ÏÂÔØ\\');\"></a>\\n<a href=\"http://dlied5.myapp.com/myapp/1104466820/sgame/2017_com.tencent.tmgp.sgame_h8692_1.44.1.10_8c0b98.apk\" target=\"_blank\" class=\"android1\" onclick=\"PTTSendClick(\\'downloadDialog\\',\\'androidMini\\',\\'°²×¿¾«¼ò°æÏÂÔØ\\');\"></a>\\n\\n\\t\\t\\t\\t</div>\\n\\t\\t\\t</div>\\n\\t</div>\\n\\t<a class=\"dia-close\" href=\"javascript:showDialog.hide()\" title=\"¹Ø±Õ\"></a>\\n</div>\\n<!-- Ö±²¥(´ó) -->\\n<div id=\"video_pop\" class=\"dialog pop-video\" style=\"display: none;\">\\n  <div class=\"dia-con pop-video-db\">\\n    <div class=\"main\">\\n      <div id=\"con\">\\n        <div class=\"con-i\">\\n          <div id=\"mod_player\" class=\"video\"></div>\\n        </div>\\n      </div>\\n    </div>\\n  </div>\\n  <a href=\"javascript:showDialog.hide();\" class=\"pop-video-close\" title=\"µã»÷¹Ø±Õ\">µã»÷¹Ø±Õ</a>\\n  <a href=\"javascript:showDialog.hide();\" class=\"pop-video-small\" title=\"µã»÷ËõÐ¡\">µã»÷ËõÐ¡</a>\\n  <a href=\"//pvp.qq.com/act/a20170625kpl/index.htm?ADTAG=pvp.hi\" id=\"popVideoLink\" class=\"pop-video-link\" title=\"½øÈë×¨Ìâ\">½øÈë×¨Ìâ</a>\\n</div>\\n\\n<!-- Ö±²¥(ËõÐ¡) -->\\n<div class=\"videopop\" id=\"videoSpop\">\\n  \\t<a href=\"javascript:;\" class=\"clspop\">&times;</a>\\n\\t<div class=\"vpop\" id=\"vpop\"></div>\\n</div>\\n<!-- Ö±²¥µ¯²ã config -->\\n<!-- virtual=\"/webplat/info/news_version3/15592/24091/27100/m16761/index.shtml\"--> \\n<!-- ÓÒÏÂ½Çµ¯²ã config -->\\n \\n<!-- ÓÒ²àÆ¯´° 2018-06-13 -->\\n<style>\\r\\n.r_nav{pointer-events:none; position: fixed;z-index:3;  top: 50%; right: 0;margin-top:-240px; width: 254px; height: 494px; background:url(\"//game.gtimg.cn/images/yxzj/web201706/images/comm/floatwindow/r_navBg.png\") no-repeat top left; }\\r\\n.r_nav li{list-style:none;padding:0;}\\r\\n.r_nav div,.r_nav li,.r_nav p,.r_nav a{padding:0;margin:0;}\\r\\n.r_nav .r_con{pointer-events:auto; position: absolute; top: 160px; left: 85px; }\\r\\n.r_nav .r_dj{ position: absolute; top: 15px; left: 24px; z-index: 2; width: 165px; height: 145px; background: url(\"//game.gtimg.cn/images/yxzj/web201706/images/comm/floatwindow/r_dj.png\") no-repeat top center;}\\r\\n.r_nav .r_dj span{display: block; position: absolute; top: 37px; left: 12px; width: 88px; height: 36px; font-size: 14px; text-indent: 14px; font-weight: bold; line-height: 18px; color: #62401b; overflow: hidden;}\\r\\n.r_nav .r_con .r_yyw,.r_nav .r_con .r_code{ position: relative; width: 117px; height: 113px; background: url(\"//game.gtimg.cn/images/yxzj/web201706/images/comm/floatwindow/r_all.png\") no-repeat 0 -3px; padding-top: 3px;}\\r\\n.r_nav .r_con .topImg,.yybd .yyInfo,.r_assBg .assCode{ display: block; margin: 0 auto;}\\r\\n.r_nav .r_con .r_code{ margin-top: 1px;}\\r\\n.r_con .r_burst,.r_con .r_assistant,.r_con .r_wc_gzh{ width: 117px; height: 38px; margin-top: 1px; }{ width: 117px; height: 38px; margin-top: 1px; }\\r\\n.r_con .r_burst{ background: url(\"//game.gtimg.cn/images/yxzj/web201706/images/comm/floatwindow/r_all.png\") no-repeat -122px -120px;}\\r\\n.r_con .r_burst a{ display: block; width: 100%; height: 100%;}\\r\\n.r_con .r_assistant{ position: relative; background: url(\"//game.gtimg.cn/images/yxzj/web201706/images/comm/floatwindow/r_all.png\") no-repeat 0 -160px;}\\r\\n.yybd{ display: none; position: absolute; top: 0; left: -200px;  width: 199px; height: 131px; background: url(\"//game.gtimg.cn/images/yxzj/web201706/images/comm/floatwindow/r_all.png\") no-repeat 0 -281px; padding-top: 2px}\\r\\n.yybd p{ position: absolute; bottom: 2px; left: 50%; width: 195px; height: 30px; margin-left: -97.5px; text-align: center; line-height: 30px; color: #dcdcdc; font-size: 12px; overflow: hidden}\\r\\n.r_con .r_assBg{display: none; position: absolute; top: -66px; left: -116px;  width: 115px; height: 144px; background: url(\"//game.gtimg.cn/images/yxzj/web201706/images/comm/floatwindow/r_all.png\") no-repeat 0 -416px; padding-top: 7px }\\r\\n.r_assBg .assCode{ margin-bottom: 6px;}\\r\\n.r_assBg p{ width: 101px; height: 34px; line-height: 17px; color: #dcdcdc; font-size: 12px; text-align: center; margin: 0 auto; overflow: hidden}\\r\\n.r_assBg p span{ color: #cd974b;}\\r\\n.r_con .r_burst:hover{ background: url(\"//game.gtimg.cn/images/yxzj/web201706/images/comm/floatwindow/r_all.png\") no-repeat -122px -240px;}\\r\\n.r_con .r_assistant:hover{ background: url(\"//game.gtimg.cn/images/yxzj/web201706/images/comm/floatwindow/r_all.png\") no-repeat 0 -240px;}\\r\\n.r_con .r_yyw:hover .yybd{ display: block}\\r\\n.r_con .r_assistant:hover .r_assBg,.r_con .r_wc_gzh:hover .r_assBg{ display: block}\\r\\n.r_con .r_wc_gzh{ position: relative; background: url(\"//game.gtimg.cn/images/yxzj/web201706/images/comm/floatwindow/r_all.png\") no-repeat -122px -160px;}\\r\\n.r_con .r_wc_gzh:hover{ background: url(\"//game.gtimg.cn/images/yxzj/web201706/images/comm/floatwindow/r_all.png\") no-repeat -122px -200px;}\\r\\n.r_wc_gzh .r_assBg p{ width: 100%;}\\r\\n</style>\\r\\n<div class=\"r_nav\">\\r\\n    <div class=\"r_dj\">\\r\\n        <span>ÏÂÔØÍõÕßÓªµØÃ¿ÌìÁì¸£Àû~</span>\\r\\n    </div>\\r\\n    <ul class=\"r_con\">\\r\\n                <li class=\"r_code\">\\r\\n            <img src=\"//game.gtimg.cn/images/yxzj/web201706/images/comm/floatwindow/r_code.jpg\" width=\"111\" height=\"110\" class=\"topImg\" alt=\"ÏÂÔØÓÎÏ·\"/>\\r\\n        </li>\\r\\n         <li class=\"r_burst\"><a href=\"//weibo.com/heromoba\" onclick=\"PTTSendClick(\\'link\\',\\'gfwb\\',\\'¹Ù·½Î¢²©\\');\" target=\"_blank\" title=\"¹Ù·½Î¢²©\"></a></li>\\r\\n        <li class=\"r_wc_gzh tganime-fadein-trigger \">\\r\\n            <div class=\"r_assBg tganime-fadein-child\">\\r\\n                <img src=\"//game.gtimg.cn/images/yxzj/web201706/images/comm/floatwindow/gzh_code.jpg\" alt=\"Î¢ÐÅ¹«ÖÚºÅ\" width=\"101\" height=\"100\" class=\"assCode\"/>\\r\\n                <p>É¨Âë<span>¹Ø×¢¹Ù·½¹«ÖÚºÅ</span><br/>»ñÈ¡<span>×îÐÂ×ÊÑ¶¼°ºÃÀñ</span></p>\\r\\n            </div>\\r\\n        </li>\\r\\n    </ul>\\r\\n</div>\\r\\n \\n\\n<script>var isdSpeedRecorderDomLoaded = new Date();</script>\\n<!-- Lib  -->\\n<script src=\"//game.gtimg.cn/images/js/jquery/jquery-1.11.3.min.js\"></script>\\n<script src=\"//game.gtimg.cn/images/yxzj/web201706/js/lazyload.min.js\"></script>\\n<script src=\"//game.gtimg.cn/images/js/milo/milo.js\"></script>\\n<!-- Site header footer  -->\\n<!-- <script src=\"ossweb-img/js/header.js\"></script> -->\\n<script src=\"//game.gtimg.cn/images/yxzj/web201706/js/header.js\"></script>\\n<script src=\"//game.gtimg.cn/images/yxzj/web201706/js/footer.js\"></script>\\n<script src=\"//game.gtimg.cn/images/js/title.js\"></script>\\n<!-- AMS KV Link -->\\n<div id=\"kvLinkSetDiv\" style=\"display:none\">\\n<div class=\"kv-bg\" style=\"background-image:url(//ossweb-img.qq.com/upload/webplat/info/yxzj/20190425/892131058870929.jpg);\">\\n\\t        \\t\\t<a href=\"https://pvp.qq.com/cp/a20190505wwkhj/\" onClick=\"PTTSendClick(\\'btn\\',\\'topkv\\',\\'½øÈë×¨Ìâ\\');\"  class=\"kv_link\" title=\"²é¿´ÏêÇé\" target=\"_blank\">²é¿´ÏêÇé</a>\\n        </div>\\n\\n</div>\\n<!-- page js -->\\n<script src=\"//gicp.qq.com/wmp/data/js/PAGE_WMP_BIZ_TYPE.js\"></script>\\n<script src=\"//game.gtimg.cn/images/yxzj/web201706/js/public/Activity_Comm.js\"></script>\\n<script src=\"//gicp.qq.com/wmp/sys/v3.0/js/wmpCommon_v3.js\"></script>\\n<script src=\"//game.gtimg.cn/images/js/eas/eas.js\"></script>\\n<script src=\"//game.gtimg.cn/images/yxzj/web201706/js/heroid.js\"></script>\\n<!-- <script src=\"ossweb-img/js/index.js\"></script> -->\\n<script src=\"//game.gtimg.cn/images/yxzj/web201706/js/index.js\"></script>\\n<script src=\"//game.gtimg.cn/images/yxzj/web201706/js/main.js\"></script>\\n<!-- Í³¼Æ´úÂë -->\\n<script type=\"text/javascript\" src=\"//tajs.qq.com/stats?sId=66157995\" charset=\"UTF-8\"></script>\\n<script src=\"//game.gtimg.cn/images/js/PTT/ping_tcss_tgideas_https_min.js\"></script>\\n<script src=\"//game.gtimg.cn/images/yxzj/web201706/js/tganime.js\"></script>\\n<script type=\"text/javascript\">\\nvar setSite={   //ÉèÖÃÍøÕ¾ÊôÐÔ\\n\\tsiteType:\"os\",\\n\\tpageType:\"index\",   //±ØÌîÏî:±¾Ò³ÃæµÄ¶¨Î»£»°´ÕÕÒ³Ãæº¬ÒåÌîÐ´ÀýÈçmain||list||detail||download||share||page1||pageN\\n\\tpageName:\"Ê×Ò³-PC\",  //±ØÌîÏî:Ò³ÃæÖÐÎÄÃû\\n\\tosact:0,    //Ñ¡ÌîÏî:ÊÇ·ñÊÇ¹ÙÍø×¨Ìâ(ÔÚ¹ÙÍøÔËÓªµÄ×¨Ìâ)boolean£»Ä¬ÈÏÊÇ0£»¿ÉÒÔÔÚÁ´½ÓÉÏ¼ÓÈë²ÎÊýosact=1À´Áé»îÉèÖÃ\\n\\tingame:0,   //Ñ¡ÌîÏî:ÊÇ·ñÍ¶·ÅÔÚÓÎÏ·APPÄÚboolean£»Ä¬ÈÏÊÇ0£»¿ÉÒÔÔÚÁ´½ÓÉÏ¼ÓÈë²ÎÊýingame=1À´Áé»îÉèÖÃ\\n\\tstayTime:1  //Ñ¡ÌîÏî:ÊÇ·ñÐèÒªÍ³¼ÆÍ£ÁôÊ±³¤boolean£»Ä¬ÈÏÊÇ1\\n}\\nif(typeof(pgvMain)==\\'function\\')pgvMain();\\n\\n/* isd²âËÙ */\\n$(window).load(function() {\\n\\tvar isdSpeedRecorderWindowLoaded = new Date();var url = \\'\\';\\n\\tif(Math.random() < 0.3) {\\n\\t\\t// url = \\'//isdspeed.qq.com/cgi-bin/r.cgi?flag1=7718&flag2=249&flag3=1&14=\\' + (isdSpeedRecorderDomLoaded - isdSpeedRecorderInit) + \\'&15=\\' + (isdSpeedRecorderWindowLoaded - isdSpeedRecorderInit);\\n\\t\\turl = \\'//report.huatuo.qq.com/report.cgi?appid=20286&speedparams=\\';\\n\\t\\turl += encodeURIComponent(\\'flag1=21854&flag2=1&flag3=8&1=\\' + (isdSpeedRecorderDomLoaded - isdSpeedRecorderInit) + \\'&2=\\' + (isdSpeedRecorderWindowLoaded - isdSpeedRecorderInit) + \\'&device=pc\\');\\n\\t\\tvar imgSendTimePoint = new Image();\\n\\t\\timgSendTimePoint.src  = url;\\n\\t}\\n});\\n\\n// tganime\\nvar tganimeTimer = setTimeout(function() {\\n\\tTGAnime.init(\\'tganime-slide-slidein\\', {tab: \\'.news-tab-underline\\',slide: \\'.news-slide-list\\', tabChild: \\'.news-tab-underline li\\'})\\n\\tTGAnime.init(\\'tganime-slide-slidein\\', {tab: \\'.skin-center-tab\\',slide: \\'.skin-center-list\\', tabChild: \\'.skin-center-tab a\\'})\\n\\n\\tclearTimeout( tganimeTimer );\\n}, 100)\\n</script>\\n<!-- <style>\\n  .animation-inner {\\n    width: 100%;\\n    height: 100%;\\n    position: fixed;\\n    top: 0;\\n    left: 0;\\n    z-index: 9999;\\n    background: rgba(0, 0, 0, .6);\\n    display: none;\\n  }\\n\\n  .animation-close {\\n    width: 52px;\\n    height: 52px;\\n    top: 300px;\\n    left: 50%;\\n    background: url(//game.gtimg.cn/images/yxzj/cp/a20190129cfcd/gb.png) no-repeat;\\n    margin-left: 350px;\\n    cursor: pointer;\\n    position: absolute;\\n    z-index: 2;\\n  }\\n\\n  .canvas {\\n    width: 1920px;\\n    height: 922px;\\n    position: absolute;\\n    top: 80px;\\n    left: 50%;\\n    margin-left: -960px;\\n  }\\n\\n  .animation-inner .text {\\n    display: none;\\n    width: 510px;\\n    height: 62px;\\n    top: 623px;\\n    left: 50%;\\n    margin-left: -256px;\\n    padding-top: 10px;\\n    position: absolute;\\n    z-index: 2;\\n  }\\n\\n  .animation-inner .text a {\\n    font-size: 22px;\\n    color: #246851;\\n    height: 72px;\\n    width: 100%;\\n    display: block;\\n    overflow: hidden;\\n  }\\n</style>\\n<div class=\"animation-inner\" id=\"IndexAnimation\">\\n  <canvas class=\"canvas\" id=\"IndexAnimationCanvas\" width=\"1920\" height=\"922\">\\n\\n  </canvas>\\n  <div class=\"text\" id=\"txt_bx\">\\n    <a href=\"//pvp.qq.com/v/detail.shtml?G_Biz=18&tid=455196&e_code=pvpweb.searchall.sIdxTime\" target=\"_blank\" onclick=\"animationClick(\\'ÕÑ¾ýÖÐµ¥¹¥ÂÔ\\')\">\\n    </a>\\n  </div>\\n  <a class=\"animation-close\" onclick=\"closeAnimation()\" title=\"¹Ø±Õ\"></a>\\n</div>\\n<script\\n  src=\"//game.gtimg.cn/c/=/images/yxzj/cp/a20190129cfcd/easeljs.min.js,/images/yxzj/cp/a20190129cfcd/light.js,/images/yxzj/cp/a20190129cfcd/role.js,/images/yxzj/cp/a20190129cfcd/leaves.js,/images/yxzj/cp/a20190129cfcd/dot.js\"></script>\\n<script>\\n\\n  var stage = new createjs.Stage(\"IndexAnimationCanvas\")\\n  var startTime\\n\\n\\n  var lightFrames = new createjs.SpriteSheet(lightFrame)\\n  var lightAnimation = new createjs.Sprite(lightFrames)\\n\\n\\n  var dotFrames = new createjs.SpriteSheet(dotFrame)\\n  var dotAnimations = new createjs.Sprite(dotFrames)\\n\\n\\n  var leavesFrames = new createjs.SpriteSheet(leavesFrame)\\n  var leavesAnimation = new createjs.Sprite(leavesFrames)\\n\\n\\n  var roleFrames = new createjs.SpriteSheet(roleFrame)\\n  var roleAnimation = new createjs.Sprite(roleFrames)\\n\\n  var title = new createjs.Bitmap(\\'//game.gtimg.cn/images/yxzj/cp/a20190129cfcd/title.png\\')\\n  title.width = 1920\\n  title.height = 922\\n\\n\\n\\n  createjs.Ticker.timingMode = createjs.Ticker.TIMEOUT\\n\\n  createjs.Ticker.interval = 70\\n  var titleing = false\\n  function tick() {\\n    stage.update()\\n  }\\n  function showAnimation(e) {\\n    createjs.Ticker.addEventListener(\\'tick\\', tick);\\n    $(\\'#IndexAnimation\\').show()\\n    stage.addChild(lightAnimation)\\n    stage.addChild(roleAnimation)\\n    stage.addChild(dotAnimations)\\n    stage.addChild(leavesAnimation)\\n    stage.addChild(title)\\n    title.alpha = 0\\n    lightAnimation.gotoAndPlay(\\'idle\\')\\n    roleAnimation.gotoAndPlay(\\'role\\')\\n    dotAnimations.gotoAndPlay(\\'idle\\')\\n    leavesAnimation.gotoAndPlay(\\'idle\\')\\n    startTime = +new Date\\n    var e1 = roleAnimation.on(\\'tick\\', function () {\\n      if (roleAnimation.currentAnimationFrame > 20) {\\n        leavesAnimation.currentAnimation == \\'idle\\' && (leavesAnimation.gotoAndPlay(\\'leaves\\'));\\n        roleAnimation.off(\\'tick\\', e1)\\n      }\\n    })\\n\\n    var e2 = roleAnimation.on(\\'tick\\', function () {\\n      if (roleAnimation.currentAnimationFrame > 23) {\\n        dotAnimations.currentAnimation == \\'idle\\' && (dotAnimations.gotoAndPlay(\\'dot\\'));\\n        roleAnimation.off(\\'tick\\', e2)\\n      }\\n    })\\n\\n    var e3 = roleAnimation.on(\\'tick\\', function () {\\n      if (roleAnimation.currentAnimationFrame > 38) {\\n        lightAnimation.currentAnimation == \\'idle\\' && (lightAnimation.gotoAndPlay(\\'light\\'));\\n        fadeIn(title, 37)\\n        domFadeIn(document.getElementById(\\'txt_bx\\'), 37)\\n        roleAnimation.off(\\'tick\\', e3)\\n      }\\n    })\\n\\n    var e4 = roleAnimation.on(\\'tick\\', function () {\\n      if (roleAnimation.currentAnimationFrame > 90) {\\n        PTTSendClick(\\'animation\\', \\'done\\', \\'¶¯»\\xad²¥·ÅÍê³É\\')\\n        roleAnimation.off(\\'tick\\', e4)\\n      }\\n    })\\n  }\\n\\n  function fadeIn(ele, fp) {\\n    ele.alpha = 0\\n    function fadeTicker() {\\n      ele.alpha += 1 / fp\\n      if (ele.alpha >= 1) {\\n        ele.alpha = 1\\n        createjs.Ticker.removeEventListener(\\'tick\\', fadeTicker);\\n      }\\n    }\\n    createjs.Ticker.addEventListener(\\'tick\\', fadeTicker);\\n  }\\n\\n  function domFadeIn(ele, fp) {\\n    ele.style.display = \\'block\\'\\n    ele.style.opacity = 0\\n    let opacity = 0\\n    function fadeTicker1() {\\n      opacity += 1 / fp\\n      if (opacity >= 1) {\\n        ele.style.opacity = 1\\n        createjs.Ticker.removeEventListener(\\'tick\\', fadeTicker1);\\n      } else {\\n        ele.style.opacity = opacity\\n      }\\n    }\\n    createjs.Ticker.addEventListener(\\'tick\\', fadeTicker1);\\n  }\\n\\n  function closeAnimation() {\\n    $(\\'#IndexAnimation\\').hide()\\n    stage.removeAllChildren()\\n    stage.update()\\n    createjs.Ticker.removeEventListener(\\'tick\\', tick);\\n    var endTime = +new Date\\n    endTime = parseInt((endTime - startTime) / 1000)\\n    PTTSendClick(\\'animation\\', \\'close\\', \\'¹Ø±Õ¶¯»\\xad\\')\\n    PTTSendClick(\\'animation\\', \\'stay\\' + endTime, \\'¶¯»\\xadÍ£ÁôÊ±¼ä\\')\\n  }\\n\\n  function animationClick(title){\\n    var endTime = +new Date\\n    endTime = parseInt((endTime - startTime) / 1000)\\n    PTTSendClick(\\'animation\\', \\'clickTime\\' + endTime, title)\\n    PTTSendClick(\\'animation\\', \\'link\\', title)\\n  }\\n\\n  function getFrameImages(frames){\\n    var i;\\n    var images = []\\n    for(i = 0; i < frames.length; i++){\\n      images = images.concat(frames[i].images)\\n    }\\n    return images\\n  }\\n  var imagesToLoad = getFrameImages([roleFrame,lightFrame,leavesFrame,dotFrame])\\n  imagesToLoad.push(\"//game.gtimg.cn/images/yxzj/cp/a20190129cfcd/title.png\")\\n    ; (function () {\\n      var i;\\n      var img;\\n      var num = 0\\n      for (i = 0; i < imagesToLoad.length; i++) {\\n        num++\\n        img = new Image()\\n        img.onload = function () {\\n          num--;\\n        }\\n        img.src = imagesToLoad[i]\\n      }\\n      var imageTimer = setInterval(function () {\\n        if (num == 0) {\\n          showAnimation()\\n          clearInterval(imageTimer)\\n        }\\n      }, 300);\\n    })()\\n</script> -->\\n</body>\\n</html>'"
      ]
     },
     "execution_count": 65,
     "metadata": {},
     "output_type": "execute_result"
    }
   ],
   "source": [
    "baidu_response.content.decode(\"ISO-8859-1\")"
   ]
  },
  {
   "cell_type": "markdown",
   "metadata": {},
   "source": [
    "## 一个一个页面往下爬"
   ]
  },
  {
   "cell_type": "code",
   "execution_count": 66,
   "metadata": {},
   "outputs": [],
   "source": [
    "def get_page(page_url):\n",
    "    try:\n",
    "        r=requests.get(page_url)\n",
    "        return r.text\n",
    "    except Exception as inst:\n",
    "        return None"
   ]
  },
  {
   "cell_type": "code",
   "execution_count": 67,
   "metadata": {},
   "outputs": [],
   "source": [
    "#没有BeautifulSoup的方法\n",
    "def get_all_links(page):\n",
    "    links=[]\n",
    "    while True:\n",
    "        url,endpos=get_next_target(page)\n",
    "        if url:\n",
    "            print(url)\n",
    "            page=page[endpos:]\n",
    "        else:\n",
    "            break"
   ]
  },
  {
   "cell_type": "code",
   "execution_count": 68,
   "metadata": {},
   "outputs": [],
   "source": [
    "#BeautifulSoup的方法\n",
    "def get_all_links(page):\n",
    "    soup=BeautifulSoup(page,\"lxml\")\n",
    "    \n",
    "    all_links=[item[\"href\"]\n",
    "              for item in soup.find_all(\"a\")\n",
    "              if \"href\" in item.attrs]\n",
    "    return all_links"
   ]
  },
  {
   "cell_type": "markdown",
   "metadata": {},
   "source": [
    "## 不想处理静态文件链接"
   ]
  },
  {
   "cell_type": "code",
   "execution_count": 69,
   "metadata": {},
   "outputs": [],
   "source": [
    "#BeautifulSoup的方法\n",
    "def get_all_links(page):\n",
    "    soup=BeautifulSoup(page,\"lxml\")\n",
    "    \n",
    "    all_links=[item[\"href\"]\n",
    "              for item in soup.find_all(\"a\")\n",
    "              if \"href\" in item.attrs]\n",
    "    \n",
    "    if all_links:\n",
    "        all_links =[link.strip(\"/\") for link in all_links\n",
    "                   if link.startswith(\"http\") or link.startswith(\"//\")]\n",
    "        ## 爬取规则\n",
    "        for link in all_links:\n",
    "            parsed_url=urlparse(link)\n",
    "            if parsed_url.path:\n",
    "                file_path,ext_name=os.path.splitext(parsed_url.path)\n",
    "                if ext_name in (\".mp4\",\".avi\",\".asf\",\n",
    "                               \".mov\",\".flv\",\".pdf\",\n",
    "                               \".mpg\",\".mpeg\",\".wmv\",\n",
    "                               \".exe\",\".rar\",\".zip\",\".apk\"):\n",
    "                    print(\"skip file download\",link)\n",
    "                    all_links.remove(link)\n",
    "        return all_links\n",
    "    else:\n",
    "        return None"
   ]
  },
  {
   "cell_type": "code",
   "execution_count": 70,
   "metadata": {},
   "outputs": [],
   "source": [
    "def get_page(page_url):\n",
    "    try:\n",
    "        r=requests.get(page_url)\n",
    "        ## 判断给我们的是不是HTML\n",
    "        if \"Content-Type\" in r.headers and r.headers[\"Content-Type\"]==\"text/html\":\n",
    "            return r.text\n",
    "        else:\n",
    "            return None\n",
    "        \n",
    "    except Exception as inst:\n",
    "        return None"
   ]
  },
  {
   "cell_type": "code",
   "execution_count": 71,
   "metadata": {},
   "outputs": [],
   "source": [
    "def union(p,q):\n",
    "    for e in q:\n",
    "        if e not in p:\n",
    "            p.append(e)"
   ]
  },
  {
   "cell_type": "code",
   "execution_count": 72,
   "metadata": {},
   "outputs": [],
   "source": [
    "def crawl_web(seed):\n",
    "    tocrawl=seed\n",
    "    crawled=[]\n",
    "    while tocrawl:\n",
    "        page_url=tocrawl.pop()\n",
    "        print(\"starting crawing\",page_url)\n",
    "        if page_url not in crawled:\n",
    "            union(tocrawl,get_all_links(get_page(page_url)))\n",
    "            crawled.append(page_url)\n",
    "        return crawled"
   ]
  },
  {
   "cell_type": "markdown",
   "metadata": {},
   "source": [
    "## 10-9  4分33"
   ]
  },
  {
   "cell_type": "code",
   "execution_count": 73,
   "metadata": {},
   "outputs": [],
   "source": [
    "def crawl_web(seed):\n",
    "    tocrawl=seed\n",
    "    crawled=[]\n",
    "    while tocrawl:\n",
    "        page_url=tocrawl.pop()\n",
    "        print(\"starting crawing\",page_url)\n",
    "        if page_url not in crawled:\n",
    "            page_content=get_page(page_url)\n",
    "            if page_content:\n",
    "                all_links_onpage=get_all_links(page_content)\n",
    "                if all_links_onpage:\n",
    "                    union(tocrawl,all_links_onpage)\n",
    "            crawled.append(page_url)\n",
    "        return crawled"
   ]
  },
  {
   "cell_type": "markdown",
   "metadata": {},
   "source": [
    "```\n",
    "'http://www.baidu.com/link?url=01h78judZdNGTERVbEYSy7XGR1yZAwx1Y89QKpW0gC7',\n",
    " 'http://www.baidu.com/tools?url=http%3A%2F%2Fwww.baidu.com%2Flink%3Furl%3D01h78judZdNGTERVbEYSy7XGR1yZAwx1Y89QKpW0gC7&jump=http%3A%2F%2Fkoubei.baidu.com%2Fp%2Fsentry%3Ftitle%3D%02%E7%8E%8B%E8%80%85%01%E8%8D%A3%E8%80%80%03%E5%AE%98%E6%96%B9%01%E7%BD%91%E7%AB%99%01-%01%E8%85%BE%E8%AE%AF%01%E6%B8%B8%E6%88%8F%01%26q%3D%E7%8E%8B%E8%80%85%E8%8D%A3%E8%80%80%26from%3Dps_pc4&key=surl',\n",
    " 'http://www.baidu.com/link?url=9Xxg9nuOarlc5q8QsxGO1Jj8xMM9QxEK1daR3sRW47m3PyI6E238OzLlScIKfQyqhd04mW2iPDesN5Ah0Ch-VK',\n",
    " 'http://www.baidu.com/link?url=h5IAxH6wABLh4ZpcLdbaYPM6WT4w2Sv_gc3-ZI-LO3zJE_a-0LV0gJvVLHEq_OiDScXZF560_pgIEL9Gb4Chf_',\n",
    " 'http://www.baidu.com/link?url=OgDJoRESHHQUHpPQQHj7Ii7dA_xGaMkaze93ImA3Saq'\n",
    " ```"
   ]
  },
  {
   "cell_type": "code",
   "execution_count": 75,
   "metadata": {},
   "outputs": [],
   "source": [
    "##限制长度max_pages\n",
    "def crawl_web(seed,max_pages):\n",
    "    tocrawl=seed\n",
    "    crawled=[]\n",
    "    while tocrawl:\n",
    "        page_url=tocrawl.pop()\n",
    "        print(\"starting crawing\",page_url)\n",
    "        if page_url not in crawled and len(crawled)<max_pages:\n",
    "            page_content=get_page(page_url)\n",
    "            if page_content:\n",
    "                all_links_onpage=get_all_links(page_content)\n",
    "                if all_links_onpage:\n",
    "                    union(tocrawl,all_links_onpage)\n",
    "            crawled.append(page_url)\n",
    "        return crawled"
   ]
  },
  {
   "cell_type": "code",
   "execution_count": 76,
   "metadata": {},
   "outputs": [
    {
     "name": "stdout",
     "output_type": "stream",
     "text": [
      "starting crawing http://www.baidu.com/link?url=oSrH_j4rfZzHdtG1fELQLb6Wk2YR3YjY_fyLhFvLdxS\n"
     ]
    }
   ],
   "source": [
    "pages_crawled=crawl_web(all_seeds,3)"
   ]
  },
  {
   "cell_type": "markdown",
   "metadata": {},
   "source": [
    "# 10-10 "
   ]
  },
  {
   "cell_type": "code",
   "execution_count": null,
   "metadata": {},
   "outputs": [],
   "source": []
  },
  {
   "cell_type": "code",
   "execution_count": null,
   "metadata": {},
   "outputs": [],
   "source": []
  },
  {
   "cell_type": "code",
   "execution_count": null,
   "metadata": {},
   "outputs": [],
   "source": []
  },
  {
   "cell_type": "code",
   "execution_count": null,
   "metadata": {},
   "outputs": [],
   "source": []
  },
  {
   "cell_type": "code",
   "execution_count": null,
   "metadata": {},
   "outputs": [],
   "source": []
  }
 ],
 "metadata": {
  "kernelspec": {
   "display_name": "Python 3",
   "language": "python",
   "name": "python3"
  },
  "language_info": {
   "codemirror_mode": {
    "name": "ipython",
    "version": 3
   },
   "file_extension": ".py",
   "mimetype": "text/x-python",
   "name": "python",
   "nbconvert_exporter": "python",
   "pygments_lexer": "ipython3",
   "version": "3.7.3"
  }
 },
 "nbformat": 4,
 "nbformat_minor": 2
}
