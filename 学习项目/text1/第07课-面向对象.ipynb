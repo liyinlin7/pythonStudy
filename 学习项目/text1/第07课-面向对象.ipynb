{
 "cells": [
  {
   "cell_type": "markdown",
   "metadata": {},
   "source": [
    "# *python不支持函数重载"
   ]
  },
  {
   "cell_type": "code",
   "execution_count": 2,
   "metadata": {},
   "outputs": [],
   "source": [
    "from IPython.core.interactiveshell import InteractiveShell\n",
    "InteractiveShell.ast_node_interactivity='all'"
   ]
  },
  {
   "cell_type": "markdown",
   "metadata": {},
   "source": [
    "## self 属于 instance method"
   ]
  },
  {
   "cell_type": "code",
   "execution_count": 6,
   "metadata": {},
   "outputs": [
    {
     "data": {
      "text/plain": [
       "'李'"
      ]
     },
     "execution_count": 6,
     "metadata": {},
     "output_type": "execute_result"
    },
    {
     "data": {
      "text/plain": [
       "int"
      ]
     },
     "execution_count": 6,
     "metadata": {},
     "output_type": "execute_result"
    }
   ],
   "source": [
    "class Person():\n",
    "    def __init__(self,name,age):\n",
    "        self.name=name\n",
    "        self.age=age\n",
    "\n",
    "ed=Person(\"李\",28)\n",
    "ed.name\n",
    "ed.age"
   ]
  },
  {
   "cell_type": "code",
   "execution_count": 10,
   "metadata": {},
   "outputs": [
    {
     "name": "stdout",
     "output_type": "stream",
     "text": [
      "我叫李,今年28岁\n"
     ]
    }
   ],
   "source": [
    "class Person():\n",
    "    def __init__(self,name,age):\n",
    "        self.name=name\n",
    "        self.age=age\n",
    "    \n",
    "    def say(self):\n",
    "        print(\"我叫\"+self.name+\",今年\"+str(self.age)+\"岁\")\n",
    "\n",
    "ed=Person(\"李\",28)\n",
    "ed.say()"
   ]
  },
  {
   "cell_type": "markdown",
   "metadata": {},
   "source": [
    "## 继承"
   ]
  },
  {
   "cell_type": "code",
   "execution_count": 12,
   "metadata": {},
   "outputs": [
    {
     "name": "stdout",
     "output_type": "stream",
     "text": [
      "我叫王,今年30岁\n"
     ]
    }
   ],
   "source": [
    "class MDPerson(Person):\n",
    "    pass\n",
    "\n",
    "en=MDPerson(\"王\",30)\n",
    "en.say()"
   ]
  },
  {
   "cell_type": "code",
   "execution_count": 14,
   "metadata": {},
   "outputs": [
    {
     "name": "stdout",
     "output_type": "stream",
     "text": [
      "我叫王,今年30岁\n",
      "多加了一个方法\n"
     ]
    }
   ],
   "source": [
    "class MDPerson(Person):\n",
    "    def diagnose(self):\n",
    "        print(\"多加了一个方法\")\n",
    "\n",
    "en=MDPerson(\"王\",30)\n",
    "en.say()\n",
    "en.diagnose()"
   ]
  },
  {
   "cell_type": "markdown",
   "metadata": {},
   "source": [
    "## 重写"
   ]
  },
  {
   "cell_type": "code",
   "execution_count": 22,
   "metadata": {},
   "outputs": [
    {
     "name": "stdout",
     "output_type": "stream",
     "text": [
      "这是重写父类的方法，我是王同学,今年30，是个大学生。\n",
      "多加了一个方法\n"
     ]
    }
   ],
   "source": [
    "class MDPerson(Person):\n",
    "    def __init__(self,name,age,dep=\"大学生\"):\n",
    "        self.name=name+\"同学\"\n",
    "        self.age=age\n",
    "        self.dep=dep\n",
    "    def say(self):\n",
    "        print(\"这是重写父类的方法，我是%s,今年%s，是个%s。\"%(self.name,self.age,self.dep))\n",
    "    def diagnose(self):\n",
    "        print(\"多加了一个方法\")\n",
    "en=MDPerson(\"王\",30)\n",
    "en.say()\n",
    "en.diagnose()"
   ]
  },
  {
   "cell_type": "code",
   "execution_count": 40,
   "metadata": {},
   "outputs": [
    {
     "data": {
      "text/plain": [
       "'李'"
      ]
     },
     "execution_count": 40,
     "metadata": {},
     "output_type": "execute_result"
    },
    {
     "data": {
      "text/plain": [
       "'not28'"
      ]
     },
     "execution_count": 40,
     "metadata": {},
     "output_type": "execute_result"
    }
   ],
   "source": [
    "class Person():\n",
    "    def __init__(self,name,age):\n",
    "        self.name=name\n",
    "        self.age=\"not\"+str(age)\n",
    "    def say(self):\n",
    "        print(\"我叫\"+self.name+\",今年\"+str(self.age)+\"岁\")\n",
    "ed=Person(\"李\",28)\n",
    "ed.name\n",
    "ed.age"
   ]
  },
  {
   "cell_type": "code",
   "execution_count": 37,
   "metadata": {},
   "outputs": [
    {
     "name": "stdout",
     "output_type": "stream",
     "text": [
      "这是重写父类调用父类的函数定义，我是王同学,今年not30，是个大学生。\n",
      "多加了一个方法\n"
     ]
    }
   ],
   "source": [
    "class MDPerson(Person):\n",
    "    def __init__(self,name,age,dep=\"大学生\"):\n",
    "        super().__init__(name,age)##调用父类的方法\n",
    "        self.name=name+\"同学\"\n",
    "        self.age=self.age##调用父类的参数定义\n",
    "        self.dep=dep\n",
    "    def say(self):\n",
    "        print(\"这是重写父类调用父类的函数定义，我是%s,今年%s，是个%s。\"%(self.name,self.age,self.dep))\n",
    "    def diagnose(self):\n",
    "        print(\"多加了一个方法\")\n",
    "en=MDPerson(\"王\",30)\n",
    "en.say()\n",
    "en.diagnose()"
   ]
  },
  {
   "cell_type": "code",
   "execution_count": 41,
   "metadata": {},
   "outputs": [
    {
     "name": "stdout",
     "output_type": "stream",
     "text": [
      "我叫张,今年not99岁\n",
      "我叫张,今年not99岁\n"
     ]
    }
   ],
   "source": [
    "ed=Person(\"张\",99)\n",
    "ed.say()\n",
    "Person.say(ed)"
   ]
  },
  {
   "cell_type": "markdown",
   "metadata": {},
   "source": [
    "## property 私有的方法(封装)"
   ]
  },
  {
   "cell_type": "code",
   "execution_count": 42,
   "metadata": {},
   "outputs": [],
   "source": [
    "class Student():\n",
    "    def __init__(self,name):\n",
    "        self.hidden_name=name\n",
    "    def get_name(self):\n",
    "        print(\"取name的值\")\n",
    "        return self.hidden_name\n",
    "    def set_name(self,name):\n",
    "        print(\"存name的值\")\n",
    "        self.hidden_name=name\n",
    "    \n",
    "    name=property(get_name,set_name)"
   ]
  },
  {
   "cell_type": "code",
   "execution_count": 56,
   "metadata": {},
   "outputs": [
    {
     "name": "stdout",
     "output_type": "stream",
     "text": [
      "取name的值\n"
     ]
    },
    {
     "data": {
      "text/plain": [
       "'张'"
      ]
     },
     "execution_count": 56,
     "metadata": {},
     "output_type": "execute_result"
    },
    {
     "name": "stdout",
     "output_type": "stream",
     "text": [
      "存name的值\n",
      "取name的值\n"
     ]
    },
    {
     "data": {
      "text/plain": [
       "'候'"
      ]
     },
     "execution_count": 56,
     "metadata": {},
     "output_type": "execute_result"
    },
    {
     "name": "stdout",
     "output_type": "stream",
     "text": [
      "存name的值\n",
      "取name的值\n"
     ]
    },
    {
     "data": {
      "text/plain": [
       "'王'"
      ]
     },
     "execution_count": 56,
     "metadata": {},
     "output_type": "execute_result"
    }
   ],
   "source": [
    "s=Student(\"张\")\n",
    "s.get_name()\n",
    "s.set_name(\"候\")\n",
    "s.get_name()\n",
    "s.name =\"王\"\n",
    "s.name"
   ]
  },
  {
   "cell_type": "code",
   "execution_count": 63,
   "metadata": {},
   "outputs": [],
   "source": [
    "class Student():\n",
    "    def __init__(self,name):\n",
    "        self.hidden_name=name\n",
    "        \n",
    "    @property\n",
    "    def name(self):\n",
    "        print(\"取name的值\")\n",
    "        return self.hidden_name\n",
    "    \n",
    "    @name.setter\n",
    "    def name(self,name):\n",
    "        print(\"存name的值\")\n",
    "        self.hidden_name=name"
   ]
  },
  {
   "cell_type": "code",
   "execution_count": 70,
   "metadata": {},
   "outputs": [
    {
     "name": "stdout",
     "output_type": "stream",
     "text": [
      "取name的值\n"
     ]
    },
    {
     "data": {
      "text/plain": [
       "'张'"
      ]
     },
     "execution_count": 70,
     "metadata": {},
     "output_type": "execute_result"
    },
    {
     "name": "stdout",
     "output_type": "stream",
     "text": [
      "存name的值\n",
      "取name的值\n"
     ]
    },
    {
     "data": {
      "text/plain": [
       "'王'"
      ]
     },
     "execution_count": 70,
     "metadata": {},
     "output_type": "execute_result"
    }
   ],
   "source": [
    "s=Student(\"张\")\n",
    "s.name\n",
    "#s.name(\"候\")\n",
    "#s.name()\n",
    "s.name =\"王\"\n",
    "s.name"
   ]
  },
  {
   "cell_type": "markdown",
   "metadata": {},
   "source": [
    "\n",
    "#### __name 这是给内部使用的变量，不给外部使用\n",
    "```\n",
    "__name转变为_Student__name\n",
    "```"
   ]
  },
  {
   "cell_type": "code",
   "execution_count": 71,
   "metadata": {},
   "outputs": [],
   "source": [
    "class Student():\n",
    "    def __init__(self,name):\n",
    "        self.__name=name\n",
    "        \n",
    "    @property\n",
    "    def name(self):\n",
    "        print(\"取name的值\")\n",
    "        return self.__name\n",
    "    \n",
    "    @name.setter\n",
    "    def name(self,name):\n",
    "        print(\"存name的值\")\n",
    "        self.__name=name"
   ]
  },
  {
   "cell_type": "code",
   "execution_count": 75,
   "metadata": {},
   "outputs": [
    {
     "name": "stdout",
     "output_type": "stream",
     "text": [
      "取name的值\n"
     ]
    },
    {
     "data": {
      "text/plain": [
       "'张'"
      ]
     },
     "execution_count": 75,
     "metadata": {},
     "output_type": "execute_result"
    },
    {
     "name": "stdout",
     "output_type": "stream",
     "text": [
      "存name的值\n",
      "取name的值\n"
     ]
    },
    {
     "data": {
      "text/plain": [
       "'王'"
      ]
     },
     "execution_count": 75,
     "metadata": {},
     "output_type": "execute_result"
    },
    {
     "data": {
      "text/plain": [
       "'王'"
      ]
     },
     "execution_count": 75,
     "metadata": {},
     "output_type": "execute_result"
    }
   ],
   "source": [
    "s=Student(\"张\")\n",
    "s.name\n",
    "s.name =\"王\"\n",
    "s.name\n",
    "s._Student__name"
   ]
  },
  {
   "cell_type": "markdown",
   "metadata": {},
   "source": [
    "## class里面的方法带有@classmethod标记的，都属于class method"
   ]
  },
  {
   "cell_type": "code",
   "execution_count": 95,
   "metadata": {},
   "outputs": [],
   "source": [
    "class A():\n",
    "    count=0\n",
    "    \n",
    "    def __init__(self):\n",
    "        A.count +=1\n",
    "        \n",
    "    @classmethod\n",
    "    def kids(cls):\n",
    "        print(\"实例化第%s次\"%(cls.count))"
   ]
  },
  {
   "cell_type": "code",
   "execution_count": 96,
   "metadata": {},
   "outputs": [
    {
     "name": "stdout",
     "output_type": "stream",
     "text": [
      "实例化第0次\n"
     ]
    }
   ],
   "source": [
    "A.kids()"
   ]
  },
  {
   "cell_type": "code",
   "execution_count": 105,
   "metadata": {},
   "outputs": [
    {
     "name": "stdout",
     "output_type": "stream",
     "text": [
      "实例化第18次\n"
     ]
    }
   ],
   "source": [
    "a1=A()\n",
    "a2=A()\n",
    "A.kids()"
   ]
  },
  {
   "cell_type": "markdown",
   "metadata": {},
   "source": [
    "## class里面的方法带有@staticmethod，都属于staticmethod"
   ]
  },
  {
   "cell_type": "code",
   "execution_count": 106,
   "metadata": {},
   "outputs": [
    {
     "name": "stdout",
     "output_type": "stream",
     "text": [
      "我是static method\n"
     ]
    }
   ],
   "source": [
    "class A():\n",
    "    count=0\n",
    "    \n",
    "    def __init__(self):\n",
    "        A.count +=1\n",
    "        \n",
    "    @classmethod\n",
    "    def kids(cls):\n",
    "        print(\"实例化第%s次\"%(cls.count))\n",
    "        \n",
    "    @staticmethod\n",
    "    def whomai():\n",
    "        print(\"我是static method\")\n",
    "\n",
    "A.whomai()"
   ]
  },
  {
   "cell_type": "markdown",
   "metadata": {},
   "source": [
    "##  instance method，class method，static method "
   ]
  },
  {
   "cell_type": "code",
   "execution_count": 108,
   "metadata": {},
   "outputs": [],
   "source": [
    "class Date(object):\n",
    "    def __init__(self,day=0,month=0,year=0):\n",
    "        self.day=day\n",
    "        self.month=month\n",
    "        self.year=year\n",
    "        \n",
    "    @classmethod\n",
    "    def from_string(cls,date_sa_string):\n",
    "        day,month,year=map(int,date_sa_string.split(\"-\"))\n",
    "        date1=cls(day,month,year)#cls 会去调用 __init__方法进行赋值\n",
    "        return date1\n",
    "    \n",
    "    @staticmethod##一般作为效验使用\n",
    "    def is_date_valid(date_sa_string):\n",
    "        day,month,year=map(int,date_sa_string.split(\"-\"))\n",
    "        return day<=31 and month<=12 and year<=9999\n",
    "    \n",
    "date2=Date.from_string(\"18-12-1989\")\n",
    "is_date=Date.is_date_valid(\"11-11-1997\")"
   ]
  },
  {
   "cell_type": "markdown",
   "metadata": {},
   "source": [
    "## 多态"
   ]
  },
  {
   "cell_type": "code",
   "execution_count": 109,
   "metadata": {},
   "outputs": [],
   "source": [
    "class Qupte():\n",
    "    def __init__(self,person,words):\n",
    "        self.person=person\n",
    "        self.words=words\n",
    "    def who(self):\n",
    "        return self.person\n",
    "    def says(self):\n",
    "        return self.words+\".\"\n",
    "\n",
    "class QuestionQuote(Qupte):\n",
    "    def says(self):\n",
    "        return self.words+\"?\"\n",
    "    \n",
    "class ExQuote(Qupte):\n",
    "    def says(self):\n",
    "        return self.words+\"!\""
   ]
  },
  {
   "cell_type": "code",
   "execution_count": 110,
   "metadata": {},
   "outputs": [],
   "source": [
    "def who_says(obj):\n",
    "    print(obj.who(),\"says:\",obj.says())"
   ]
  },
  {
   "cell_type": "code",
   "execution_count": 112,
   "metadata": {},
   "outputs": [],
   "source": [
    "q1=Qupte(\"Ed\",\"原始方法\")\n",
    "q2=QuestionQuote(\"As\",\"多态？\")\n",
    "q3=ExQuote(\"Bz\",\"多态！\")\n",
    "\n",
    "q=[q1,q2,q3]"
   ]
  },
  {
   "cell_type": "code",
   "execution_count": 115,
   "metadata": {},
   "outputs": [
    {
     "name": "stdout",
     "output_type": "stream",
     "text": [
      "Ed says: 原始方法.\n",
      "As says: 多态？?\n",
      "Bz says: 多态！!\n"
     ]
    }
   ],
   "source": [
    "for i in q:\n",
    "    who_says(i)"
   ]
  },
  {
   "cell_type": "code",
   "execution_count": null,
   "metadata": {},
   "outputs": [],
   "source": []
  },
  {
   "cell_type": "code",
   "execution_count": null,
   "metadata": {},
   "outputs": [],
   "source": []
  },
  {
   "cell_type": "code",
   "execution_count": null,
   "metadata": {},
   "outputs": [],
   "source": []
  },
  {
   "cell_type": "code",
   "execution_count": null,
   "metadata": {},
   "outputs": [],
   "source": []
  },
  {
   "cell_type": "code",
   "execution_count": null,
   "metadata": {},
   "outputs": [],
   "source": []
  }
 ],
 "metadata": {
  "kernelspec": {
   "display_name": "Python 3",
   "language": "python",
   "name": "python3"
  },
  "language_info": {
   "codemirror_mode": {
    "name": "ipython",
    "version": 3
   },
   "file_extension": ".py",
   "mimetype": "text/x-python",
   "name": "python",
   "nbconvert_exporter": "python",
   "pygments_lexer": "ipython3",
   "version": "3.7.3"
  }
 },
 "nbformat": 4,
 "nbformat_minor": 2
}
